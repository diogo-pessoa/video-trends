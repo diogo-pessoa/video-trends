{
 "cells": [
  {
   "cell_type": "markdown",
   "source": [
    "Supervisor Process to manage the workers.\n",
    "---\n",
    "Diogo Pessoa\n",
    "\n",
    "Workers in this contexts are other Jupyter notebooks with smaller scope of work.\n"
   ],
   "metadata": {
    "collapsed": false
   }
  },
  {
   "cell_type": "code",
   "outputs": [],
   "source": [
    "import pandas as pd\n",
    "\n",
    "combined_data = pd.read_csv('combined_data.csv').set_index('video_id')\n",
    "label = combined_data['label']\n",
    "features = combined_data.drop(['label'], axis=1)"
   ],
   "metadata": {
    "collapsed": false,
    "ExecuteTime": {
     "end_time": "2024-02-16T15:23:20.917850Z",
     "start_time": "2024-02-16T15:23:19.604223Z"
    }
   },
   "execution_count": 2
  },
  {
   "cell_type": "markdown",
   "source": [],
   "metadata": {
    "collapsed": false
   }
  },
  {
   "cell_type": "code",
   "outputs": [],
   "source": [],
   "metadata": {
    "collapsed": false
   }
  }
 ],
 "metadata": {
  "kernelspec": {
   "display_name": "Python 3",
   "language": "python",
   "name": "python3"
  },
  "language_info": {
   "codemirror_mode": {
    "name": "ipython",
    "version": 2
   },
   "file_extension": ".py",
   "mimetype": "text/x-python",
   "name": "python",
   "nbconvert_exporter": "python",
   "pygments_lexer": "ipython2",
   "version": "2.7.6"
  }
 },
 "nbformat": 4,
 "nbformat_minor": 0
}
