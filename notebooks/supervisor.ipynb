{
 "cells": [
  {
   "cell_type": "markdown",
   "source": [
    "Supervisor Process to manage the workers.\n",
    "---\n",
    "Diogo Pessoa\n",
    "\n",
    "Workers in this contexts are other Jupyter notebooks with smaller scope of work.\n"
   ],
   "metadata": {
    "collapsed": false
   }
  },
  {
   "cell_type": "code",
   "outputs": [
    {
     "name": "stdout",
     "output_type": "stream",
     "text": [
      "Data loaded:\n",
      "- x_train_sc: Scaled training features.\n",
      "- x_test_sc: Scaled testing features.\n",
      "- x_train - Training features.\n",
      "- x_test - Testing features.\n",
      "- y_train - Training labels.\n",
      "- y_test - Testing labels.\n"
     ]
    }
   ],
   "source": [
    "data_file = 'combined_data.csv' # Load variable so data_loader can locale the csv filesystem path accordingly.\n",
    "%run data_loader.ipynb "
   ],
   "metadata": {
    "collapsed": false,
    "ExecuteTime": {
     "end_time": "2024-02-18T13:33:18.647159Z",
     "start_time": "2024-02-18T13:33:15.395027Z"
    }
   },
   "execution_count": 2
  },
  {
   "cell_type": "code",
   "outputs": [
    {
     "name": "stdout",
     "output_type": "stream",
     "text": [
      "PCA applied to the training and testing features:\n",
      "- x_train_pca_Trans_sc: Scaled training features.\n",
      "- x_test_pca_Trans_sc: Scaled testing features.\n",
      "- x_train_pca_Trans - Training features.\n",
      "- x_test_pca_Trans - Testing features.\n"
     ]
    }
   ],
   "source": [
    "%run FeatureEngineering/PCA.ipynb"
   ],
   "metadata": {
    "collapsed": false,
    "ExecuteTime": {
     "end_time": "2024-02-18T13:33:49.049459Z",
     "start_time": "2024-02-18T13:33:48.110795Z"
    }
   },
   "execution_count": 4
  },
  {
   "cell_type": "code",
   "outputs": [],
   "source": [],
   "metadata": {
    "collapsed": false
   }
  }
 ],
 "metadata": {
  "kernelspec": {
   "display_name": "Python 3",
   "language": "python",
   "name": "python3"
  },
  "language_info": {
   "codemirror_mode": {
    "name": "ipython",
    "version": 2
   },
   "file_extension": ".py",
   "mimetype": "text/x-python",
   "name": "python",
   "nbconvert_exporter": "python",
   "pygments_lexer": "ipython2",
   "version": "2.7.6"
  }
 },
 "nbformat": 4,
 "nbformat_minor": 0
}
