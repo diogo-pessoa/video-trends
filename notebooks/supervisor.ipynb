{
 "cells": [
  {
   "cell_type": "markdown",
   "source": [
    "Supervisor Process to manage the workers.\n",
    "---\n",
    "Diogo Pessoa\n",
    "\n",
    "Workers in this contexts are other Jupyter notebooks with smaller scope of work.\n"
   ],
   "metadata": {
    "collapsed": false
   }
  },
  {
   "cell_type": "code",
   "outputs": [
    {
     "name": "stdout",
     "output_type": "stream",
     "text": [
      "Data loaded:\n",
      "- features: All features.\n",
      "- label: label (views_log).\n",
      "- x_train_sc: Scaled training features.\n",
      "- x_test_sc: Scaled testing features.\n",
      "- x_train - Training features.\n",
      "- x_test - Testing features.\n",
      "- y_train - Training labels.\n",
      "- y_test - Testing labels.\n"
     ]
    }
   ],
   "source": [
    "import matplotlib.pyplot as plt\n",
    "\n",
    "data_file = 'combined_data.csv'  # Load variable so data_loader can locale the csv filesystem path accordingly.\n",
    "%run data_loader.ipynb "
   ],
   "metadata": {
    "collapsed": false,
    "ExecuteTime": {
     "end_time": "2024-02-25T19:49:05.490353Z",
     "start_time": "2024-02-25T19:49:03.377124Z"
    }
   },
   "execution_count": 23
  },
  {
   "cell_type": "code",
   "outputs": [
    {
     "data": {
      "text/plain": "             comments_disabled  ratings_disabled  video_error_or_removed  \\\nvideo_id                                                                   \nkzwfHumJyYc              False             False                   False   \nzUZ1z7FwLc8               True             False                   False   \n10L1hZ9qa58              False             False                   False   \n\n             likes_log      label  dislikes_log  comment_log  num_tags  \\\nvideo_id                                                                 \nkzwfHumJyYc  10.433145  13.907477      6.683361     6.783325        15   \nzUZ1z7FwLc8   6.601230  13.288051      6.807935     0.000000        19   \n10L1hZ9qa58   7.606885  13.068939      5.497168     5.010635        14   \n\n             desc_len  len_title  ...  category_Sports  category_Trailers  \\\nvideo_id                          ...                                       \nkzwfHumJyYc       920         81  ...            False              False   \nzUZ1z7FwLc8      2232         58  ...            False              False   \n10L1hZ9qa58       482         58  ...            False              False   \n\n             category_Travel & Events  publish_weekday_1  publish_weekday_2  \\\nvideo_id                                                                      \nkzwfHumJyYc                     False              False              False   \nzUZ1z7FwLc8                     False               True              False   \n10L1hZ9qa58                     False              False              False   \n\n             publish_weekday_3  publish_weekday_4  publish_weekday_5  \\\nvideo_id                                                               \nkzwfHumJyYc              False              False              False   \nzUZ1z7FwLc8              False              False              False   \n10L1hZ9qa58              False              False              False   \n\n             publish_weekday_6  publish_weekday_7  \nvideo_id                                           \nkzwfHumJyYc              False               True  \nzUZ1z7FwLc8              False              False  \n10L1hZ9qa58              False               True  \n\n[3 rows x 39 columns]",
      "text/html": "<div>\n<style scoped>\n    .dataframe tbody tr th:only-of-type {\n        vertical-align: middle;\n    }\n\n    .dataframe tbody tr th {\n        vertical-align: top;\n    }\n\n    .dataframe thead th {\n        text-align: right;\n    }\n</style>\n<table border=\"1\" class=\"dataframe\">\n  <thead>\n    <tr style=\"text-align: right;\">\n      <th></th>\n      <th>comments_disabled</th>\n      <th>ratings_disabled</th>\n      <th>video_error_or_removed</th>\n      <th>likes_log</th>\n      <th>label</th>\n      <th>dislikes_log</th>\n      <th>comment_log</th>\n      <th>num_tags</th>\n      <th>desc_len</th>\n      <th>len_title</th>\n      <th>...</th>\n      <th>category_Sports</th>\n      <th>category_Trailers</th>\n      <th>category_Travel &amp; Events</th>\n      <th>publish_weekday_1</th>\n      <th>publish_weekday_2</th>\n      <th>publish_weekday_3</th>\n      <th>publish_weekday_4</th>\n      <th>publish_weekday_5</th>\n      <th>publish_weekday_6</th>\n      <th>publish_weekday_7</th>\n    </tr>\n    <tr>\n      <th>video_id</th>\n      <th></th>\n      <th></th>\n      <th></th>\n      <th></th>\n      <th></th>\n      <th></th>\n      <th></th>\n      <th></th>\n      <th></th>\n      <th></th>\n      <th></th>\n      <th></th>\n      <th></th>\n      <th></th>\n      <th></th>\n      <th></th>\n      <th></th>\n      <th></th>\n      <th></th>\n      <th></th>\n      <th></th>\n    </tr>\n  </thead>\n  <tbody>\n    <tr>\n      <th>kzwfHumJyYc</th>\n      <td>False</td>\n      <td>False</td>\n      <td>False</td>\n      <td>10.433145</td>\n      <td>13.907477</td>\n      <td>6.683361</td>\n      <td>6.783325</td>\n      <td>15</td>\n      <td>920</td>\n      <td>81</td>\n      <td>...</td>\n      <td>False</td>\n      <td>False</td>\n      <td>False</td>\n      <td>False</td>\n      <td>False</td>\n      <td>False</td>\n      <td>False</td>\n      <td>False</td>\n      <td>False</td>\n      <td>True</td>\n    </tr>\n    <tr>\n      <th>zUZ1z7FwLc8</th>\n      <td>True</td>\n      <td>False</td>\n      <td>False</td>\n      <td>6.601230</td>\n      <td>13.288051</td>\n      <td>6.807935</td>\n      <td>0.000000</td>\n      <td>19</td>\n      <td>2232</td>\n      <td>58</td>\n      <td>...</td>\n      <td>False</td>\n      <td>False</td>\n      <td>False</td>\n      <td>True</td>\n      <td>False</td>\n      <td>False</td>\n      <td>False</td>\n      <td>False</td>\n      <td>False</td>\n      <td>False</td>\n    </tr>\n    <tr>\n      <th>10L1hZ9qa58</th>\n      <td>False</td>\n      <td>False</td>\n      <td>False</td>\n      <td>7.606885</td>\n      <td>13.068939</td>\n      <td>5.497168</td>\n      <td>5.010635</td>\n      <td>14</td>\n      <td>482</td>\n      <td>58</td>\n      <td>...</td>\n      <td>False</td>\n      <td>False</td>\n      <td>False</td>\n      <td>False</td>\n      <td>False</td>\n      <td>False</td>\n      <td>False</td>\n      <td>False</td>\n      <td>False</td>\n      <td>True</td>\n    </tr>\n  </tbody>\n</table>\n<p>3 rows × 39 columns</p>\n</div>"
     },
     "execution_count": 24,
     "metadata": {},
     "output_type": "execute_result"
    }
   ],
   "source": [
    "combined_data.head(3)"
   ],
   "metadata": {
    "collapsed": false,
    "ExecuteTime": {
     "end_time": "2024-02-25T19:49:05.514856Z",
     "start_time": "2024-02-25T19:49:05.493990Z"
    }
   },
   "execution_count": 24
  },
  {
   "cell_type": "code",
   "outputs": [
    {
     "data": {
      "text/plain": "                       Column Name Data Type\n0                comments_disabled      bool\n1                 ratings_disabled      bool\n2           video_error_or_removed      bool\n3                        likes_log   float64\n4                            label   float64\n5                     dislikes_log   float64\n6                      comment_log   float64\n7                         num_tags     int64\n8                         desc_len     int64\n9                        len_title     int64\n10                      country_CA      bool\n11                      country_FR      bool\n12                      country_IN      bool\n13                      country_US      bool\n14       category_Autos & Vehicles      bool\n15                 category_Comedy      bool\n16              category_Education      bool\n17          category_Entertainment      bool\n18       category_Film & Animation      bool\n19                 category_Gaming      bool\n20          category_Howto & Style      bool\n21                 category_Movies      bool\n22                  category_Music      bool\n23        category_News & Politics      bool\n24  category_Nonprofits & Activism      bool\n25         category_People & Blogs      bool\n26         category_Pets & Animals      bool\n27   category_Science & Technology      bool\n28                  category_Shows      bool\n29                 category_Sports      bool\n30               category_Trailers      bool\n31        category_Travel & Events      bool\n32               publish_weekday_1      bool\n33               publish_weekday_2      bool\n34               publish_weekday_3      bool\n35               publish_weekday_4      bool\n36               publish_weekday_5      bool\n37               publish_weekday_6      bool\n38               publish_weekday_7      bool",
      "text/html": "<div>\n<style scoped>\n    .dataframe tbody tr th:only-of-type {\n        vertical-align: middle;\n    }\n\n    .dataframe tbody tr th {\n        vertical-align: top;\n    }\n\n    .dataframe thead th {\n        text-align: right;\n    }\n</style>\n<table border=\"1\" class=\"dataframe\">\n  <thead>\n    <tr style=\"text-align: right;\">\n      <th></th>\n      <th>Column Name</th>\n      <th>Data Type</th>\n    </tr>\n  </thead>\n  <tbody>\n    <tr>\n      <th>0</th>\n      <td>comments_disabled</td>\n      <td>bool</td>\n    </tr>\n    <tr>\n      <th>1</th>\n      <td>ratings_disabled</td>\n      <td>bool</td>\n    </tr>\n    <tr>\n      <th>2</th>\n      <td>video_error_or_removed</td>\n      <td>bool</td>\n    </tr>\n    <tr>\n      <th>3</th>\n      <td>likes_log</td>\n      <td>float64</td>\n    </tr>\n    <tr>\n      <th>4</th>\n      <td>label</td>\n      <td>float64</td>\n    </tr>\n    <tr>\n      <th>5</th>\n      <td>dislikes_log</td>\n      <td>float64</td>\n    </tr>\n    <tr>\n      <th>6</th>\n      <td>comment_log</td>\n      <td>float64</td>\n    </tr>\n    <tr>\n      <th>7</th>\n      <td>num_tags</td>\n      <td>int64</td>\n    </tr>\n    <tr>\n      <th>8</th>\n      <td>desc_len</td>\n      <td>int64</td>\n    </tr>\n    <tr>\n      <th>9</th>\n      <td>len_title</td>\n      <td>int64</td>\n    </tr>\n    <tr>\n      <th>10</th>\n      <td>country_CA</td>\n      <td>bool</td>\n    </tr>\n    <tr>\n      <th>11</th>\n      <td>country_FR</td>\n      <td>bool</td>\n    </tr>\n    <tr>\n      <th>12</th>\n      <td>country_IN</td>\n      <td>bool</td>\n    </tr>\n    <tr>\n      <th>13</th>\n      <td>country_US</td>\n      <td>bool</td>\n    </tr>\n    <tr>\n      <th>14</th>\n      <td>category_Autos &amp; Vehicles</td>\n      <td>bool</td>\n    </tr>\n    <tr>\n      <th>15</th>\n      <td>category_Comedy</td>\n      <td>bool</td>\n    </tr>\n    <tr>\n      <th>16</th>\n      <td>category_Education</td>\n      <td>bool</td>\n    </tr>\n    <tr>\n      <th>17</th>\n      <td>category_Entertainment</td>\n      <td>bool</td>\n    </tr>\n    <tr>\n      <th>18</th>\n      <td>category_Film &amp; Animation</td>\n      <td>bool</td>\n    </tr>\n    <tr>\n      <th>19</th>\n      <td>category_Gaming</td>\n      <td>bool</td>\n    </tr>\n    <tr>\n      <th>20</th>\n      <td>category_Howto &amp; Style</td>\n      <td>bool</td>\n    </tr>\n    <tr>\n      <th>21</th>\n      <td>category_Movies</td>\n      <td>bool</td>\n    </tr>\n    <tr>\n      <th>22</th>\n      <td>category_Music</td>\n      <td>bool</td>\n    </tr>\n    <tr>\n      <th>23</th>\n      <td>category_News &amp; Politics</td>\n      <td>bool</td>\n    </tr>\n    <tr>\n      <th>24</th>\n      <td>category_Nonprofits &amp; Activism</td>\n      <td>bool</td>\n    </tr>\n    <tr>\n      <th>25</th>\n      <td>category_People &amp; Blogs</td>\n      <td>bool</td>\n    </tr>\n    <tr>\n      <th>26</th>\n      <td>category_Pets &amp; Animals</td>\n      <td>bool</td>\n    </tr>\n    <tr>\n      <th>27</th>\n      <td>category_Science &amp; Technology</td>\n      <td>bool</td>\n    </tr>\n    <tr>\n      <th>28</th>\n      <td>category_Shows</td>\n      <td>bool</td>\n    </tr>\n    <tr>\n      <th>29</th>\n      <td>category_Sports</td>\n      <td>bool</td>\n    </tr>\n    <tr>\n      <th>30</th>\n      <td>category_Trailers</td>\n      <td>bool</td>\n    </tr>\n    <tr>\n      <th>31</th>\n      <td>category_Travel &amp; Events</td>\n      <td>bool</td>\n    </tr>\n    <tr>\n      <th>32</th>\n      <td>publish_weekday_1</td>\n      <td>bool</td>\n    </tr>\n    <tr>\n      <th>33</th>\n      <td>publish_weekday_2</td>\n      <td>bool</td>\n    </tr>\n    <tr>\n      <th>34</th>\n      <td>publish_weekday_3</td>\n      <td>bool</td>\n    </tr>\n    <tr>\n      <th>35</th>\n      <td>publish_weekday_4</td>\n      <td>bool</td>\n    </tr>\n    <tr>\n      <th>36</th>\n      <td>publish_weekday_5</td>\n      <td>bool</td>\n    </tr>\n    <tr>\n      <th>37</th>\n      <td>publish_weekday_6</td>\n      <td>bool</td>\n    </tr>\n    <tr>\n      <th>38</th>\n      <td>publish_weekday_7</td>\n      <td>bool</td>\n    </tr>\n  </tbody>\n</table>\n</div>"
     },
     "execution_count": 25,
     "metadata": {},
     "output_type": "execute_result"
    }
   ],
   "source": [
    "import pandas as pd\n",
    "\n",
    "# Assuming combined_data is your DataFrame\n",
    "# Create a DataFrame to hold column names and data types\n",
    "dtypes_df = pd.DataFrame(combined_data.dtypes, columns=['Data Type'])\n",
    "dtypes_df.index.name = 'Column Name'\n",
    "dtypes_df.reset_index(inplace=True)\n",
    "\n",
    "# Display the DataFrame\n",
    "dtypes_df"
   ],
   "metadata": {
    "collapsed": false,
    "ExecuteTime": {
     "end_time": "2024-02-25T19:49:05.529585Z",
     "start_time": "2024-02-25T19:49:05.516303Z"
    }
   },
   "execution_count": 25
  },
  {
   "cell_type": "code",
   "outputs": [
    {
     "data": {
      "text/plain": "Column Name\ncomments_disabled                    bool\nratings_disabled                     bool\nvideo_error_or_removed               bool\nlikes_log                         float64\nlabel                             float64\ndislikes_log                      float64\ncomment_log                       float64\nnum_tags                            int64\ndesc_len                            int64\nlen_title                           int64\ncountry_CA                           bool\ncountry_FR                           bool\ncountry_IN                           bool\ncountry_US                           bool\ncategory_Autos & Vehicles            bool\ncategory_Comedy                      bool\ncategory_Education                   bool\ncategory_Entertainment               bool\ncategory_Film & Animation            bool\ncategory_Gaming                      bool\ncategory_Howto & Style               bool\ncategory_Movies                      bool\ncategory_Music                       bool\ncategory_News & Politics             bool\ncategory_Nonprofits & Activism       bool\ncategory_People & Blogs              bool\ncategory_Pets & Animals              bool\ncategory_Science & Technology        bool\ncategory_Shows                       bool\ncategory_Sports                      bool\ncategory_Trailers                    bool\ncategory_Travel & Events             bool\npublish_weekday_1                    bool\npublish_weekday_2                    bool\npublish_weekday_3                    bool\npublish_weekday_4                    bool\npublish_weekday_5                    bool\npublish_weekday_6                    bool\npublish_weekday_7                    bool\ndtype: object"
     },
     "execution_count": 26,
     "metadata": {},
     "output_type": "execute_result"
    }
   ],
   "source": [
    "combined_data.dtypes"
   ],
   "metadata": {
    "collapsed": false,
    "ExecuteTime": {
     "end_time": "2024-02-25T19:49:05.540441Z",
     "start_time": "2024-02-25T19:49:05.532834Z"
    }
   },
   "execution_count": 26
  },
  {
   "cell_type": "code",
   "outputs": [
    {
     "name": "stdout",
     "output_type": "stream",
     "text": [
      "PCA applied to the training and testing features:\n",
      "- x_train_pca_Trans_sc: Scaled training features.\n",
      "- x_test_pca_Trans_sc: Scaled testing features.\n",
      "- x_train_pca_Trans - Training features.\n",
      "- x_test_pca_Trans - Testing features.\n"
     ]
    }
   ],
   "source": [
    "%run FeatureEngineering/PCA.ipynb # Using 34 components as optmized by the PCA on initial Notebook"
   ],
   "metadata": {
    "collapsed": false,
    "ExecuteTime": {
     "end_time": "2024-02-25T19:49:06.506366Z",
     "start_time": "2024-02-25T19:49:05.541873Z"
    }
   },
   "execution_count": 27
  },
  {
   "cell_type": "code",
   "outputs": [
    {
     "ename": "Exception",
     "evalue": "File `'../data_loader.ipynb'` not found.",
     "output_type": "error",
     "traceback": [
      "\u001B[0;31m---------------------------------------------------------------------------\u001B[0m",
      "\u001B[0;31mOSError\u001B[0m                                   Traceback (most recent call last)",
      "File \u001B[0;32m~/code/video-trends/venv/lib/python3.9/site-packages/IPython/core/magics/execution.py:716\u001B[0m, in \u001B[0;36mExecutionMagics.run\u001B[0;34m(self, parameter_s, runner, file_finder)\u001B[0m\n\u001B[1;32m    715\u001B[0m     fpath \u001B[38;5;241m=\u001B[39m arg_lst[\u001B[38;5;241m0\u001B[39m]\n\u001B[0;32m--> 716\u001B[0m     filename \u001B[38;5;241m=\u001B[39m \u001B[43mfile_finder\u001B[49m\u001B[43m(\u001B[49m\u001B[43mfpath\u001B[49m\u001B[43m)\u001B[49m\n\u001B[1;32m    717\u001B[0m \u001B[38;5;28;01mexcept\u001B[39;00m \u001B[38;5;167;01mIndexError\u001B[39;00m \u001B[38;5;28;01mas\u001B[39;00m e:\n",
      "File \u001B[0;32m~/code/video-trends/venv/lib/python3.9/site-packages/IPython/utils/path.py:90\u001B[0m, in \u001B[0;36mget_py_filename\u001B[0;34m(name)\u001B[0m\n\u001B[1;32m     89\u001B[0m         \u001B[38;5;28;01mreturn\u001B[39;00m py_name\n\u001B[0;32m---> 90\u001B[0m \u001B[38;5;28;01mraise\u001B[39;00m \u001B[38;5;167;01mIOError\u001B[39;00m(\u001B[38;5;124m\"\u001B[39m\u001B[38;5;124mFile `\u001B[39m\u001B[38;5;132;01m%r\u001B[39;00m\u001B[38;5;124m` not found.\u001B[39m\u001B[38;5;124m\"\u001B[39m \u001B[38;5;241m%\u001B[39m name)\n",
      "\u001B[0;31mOSError\u001B[0m: File `'../data_loader.ipynb'` not found.",
      "\nThe above exception was the direct cause of the following exception:\n",
      "\u001B[0;31mException\u001B[0m                                 Traceback (most recent call last)",
      "File \u001B[0;32m/var/folders/s_/6d26m9ld7d1bdywv1jdxvg500000gp/T/ipykernel_21429/2000032398.py:2\u001B[0m\n\u001B[1;32m      1\u001B[0m data_file \u001B[38;5;241m=\u001B[39m \u001B[38;5;124m'\u001B[39m\u001B[38;5;124m../combined_data.csv\u001B[39m\u001B[38;5;124m'\u001B[39m  \u001B[38;5;66;03m# Load variable so data_loader can locale the csv filesystem path accordingly.\u001B[39;00m\n\u001B[0;32m----> 2\u001B[0m \u001B[43mget_ipython\u001B[49m\u001B[43m(\u001B[49m\u001B[43m)\u001B[49m\u001B[38;5;241;43m.\u001B[39;49m\u001B[43mrun_line_magic\u001B[49m\u001B[43m(\u001B[49m\u001B[38;5;124;43m'\u001B[39;49m\u001B[38;5;124;43mrun\u001B[39;49m\u001B[38;5;124;43m'\u001B[39;49m\u001B[43m,\u001B[49m\u001B[43m \u001B[49m\u001B[38;5;124;43m'\u001B[39;49m\u001B[38;5;124;43m../data_loader.ipynb\u001B[39;49m\u001B[38;5;124;43m'\u001B[39;49m\u001B[43m)\u001B[49m\n",
      "File \u001B[0;32m~/code/video-trends/venv/lib/python3.9/site-packages/IPython/core/interactiveshell.py:2456\u001B[0m, in \u001B[0;36mInteractiveShell.run_line_magic\u001B[0;34m(self, magic_name, line, _stack_depth)\u001B[0m\n\u001B[1;32m   2454\u001B[0m     kwargs[\u001B[38;5;124m'\u001B[39m\u001B[38;5;124mlocal_ns\u001B[39m\u001B[38;5;124m'\u001B[39m] \u001B[38;5;241m=\u001B[39m \u001B[38;5;28mself\u001B[39m\u001B[38;5;241m.\u001B[39mget_local_scope(stack_depth)\n\u001B[1;32m   2455\u001B[0m \u001B[38;5;28;01mwith\u001B[39;00m \u001B[38;5;28mself\u001B[39m\u001B[38;5;241m.\u001B[39mbuiltin_trap:\n\u001B[0;32m-> 2456\u001B[0m     result \u001B[38;5;241m=\u001B[39m \u001B[43mfn\u001B[49m\u001B[43m(\u001B[49m\u001B[38;5;241;43m*\u001B[39;49m\u001B[43margs\u001B[49m\u001B[43m,\u001B[49m\u001B[43m \u001B[49m\u001B[38;5;241;43m*\u001B[39;49m\u001B[38;5;241;43m*\u001B[39;49m\u001B[43mkwargs\u001B[49m\u001B[43m)\u001B[49m\n\u001B[1;32m   2458\u001B[0m \u001B[38;5;66;03m# The code below prevents the output from being displayed\u001B[39;00m\n\u001B[1;32m   2459\u001B[0m \u001B[38;5;66;03m# when using magics with decorator @output_can_be_silenced\u001B[39;00m\n\u001B[1;32m   2460\u001B[0m \u001B[38;5;66;03m# when the last Python token in the expression is a ';'.\u001B[39;00m\n\u001B[1;32m   2461\u001B[0m \u001B[38;5;28;01mif\u001B[39;00m \u001B[38;5;28mgetattr\u001B[39m(fn, magic\u001B[38;5;241m.\u001B[39mMAGIC_OUTPUT_CAN_BE_SILENCED, \u001B[38;5;28;01mFalse\u001B[39;00m):\n",
      "File \u001B[0;32m~/code/video-trends/venv/lib/python3.9/site-packages/IPython/core/magics/execution.py:727\u001B[0m, in \u001B[0;36mExecutionMagics.run\u001B[0;34m(self, parameter_s, runner, file_finder)\u001B[0m\n\u001B[1;32m    725\u001B[0m     \u001B[38;5;28;01mif\u001B[39;00m os\u001B[38;5;241m.\u001B[39mname \u001B[38;5;241m==\u001B[39m \u001B[38;5;124m'\u001B[39m\u001B[38;5;124mnt\u001B[39m\u001B[38;5;124m'\u001B[39m \u001B[38;5;129;01mand\u001B[39;00m re\u001B[38;5;241m.\u001B[39mmatch(\u001B[38;5;124mr\u001B[39m\u001B[38;5;124m\"\u001B[39m\u001B[38;5;124m^\u001B[39m\u001B[38;5;124m'\u001B[39m\u001B[38;5;124m.*\u001B[39m\u001B[38;5;124m'\u001B[39m\u001B[38;5;124m$\u001B[39m\u001B[38;5;124m\"\u001B[39m,fpath):\n\u001B[1;32m    726\u001B[0m         warn(\u001B[38;5;124m'\u001B[39m\u001B[38;5;124mFor Windows, use double quotes to wrap a filename: \u001B[39m\u001B[38;5;132;01m%r\u001B[39;00m\u001B[38;5;124mun \u001B[39m\u001B[38;5;124m\"\u001B[39m\u001B[38;5;124mmypath\u001B[39m\u001B[38;5;130;01m\\\\\u001B[39;00m\u001B[38;5;124mmyfile.py\u001B[39m\u001B[38;5;124m\"\u001B[39m\u001B[38;5;124m'\u001B[39m)\n\u001B[0;32m--> 727\u001B[0m     \u001B[38;5;28;01mraise\u001B[39;00m \u001B[38;5;167;01mException\u001B[39;00m(msg) \u001B[38;5;28;01mfrom\u001B[39;00m \u001B[38;5;21;01me\u001B[39;00m\n\u001B[1;32m    728\u001B[0m \u001B[38;5;28;01mexcept\u001B[39;00m \u001B[38;5;167;01mTypeError\u001B[39;00m:\n\u001B[1;32m    729\u001B[0m     \u001B[38;5;28;01mif\u001B[39;00m fpath \u001B[38;5;129;01min\u001B[39;00m sys\u001B[38;5;241m.\u001B[39mmeta_path:\n",
      "\u001B[0;31mException\u001B[0m: File `'../data_loader.ipynb'` not found."
     ]
    },
    {
     "ename": "Exception",
     "evalue": "File `'../data_loader.ipynb'` not found.",
     "output_type": "error",
     "traceback": [
      "\u001B[0;31m---------------------------------------------------------------------------\u001B[0m",
      "\u001B[0;31mOSError\u001B[0m                                   Traceback (most recent call last)",
      "File \u001B[0;32m~/code/video-trends/venv/lib/python3.9/site-packages/IPython/core/magics/execution.py:716\u001B[0m, in \u001B[0;36mExecutionMagics.run\u001B[0;34m(self, parameter_s, runner, file_finder)\u001B[0m\n\u001B[1;32m    715\u001B[0m     fpath \u001B[38;5;241m=\u001B[39m arg_lst[\u001B[38;5;241m0\u001B[39m]\n\u001B[0;32m--> 716\u001B[0m     filename \u001B[38;5;241m=\u001B[39m \u001B[43mfile_finder\u001B[49m\u001B[43m(\u001B[49m\u001B[43mfpath\u001B[49m\u001B[43m)\u001B[49m\n\u001B[1;32m    717\u001B[0m \u001B[38;5;28;01mexcept\u001B[39;00m \u001B[38;5;167;01mIndexError\u001B[39;00m \u001B[38;5;28;01mas\u001B[39;00m e:\n",
      "File \u001B[0;32m~/code/video-trends/venv/lib/python3.9/site-packages/IPython/utils/path.py:90\u001B[0m, in \u001B[0;36mget_py_filename\u001B[0;34m(name)\u001B[0m\n\u001B[1;32m     89\u001B[0m         \u001B[38;5;28;01mreturn\u001B[39;00m py_name\n\u001B[0;32m---> 90\u001B[0m \u001B[38;5;28;01mraise\u001B[39;00m \u001B[38;5;167;01mIOError\u001B[39;00m(\u001B[38;5;124m\"\u001B[39m\u001B[38;5;124mFile `\u001B[39m\u001B[38;5;132;01m%r\u001B[39;00m\u001B[38;5;124m` not found.\u001B[39m\u001B[38;5;124m\"\u001B[39m \u001B[38;5;241m%\u001B[39m name)\n",
      "\u001B[0;31mOSError\u001B[0m: File `'../data_loader.ipynb'` not found.",
      "\nThe above exception was the direct cause of the following exception:\n",
      "\u001B[0;31mException\u001B[0m                                 Traceback (most recent call last)",
      "Cell \u001B[0;32mIn[28], line 2\u001B[0m\n\u001B[1;32m      1\u001B[0m \u001B[38;5;66;03m# LassoCV to find the best features\u001B[39;00m\n\u001B[0;32m----> 2\u001B[0m \u001B[43mget_ipython\u001B[49m\u001B[43m(\u001B[49m\u001B[43m)\u001B[49m\u001B[38;5;241;43m.\u001B[39;49m\u001B[43mrun_line_magic\u001B[49m\u001B[43m(\u001B[49m\u001B[38;5;124;43m'\u001B[39;49m\u001B[38;5;124;43mrun\u001B[39;49m\u001B[38;5;124;43m'\u001B[39;49m\u001B[43m,\u001B[49m\u001B[43m \u001B[49m\u001B[38;5;124;43m'\u001B[39;49m\u001B[38;5;124;43mFeatureEngineering/LassoCV.ipynb\u001B[39;49m\u001B[38;5;124;43m'\u001B[39;49m\u001B[43m)\u001B[49m\n",
      "File \u001B[0;32m~/code/video-trends/venv/lib/python3.9/site-packages/IPython/core/interactiveshell.py:2456\u001B[0m, in \u001B[0;36mInteractiveShell.run_line_magic\u001B[0;34m(self, magic_name, line, _stack_depth)\u001B[0m\n\u001B[1;32m   2454\u001B[0m     kwargs[\u001B[38;5;124m'\u001B[39m\u001B[38;5;124mlocal_ns\u001B[39m\u001B[38;5;124m'\u001B[39m] \u001B[38;5;241m=\u001B[39m \u001B[38;5;28mself\u001B[39m\u001B[38;5;241m.\u001B[39mget_local_scope(stack_depth)\n\u001B[1;32m   2455\u001B[0m \u001B[38;5;28;01mwith\u001B[39;00m \u001B[38;5;28mself\u001B[39m\u001B[38;5;241m.\u001B[39mbuiltin_trap:\n\u001B[0;32m-> 2456\u001B[0m     result \u001B[38;5;241m=\u001B[39m \u001B[43mfn\u001B[49m\u001B[43m(\u001B[49m\u001B[38;5;241;43m*\u001B[39;49m\u001B[43margs\u001B[49m\u001B[43m,\u001B[49m\u001B[43m \u001B[49m\u001B[38;5;241;43m*\u001B[39;49m\u001B[38;5;241;43m*\u001B[39;49m\u001B[43mkwargs\u001B[49m\u001B[43m)\u001B[49m\n\u001B[1;32m   2458\u001B[0m \u001B[38;5;66;03m# The code below prevents the output from being displayed\u001B[39;00m\n\u001B[1;32m   2459\u001B[0m \u001B[38;5;66;03m# when using magics with decorator @output_can_be_silenced\u001B[39;00m\n\u001B[1;32m   2460\u001B[0m \u001B[38;5;66;03m# when the last Python token in the expression is a ';'.\u001B[39;00m\n\u001B[1;32m   2461\u001B[0m \u001B[38;5;28;01mif\u001B[39;00m \u001B[38;5;28mgetattr\u001B[39m(fn, magic\u001B[38;5;241m.\u001B[39mMAGIC_OUTPUT_CAN_BE_SILENCED, \u001B[38;5;28;01mFalse\u001B[39;00m):\n",
      "File \u001B[0;32m~/code/video-trends/venv/lib/python3.9/site-packages/IPython/core/magics/execution.py:737\u001B[0m, in \u001B[0;36mExecutionMagics.run\u001B[0;34m(self, parameter_s, runner, file_finder)\u001B[0m\n\u001B[1;32m    735\u001B[0m     \u001B[38;5;28;01mwith\u001B[39;00m preserve_keys(\u001B[38;5;28mself\u001B[39m\u001B[38;5;241m.\u001B[39mshell\u001B[38;5;241m.\u001B[39muser_ns, \u001B[38;5;124m'\u001B[39m\u001B[38;5;124m__file__\u001B[39m\u001B[38;5;124m'\u001B[39m):\n\u001B[1;32m    736\u001B[0m         \u001B[38;5;28mself\u001B[39m\u001B[38;5;241m.\u001B[39mshell\u001B[38;5;241m.\u001B[39muser_ns[\u001B[38;5;124m'\u001B[39m\u001B[38;5;124m__file__\u001B[39m\u001B[38;5;124m'\u001B[39m] \u001B[38;5;241m=\u001B[39m filename\n\u001B[0;32m--> 737\u001B[0m         \u001B[38;5;28;43mself\u001B[39;49m\u001B[38;5;241;43m.\u001B[39;49m\u001B[43mshell\u001B[49m\u001B[38;5;241;43m.\u001B[39;49m\u001B[43msafe_execfile_ipy\u001B[49m\u001B[43m(\u001B[49m\u001B[43mfilename\u001B[49m\u001B[43m,\u001B[49m\u001B[43m \u001B[49m\u001B[43mraise_exceptions\u001B[49m\u001B[38;5;241;43m=\u001B[39;49m\u001B[38;5;28;43;01mTrue\u001B[39;49;00m\u001B[43m)\u001B[49m\n\u001B[1;32m    738\u001B[0m     \u001B[38;5;28;01mreturn\u001B[39;00m\n\u001B[1;32m    740\u001B[0m \u001B[38;5;66;03m# Control the response to exit() calls made by the script being run\u001B[39;00m\n",
      "File \u001B[0;32m~/code/video-trends/venv/lib/python3.9/site-packages/IPython/core/interactiveshell.py:2978\u001B[0m, in \u001B[0;36mInteractiveShell.safe_execfile_ipy\u001B[0;34m(self, fname, shell_futures, raise_exceptions)\u001B[0m\n\u001B[1;32m   2976\u001B[0m result \u001B[38;5;241m=\u001B[39m \u001B[38;5;28mself\u001B[39m\u001B[38;5;241m.\u001B[39mrun_cell(cell, silent\u001B[38;5;241m=\u001B[39m\u001B[38;5;28;01mTrue\u001B[39;00m, shell_futures\u001B[38;5;241m=\u001B[39mshell_futures)\n\u001B[1;32m   2977\u001B[0m \u001B[38;5;28;01mif\u001B[39;00m raise_exceptions:\n\u001B[0;32m-> 2978\u001B[0m     \u001B[43mresult\u001B[49m\u001B[38;5;241;43m.\u001B[39;49m\u001B[43mraise_error\u001B[49m\u001B[43m(\u001B[49m\u001B[43m)\u001B[49m\n\u001B[1;32m   2979\u001B[0m \u001B[38;5;28;01melif\u001B[39;00m \u001B[38;5;129;01mnot\u001B[39;00m result\u001B[38;5;241m.\u001B[39msuccess:\n\u001B[1;32m   2980\u001B[0m     \u001B[38;5;28;01mbreak\u001B[39;00m\n",
      "File \u001B[0;32m~/code/video-trends/venv/lib/python3.9/site-packages/IPython/core/interactiveshell.py:294\u001B[0m, in \u001B[0;36mExecutionResult.raise_error\u001B[0;34m(self)\u001B[0m\n\u001B[1;32m    292\u001B[0m     \u001B[38;5;28;01mraise\u001B[39;00m \u001B[38;5;28mself\u001B[39m\u001B[38;5;241m.\u001B[39merror_before_exec\n\u001B[1;32m    293\u001B[0m \u001B[38;5;28;01mif\u001B[39;00m \u001B[38;5;28mself\u001B[39m\u001B[38;5;241m.\u001B[39merror_in_exec \u001B[38;5;129;01mis\u001B[39;00m \u001B[38;5;129;01mnot\u001B[39;00m \u001B[38;5;28;01mNone\u001B[39;00m:\n\u001B[0;32m--> 294\u001B[0m     \u001B[38;5;28;01mraise\u001B[39;00m \u001B[38;5;28mself\u001B[39m\u001B[38;5;241m.\u001B[39merror_in_exec\n",
      "    \u001B[0;31m[... skipping hidden 1 frame]\u001B[0m\n",
      "File \u001B[0;32m/var/folders/s_/6d26m9ld7d1bdywv1jdxvg500000gp/T/ipykernel_21429/2000032398.py:2\u001B[0m\n\u001B[1;32m      1\u001B[0m data_file \u001B[38;5;241m=\u001B[39m \u001B[38;5;124m'\u001B[39m\u001B[38;5;124m../combined_data.csv\u001B[39m\u001B[38;5;124m'\u001B[39m  \u001B[38;5;66;03m# Load variable so data_loader can locale the csv filesystem path accordingly.\u001B[39;00m\n\u001B[0;32m----> 2\u001B[0m \u001B[43mget_ipython\u001B[49m\u001B[43m(\u001B[49m\u001B[43m)\u001B[49m\u001B[38;5;241;43m.\u001B[39;49m\u001B[43mrun_line_magic\u001B[49m\u001B[43m(\u001B[49m\u001B[38;5;124;43m'\u001B[39;49m\u001B[38;5;124;43mrun\u001B[39;49m\u001B[38;5;124;43m'\u001B[39;49m\u001B[43m,\u001B[49m\u001B[43m \u001B[49m\u001B[38;5;124;43m'\u001B[39;49m\u001B[38;5;124;43m../data_loader.ipynb\u001B[39;49m\u001B[38;5;124;43m'\u001B[39;49m\u001B[43m)\u001B[49m\n",
      "File \u001B[0;32m~/code/video-trends/venv/lib/python3.9/site-packages/IPython/core/interactiveshell.py:2456\u001B[0m, in \u001B[0;36mInteractiveShell.run_line_magic\u001B[0;34m(self, magic_name, line, _stack_depth)\u001B[0m\n\u001B[1;32m   2454\u001B[0m     kwargs[\u001B[38;5;124m'\u001B[39m\u001B[38;5;124mlocal_ns\u001B[39m\u001B[38;5;124m'\u001B[39m] \u001B[38;5;241m=\u001B[39m \u001B[38;5;28mself\u001B[39m\u001B[38;5;241m.\u001B[39mget_local_scope(stack_depth)\n\u001B[1;32m   2455\u001B[0m \u001B[38;5;28;01mwith\u001B[39;00m \u001B[38;5;28mself\u001B[39m\u001B[38;5;241m.\u001B[39mbuiltin_trap:\n\u001B[0;32m-> 2456\u001B[0m     result \u001B[38;5;241m=\u001B[39m \u001B[43mfn\u001B[49m\u001B[43m(\u001B[49m\u001B[38;5;241;43m*\u001B[39;49m\u001B[43margs\u001B[49m\u001B[43m,\u001B[49m\u001B[43m \u001B[49m\u001B[38;5;241;43m*\u001B[39;49m\u001B[38;5;241;43m*\u001B[39;49m\u001B[43mkwargs\u001B[49m\u001B[43m)\u001B[49m\n\u001B[1;32m   2458\u001B[0m \u001B[38;5;66;03m# The code below prevents the output from being displayed\u001B[39;00m\n\u001B[1;32m   2459\u001B[0m \u001B[38;5;66;03m# when using magics with decorator @output_can_be_silenced\u001B[39;00m\n\u001B[1;32m   2460\u001B[0m \u001B[38;5;66;03m# when the last Python token in the expression is a ';'.\u001B[39;00m\n\u001B[1;32m   2461\u001B[0m \u001B[38;5;28;01mif\u001B[39;00m \u001B[38;5;28mgetattr\u001B[39m(fn, magic\u001B[38;5;241m.\u001B[39mMAGIC_OUTPUT_CAN_BE_SILENCED, \u001B[38;5;28;01mFalse\u001B[39;00m):\n",
      "File \u001B[0;32m~/code/video-trends/venv/lib/python3.9/site-packages/IPython/core/magics/execution.py:727\u001B[0m, in \u001B[0;36mExecutionMagics.run\u001B[0;34m(self, parameter_s, runner, file_finder)\u001B[0m\n\u001B[1;32m    725\u001B[0m     \u001B[38;5;28;01mif\u001B[39;00m os\u001B[38;5;241m.\u001B[39mname \u001B[38;5;241m==\u001B[39m \u001B[38;5;124m'\u001B[39m\u001B[38;5;124mnt\u001B[39m\u001B[38;5;124m'\u001B[39m \u001B[38;5;129;01mand\u001B[39;00m re\u001B[38;5;241m.\u001B[39mmatch(\u001B[38;5;124mr\u001B[39m\u001B[38;5;124m\"\u001B[39m\u001B[38;5;124m^\u001B[39m\u001B[38;5;124m'\u001B[39m\u001B[38;5;124m.*\u001B[39m\u001B[38;5;124m'\u001B[39m\u001B[38;5;124m$\u001B[39m\u001B[38;5;124m\"\u001B[39m,fpath):\n\u001B[1;32m    726\u001B[0m         warn(\u001B[38;5;124m'\u001B[39m\u001B[38;5;124mFor Windows, use double quotes to wrap a filename: \u001B[39m\u001B[38;5;132;01m%r\u001B[39;00m\u001B[38;5;124mun \u001B[39m\u001B[38;5;124m\"\u001B[39m\u001B[38;5;124mmypath\u001B[39m\u001B[38;5;130;01m\\\\\u001B[39;00m\u001B[38;5;124mmyfile.py\u001B[39m\u001B[38;5;124m\"\u001B[39m\u001B[38;5;124m'\u001B[39m)\n\u001B[0;32m--> 727\u001B[0m     \u001B[38;5;28;01mraise\u001B[39;00m \u001B[38;5;167;01mException\u001B[39;00m(msg) \u001B[38;5;28;01mfrom\u001B[39;00m \u001B[38;5;21;01me\u001B[39;00m\n\u001B[1;32m    728\u001B[0m \u001B[38;5;28;01mexcept\u001B[39;00m \u001B[38;5;167;01mTypeError\u001B[39;00m:\n\u001B[1;32m    729\u001B[0m     \u001B[38;5;28;01mif\u001B[39;00m fpath \u001B[38;5;129;01min\u001B[39;00m sys\u001B[38;5;241m.\u001B[39mmeta_path:\n",
      "\u001B[0;31mException\u001B[0m: File `'../data_loader.ipynb'` not found."
     ]
    }
   ],
   "source": [
    "# LassoCV to find the best features\n",
    "%run FeatureEngineering/LassoCV.ipynb"
   ],
   "metadata": {
    "collapsed": false,
    "ExecuteTime": {
     "end_time": "2024-02-25T19:49:07.751122Z",
     "start_time": "2024-02-25T19:49:06.509611Z"
    }
   },
   "execution_count": 28
  },
  {
   "cell_type": "code",
   "outputs": [],
   "source": [
    "# Baseline comparison Using Random Forest\n",
    "import time\n",
    "from sklearn.ensemble import RandomForestRegressor\n",
    "from sklearn.metrics import explained_variance_score, mean_squared_error, r2_score\n",
    "\n",
    "reg_RF = RandomForestRegressor(n_estimators=140, max_depth=40) # Note that the parameters were optimized on the initial notebook\n",
    "\n",
    "for train, test, name in [\n",
    "    [x_train_sc, x_test_sc, 'baseline'], \n",
    "    [x_train_pca_Trans_sc, x_test_pca_Trans_sc, 'pca'],\n",
    "    [x_train_reduced_sc, x_test_reduced_sc, 'lasso_reduced']]:\n",
    "    \n",
    "    start = time.time()\n",
    "    reg_RF.fit(train, y_train)\n",
    "    # Calculate the duration\n",
    "    end_time = time.time()\n",
    "    duration = end_time - start\n",
    "    \n",
    "    # predict\n",
    "    pred = reg_RF.predict(test)\n",
    "    \n",
    "    # metrics\n",
    "    mse = mean_squared_error(y_test, pred)\n",
    "    r_two_score = r2_score(y_test, pred)\n",
    "    ex_variance_score = explained_variance_score(y_test, pred)\n",
    "\n",
    "    print(f\"{name} training took {duration:.4f} seconds.\")\n",
    "    print(f'Mean Squared Error on Test Set: {mse:.4f}')\n",
    "    print(f'r2 score: {r_two_score:.4f}')\n",
    "    print(f'explained variance score: {ex_variance_score:.4f}')"
   ],
   "metadata": {
    "collapsed": false
   },
   "execution_count": null
  },
  {
   "cell_type": "markdown",
   "source": [
    "Ensemble Models\n",
    "---\n",
    "\n",
    "From here on we'll use the best performing dataset the `x_train_reduced_sc` [LassoCV](notebooks/FeatureEngineering/LassoCV.ipynb) to compare the ensemble Methods.\n",
    "\n",
    "Notebooks:\n",
    "* [Bagging.ipynb](notebooks/Task_2_Bagging.ipynb)\n",
    "  * We'll skip the Random Forest as it's already been used as the baseline.\n",
    "    * Voting Regressor will use Gradient Boosting and KNR (same will be used for Stacking)\n",
    "* [Boosting.ipynb](notebooks/Task_2_Boosting.ipynb)\n",
    "  * Gradient Boosting Regressor \n",
    "* [Stacking.ipynb](notebooks/Task_2_Stacking.ipynb)\n",
    "  * Stacking Regressor will use Gradient Boosting and KNR\n",
    "\n",
    "All notebooks are set to use the same train and test sets, so we can compare the results.\n",
    " \n",
    "    LassoCV Reduced Features to the training and testing features:\n",
    "        - x_train_reduced_sc: Scaled training features.\n",
    "        - x_test_reduced_sc: Scaled testing features.\n"
   ],
   "metadata": {
    "collapsed": false
   }
  },
  {
   "cell_type": "markdown",
   "source": [
    "## Running Ensemble Models - Bagging, Boosting and Stacking \n",
    "\n",
    "        This Section runs twice, once to collect metrics as a baseline (after LassoCV). Then, a repeat with new paraters resulting from the hyperparameter tuning."
   ],
   "metadata": {
    "collapsed": false
   }
  },
  {
   "cell_type": "code",
   "outputs": [],
   "source": [
    "%run Task_2_Bagging.ipynb"
   ],
   "metadata": {
    "collapsed": false
   },
   "execution_count": null
  },
  {
   "cell_type": "code",
   "outputs": [],
   "source": [
    "%run Task_2_Boosting.ipynb"
   ],
   "metadata": {
    "collapsed": false
   },
   "execution_count": null
  },
  {
   "cell_type": "code",
   "outputs": [],
   "source": [
    "%run Task_2_Stacking.ipynb"
   ],
   "metadata": {
    "collapsed": false
   },
   "execution_count": null
  },
  {
   "cell_type": "markdown",
   "source": [
    "HyperparameterTuning\n",
    "---\n",
    "\n",
    "Review metrics from previous runs and pick the best performers to apply tuning. \n",
    "\n",
    "        Note, we could run the tuning on each model iteratively. However mindful of time to deliver project, we'll focus on the best performing ensemble models.\n",
    "        \n",
    "Notebooks:\n",
    "* [Bayesian_optimization.ipynb](notebooks/HyperparameterTuning/Bayesian_optimization.ipynb)\n",
    "* [GridSearchCV.ipynb](notebooks/HyperparameterTuning/GridSearchCV.ipynb)\n",
    "\n",
    "Both are using the same set of Ensemble models and the same train and test sets. So we can compare the results.\n",
    "\n",
    "    LassoCV Reduced Features to the training and testing features:\n",
    "        - x_train_reduced_sc: Scaled training features.\n",
    "        - x_test_reduced_sc: Scaled testing features.\n",
    "        \n",
    "Selected models:\n",
    "\n",
    "        I'll continue running one of the three approaches to tune the hyperparameters for the best performing models so far:\n",
    "\n",
    "* boosting `GradientBoostingRegressor`\n",
    "* Stacking `StackingRegressor` (using Gradient Boosting and KNR)\n",
    "* Bagging `BaggingRegressor`\n",
    "* Random Forest (baseline, already tuned)"
   ],
   "metadata": {
    "collapsed": false
   }
  },
  {
   "cell_type": "code",
   "outputs": [],
   "source": [
    "# %run HyperparameterTuning/Bayesian_optimization.ipynb"
   ],
   "metadata": {
    "collapsed": false
   },
   "execution_count": null
  },
  {
   "cell_type": "code",
   "outputs": [],
   "source": [
    "%run HyperparameterTuning/GridSearchCV.ipynb"
   ],
   "metadata": {
    "collapsed": false
   },
   "execution_count": null
  },
  {
   "cell_type": "markdown",
   "source": [
    "Metrics Comparison\n",
    "---\n",
    "\n"
   ],
   "metadata": {
    "collapsed": false
   }
  },
  {
   "cell_type": "code",
   "outputs": [],
   "source": [
    "vt = voting_regressor.fit(x_train_reduced_sc, y_train)\n",
    "stack = stacked_model.fit(x_train_reduced_sc, y_train)\n",
    "grad = grad_boosting_regressor.fit(x_train_reduced_sc, y_train)\n",
    "bag = bagging_regressor.fit(x_train_reduced_sc, y_train)\n",
    "\n",
    "xt = x_train_reduced_sc[:20]\n",
    "voting_reg_pred = vt.predict(xt)\n",
    "stacking_reg_pred = stack.predict(xt)\n",
    "grad_boosting_reg_pred = grad.predict(xt)\n",
    "bagging_reg_pred = bag.predict(xt)"
   ],
   "metadata": {
    "collapsed": false
   },
   "execution_count": null
  },
  {
   "cell_type": "markdown",
   "source": [
    "Prediction Comparison to training samples\n",
    "---"
   ],
   "metadata": {
    "collapsed": false
   }
  },
  {
   "cell_type": "code",
   "outputs": [],
   "source": [
    "import os\n",
    "plt.figure()\n",
    "plt.plot(voting_reg_pred, \"gd\", label=\"VotingRegressor\")\n",
    "plt.plot(stacking_reg_pred, \"b^\", label=\"StackingRegressor\")\n",
    "plt.plot(grad_boosting_reg_pred, \"ys\", label=\"GradientBoostingRegressor\")\n",
    "plt.plot(bagging_reg_pred, \"r*\", ms=10, label=\"BaggingRegressor\")\n",
    "\n",
    "plt.tick_params(axis=\"x\", which=\"both\", bottom=False, top=False, labelbottom=False)\n",
    "plt.ylabel(\"predicted\")\n",
    "plt.xlabel(\"training samples\")\n",
    "plt.legend(loc=\"best\")\n",
    "plt.title(\"Regressor predictions and their average\")\n",
    "plt.savefig(os.path.join('../documents/images/', 'regressor_predictions_avg.png'))\n",
    "plt.show()"
   ],
   "metadata": {
    "collapsed": false
   },
   "execution_count": null
  },
  {
   "cell_type": "markdown",
   "source": [
    "Regressor metrics performance Comparison\n",
    "---"
   ],
   "metadata": {
    "collapsed": false
   }
  },
  {
   "cell_type": "code",
   "outputs": [],
   "source": [
    "voting_reg_pred = vt.predict(x_test_reduced_sc)\n",
    "stacking_reg_pred = stack.predict(x_test_reduced_sc)\n",
    "grad_boosting_reg_pred = grad.predict(x_test_reduced_sc)\n",
    "bagging_reg_pred = bag.predict(x_test_reduced_sc)"
   ],
   "metadata": {
    "collapsed": false
   },
   "execution_count": null
  },
  {
   "cell_type": "code",
   "outputs": [],
   "source": [
    "voting_reg_pred_mse = mean_squared_error(y_test, voting_reg_pred)\n",
    "stacking_reg_pred_mse = mean_squared_error(y_test, stacking_reg_pred)\n",
    "grad_boosting_reg_pred_mse = mean_squared_error(y_test, grad_boosting_reg_pred)\n",
    "bagging_reg_pred_mse = mean_squared_error(y_test, bagging_reg_pred)"
   ],
   "metadata": {
    "collapsed": false
   },
   "execution_count": null
  },
  {
   "cell_type": "code",
   "outputs": [],
   "source": [
    "voting_reg_pred_r2_score = r2_score(y_test, voting_reg_pred)\n",
    "stacking_reg_pred_r2_score = r2_score(y_test, stacking_reg_pred)\n",
    "grad_boosting_reg_r2_score = r2_score(y_test, grad_boosting_reg_pred)\n",
    "bagging_reg_pred_r2_score = r2_score(y_test, bagging_reg_pred)"
   ],
   "metadata": {
    "collapsed": false
   },
   "execution_count": null
  },
  {
   "cell_type": "code",
   "outputs": [],
   "source": [
    "voting_reg_pred_var_score = explained_variance_score(y_test, voting_reg_pred)\n",
    "stacking_reg_pred_var_score = explained_variance_score(y_test, stacking_reg_pred)\n",
    "grad_boosting_reg_var_score = explained_variance_score(y_test, grad_boosting_reg_pred)\n",
    "bagging_reg_pred_var_score = explained_variance_score(y_test, bagging_reg_pred)"
   ],
   "metadata": {
    "collapsed": false
   },
   "execution_count": null
  },
  {
   "cell_type": "code",
   "outputs": [],
   "source": [
    "# Create lists for plotting\n",
    "regressors = ['Voting', 'Stacking', 'Gradient boosting', 'Bagging']\n",
    "mse_values = [voting_reg_pred_mse, stacking_reg_pred_mse, grad_boosting_reg_pred_mse, bagging_reg_pred_mse]\n",
    "r_two_scores = [voting_reg_pred_r2_score, stacking_reg_pred_r2_score, grad_boosting_reg_r2_score, bagging_reg_pred_r2_score]\n",
    "variance_scores = [voting_reg_pred_var_score, stacking_reg_pred_var_score, grad_boosting_reg_var_score, bagging_reg_pred_var_score]"
   ],
   "metadata": {
    "collapsed": false
   },
   "execution_count": null
  },
  {
   "cell_type": "code",
   "outputs": [],
   "source": [
    "# Plotting\n",
    "plt.figure(figsize=(12, 5))\n",
    "plt.plot(regressors, mse_values, marker='o', linestyle='-', color='b')\n",
    "plt.plot(regressors, variance_scores, marker='s', linestyle='-', color='y')\n",
    "plt.plot(regressors, r_two_scores, marker='x', linestyle='-', color='r')\n",
    "\n",
    "# Adding titles and labels\n",
    "plt.title('Ensembles Metrics Comparison Across Regressors')\n",
    "plt.xlabel('Regressors')\n",
    "plt.ylabel('Scores')\n",
    "plt.legend(['MSE', 'R2 Score', 'Variance Score'], loc='center right')\n",
    "plt.savefig(os.path.join('../documents/images/', 'metrics_performance_scores_line.png'))\n",
    "# Displaying the plot\n",
    "plt.show()"
   ],
   "metadata": {
    "collapsed": false
   },
   "execution_count": null
  },
  {
   "cell_type": "code",
   "outputs": [],
   "source": [
    "# Sample data for two regressors: Random Forest and Voting Regressor\n",
    "\"\"\"metrics_<name> = [<mse>, <R_2score>]\"\"\"\n",
    "metrics_voting = [voting_reg_pred_mse, voting_reg_pred_r2_score]\n",
    "metrics_stacking = [stacking_reg_pred_mse, stacking_reg_pred_r2_score]\n",
    "metrics_bagging = [bagging_reg_pred_mse, bagging_reg_pred_r2_score]\n",
    "metrics_grad = [grad_boosting_reg_pred_mse, grad_boosting_reg_r2_score]\n",
    "\n",
    "# Names of the regressors and metrics\n",
    "regressors = ['Voting', 'Stacking', 'Gradient boosting', 'Bagging']\n",
    "metrics_names = ['MSE', 'R2 Score']"
   ],
   "metadata": {
    "collapsed": false
   },
   "execution_count": null
  },
  {
   "cell_type": "code",
   "outputs": [],
   "source": [
    "import matplotlib.pyplot as plt\n",
    "import numpy as np\n",
    "\n",
    "# Number of metrics\n",
    "num_metrics = len(metrics_names)\n",
    "\n",
    "# colors for the bars\n",
    "colors = ['r', 'b']\n",
    "\n",
    "# Create subplots: one row for each metric\n",
    "fig, axs = plt.subplots(nrows=num_metrics, ncols=1, figsize=(10, 15))\n",
    "# Width of the bars\n",
    "barWidth = 0.3\n",
    "# Loop over each metric and create a bar chart\n",
    "for i in range(num_metrics):\n",
    "    r1 = np.arange(len(regressors))\n",
    "    r2 = [x + barWidth for x in r1]\n",
    "    # Plot the bar chart for each metric\n",
    "    \n",
    "    axs[i].bar(r1, [metrics_voting[i], metrics_stacking[i], metrics_grad[i], metrics_bagging[i]],  color=colors[i], width=barWidth, edgecolor='grey', label='RF')\n",
    "    # Set the subplot title and labels\n",
    "    axs[i].set_title(metrics_names[i])\n",
    "    axs[i].set_xticks([r + barWidth / 2 for r in range(len(regressors))], regressors)\n",
    "    axs[i].set_ylabel(metrics_names[i])\n",
    "# Adjust layout to prevent overlap\n",
    "plt.tight_layout()\n",
    "\n",
    "# Save the plot\n",
    "plt.savefig(os.path.join('../documents/images/', 'metrics_performance_scores_bar.png'))\n",
    "# Show the plots\n",
    "plt.show()\n"
   ],
   "metadata": {
    "collapsed": false
   },
   "execution_count": null
  }
 ],
 "metadata": {
  "kernelspec": {
   "display_name": "Python 3",
   "language": "python",
   "name": "python3"
  },
  "language_info": {
   "codemirror_mode": {
    "name": "ipython",
    "version": 2
   },
   "file_extension": ".py",
   "mimetype": "text/x-python",
   "name": "python",
   "nbconvert_exporter": "python",
   "pygments_lexer": "ipython2",
   "version": "2.7.6"
  }
 },
 "nbformat": 4,
 "nbformat_minor": 0
}
