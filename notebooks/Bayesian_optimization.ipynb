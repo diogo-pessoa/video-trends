{
 "cells": [
  {
   "cell_type": "code",
   "execution_count": null,
   "outputs": [],
   "source": [
    "import pandas as pd\n",
    "combined_data=pd.read_csv('combined_data.csv').set_index('video_id')\n",
    "label = combined_data['label']\n",
    "features = combined_data.drop(['label'],axis=1)\n",
    "# TODO - Add to README\n",
    "# https://scikit-optimize.github.io/stable/auto_examples/sklearn-gridsearchcv-replacement.html\n",
    "# https://scikit-optimize.github.io/stable/\n",
    "# https://scikit-optimize.github.io/stable/auto_examples/sklearn-gridsearchcv-replacement.html (example adjust for this regression problem)"
   ],
   "metadata": {
    "collapsed": false
   }
  },
  {
   "cell_type": "code",
   "outputs": [],
   "source": [
    "# %pip install scikit-optimize\n",
    "# %pip install --upgrade numpy scikit-learn scikit-optimize"
   ],
   "metadata": {
    "collapsed": false
   },
   "execution_count": null
  },
  {
   "cell_type": "code",
   "outputs": [],
   "source": [
    "from sklearn.model_selection import train_test_split\n",
    "\n",
    "x_train, x_test, y_train, y_test = train_test_split(features.values, label.values, test_size=0.2, random_state=42)\n"
   ],
   "metadata": {
    "collapsed": false
   },
   "execution_count": null
  },
  {
   "cell_type": "code",
   "outputs": [],
   "source": [
    "from skopt import BayesSearchCV\n",
    "from skopt.space import Real, Integer\n",
    "from sklearn.ensemble import RandomForestRegressor\n",
    "from sklearn.model_selection import train_test_split\n",
    "\n",
    "# Define the regression model and search space\n",
    "model = RandomForestRegressor(random_state=42)\n",
    "search_space = {\n",
    "    'n_estimators': Integer(100, 500),\n",
    "    'max_depth': Integer(3, 10),\n",
    "    'min_samples_split': Real(0.01, 0.1)\n",
    "}\n",
    "np.int = int # to fix attribute error: AttributeError: module 'numpy' has no attribute 'int'.\n",
    "# Initialize Bayesian optimization\n",
    "opt = BayesSearchCV(model, search_space, n_iter=32, random_state=42, cv=3, scoring='neg_mean_squared_error')\n",
    "\n",
    "# Perform the optimization\n",
    "opt.fit(x_train, y_train)\n",
    "\n",
    "# Best model parameters and score (note: score here is negative MSE)\n",
    "print(\"Best parameters found: \", opt.best_params_)\n",
    "print(\"Best score (negative MSE) found: \", opt.best_score_)"
   ],
   "metadata": {
    "collapsed": false
   },
   "execution_count": null
  },
  {
   "cell_type": "code",
   "outputs": [],
   "source": [
    "\"\"\"\n",
    "\n",
    "How to fix the 'numpy.int' attribute error when using skopt.BayesSearchCV in scikit-learn?\n",
    "\n",
    "https://stackoverflow.com/questions/76321820/how-to-fix-the-numpy-int-attribute-error-when-using-skopt-bayessearchcv-in-sci\n",
    "\n",
    "\"\"\""
   ],
   "metadata": {
    "collapsed": false
   }
  }
 ],
 "metadata": {
  "kernelspec": {
   "display_name": "Python 3",
   "language": "python",
   "name": "python3"
  },
  "language_info": {
   "codemirror_mode": {
    "name": "ipython",
    "version": 2
   },
   "file_extension": ".py",
   "mimetype": "text/x-python",
   "name": "python",
   "nbconvert_exporter": "python",
   "pygments_lexer": "ipython2",
   "version": "2.7.6"
  }
 },
 "nbformat": 4,
 "nbformat_minor": 0
}
