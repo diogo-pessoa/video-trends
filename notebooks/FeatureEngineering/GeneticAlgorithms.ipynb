{
 "cells": [
  {
   "cell_type": "code",
   "outputs": [
    {
     "data": {
      "text/plain": "'Uncomment if running this file independently'"
     },
     "execution_count": 1,
     "metadata": {},
     "output_type": "execute_result"
    }
   ],
   "source": [
    "# \"\"\"Uncomment if running this file independently\"\"\"\n",
    "# data_file = '../combined_data.csv' # Load variable so data_loader can locale the csv filesystem path accordingly.\n",
    "# %run ../data_loader.ipynb "
   ],
   "metadata": {
    "collapsed": false,
    "ExecuteTime": {
     "end_time": "2024-02-25T19:53:23.980090Z",
     "start_time": "2024-02-25T19:53:23.967156Z"
    }
   },
   "id": "5421fb3977dfaf3f",
   "execution_count": 1
  },
  {
   "cell_type": "code",
   "outputs": [],
   "source": [
    "# # https://deap.readthedocs.io/en/master/index.html\n",
    "# https://deap.readthedocs.io/en/master/tutorials/basic/part1.html\n",
    "# %pip install deap"
   ],
   "metadata": {
    "collapsed": false,
    "ExecuteTime": {
     "end_time": "2024-02-25T19:53:25.788821Z",
     "start_time": "2024-02-25T19:53:25.785837Z"
    }
   },
   "id": "beb2f64a13a26a2",
   "execution_count": 2
  },
  {
   "cell_type": "code",
   "outputs": [],
   "source": [
    "from sklearn.ensemble import RandomForestRegressor\n",
    "from sklearn.metrics import mean_squared_error\n",
    "from math import sqrt\n",
    "from deap import base, creator, tools, algorithms\n",
    "import numpy as np\n",
    "from sklearn.model_selection import train_test_split\n",
    "\n",
    "# Define problem to DEAP (we aim to minimize RMSE, hence weights=(-1.0,))\n",
    "creator.create(\"FitnessMin\", base.Fitness, weights=(-1.0,))\n",
    "creator.create(\"Individual\", list, fitness=creator.FitnessMin)\n",
    "\n",
    "toolbox = base.Toolbox()\n",
    "toolbox.register(\"attr_bool\", np.random.randint, 0, 2)\n",
    "toolbox.register(\"individual\", tools.initRepeat, creator.Individual,\n",
    "                 toolbox.attr_bool, n=X.shape[1])\n",
    "toolbox.register(\"population\", tools.initRepeat, list, toolbox.individual)\n",
    "\n",
    "# Define the fitness function for regression\n",
    "def evalModel(individual):\n",
    "    X_selected = X[:, [i for i, bit in enumerate(individual) if bit == 1]]\n",
    "    X_train, X_test, y_train, y_test = train_test_split(X_selected, y, test_size=0.2, random_state=42)\n",
    "\n",
    "    if X_train.shape[1] == 0:  # Prevent training with 0 features\n",
    "        return (float(\"inf\"),)  # Return infinite RMSE as a penalty\n",
    "\n",
    "    model = RandomForestRegressor(random_state=42)\n",
    "    model.fit(X_train, y_train)\n",
    "    predictions = model.predict(X_test)\n",
    "    rmse = sqrt(mean_squared_error(y_test, predictions))  # Calculate RMSE\n",
    "    return (rmse,)\n",
    "\n",
    "toolbox.register(\"evaluate\", evalModel)\n",
    "toolbox.register(\"mate\", tools.cxTwoPoint)\n",
    "toolbox.register(\"mutate\", tools.mutFlipBit, indpb=0.05)\n",
    "toolbox.register(\"select\", tools.selTournament, tournsize=3)\n",
    "\n",
    "# Parameters for GA\n",
    "population_size = 39\n",
    "crossover_probability = 0.5\n",
    "mutation_probability = 0.2\n",
    "number_of_generations = 4\n",
    "\n",
    "pop = toolbox.population(n=population_size)\n",
    "hof = tools.HallOfFame(1)\n",
    "# Run the Genetic Algorithm\n",
    "result, logbook = algorithms.eaSimple(pop, toolbox, cxpb=crossover_probability,\n",
    "                             mutpb=mutation_probability, ngen=number_of_generations,\n",
    "                             verbose=True, halloffame=hof)"
   ],
   "metadata": {
    "collapsed": false,
    "ExecuteTime": {
     "end_time": "2024-02-25T19:53:39.452034Z",
     "start_time": "2024-02-25T19:53:39.447417Z"
    }
   },
   "id": "278722f3a5d381d8",
   "execution_count": 3
  }
 ],
 "metadata": {
  "kernelspec": {
   "display_name": "Python 3",
   "language": "python",
   "name": "python3"
  },
  "language_info": {
   "codemirror_mode": {
    "name": "ipython",
    "version": 2
   },
   "file_extension": ".py",
   "mimetype": "text/x-python",
   "name": "python",
   "nbconvert_exporter": "python",
   "pygments_lexer": "ipython2",
   "version": "2.7.6"
  }
 },
 "nbformat": 4,
 "nbformat_minor": 5
}
