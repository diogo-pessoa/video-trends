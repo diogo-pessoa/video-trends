{
 "cells": [
  {
   "cell_type": "code",
   "execution_count": 1,
   "outputs": [
    {
     "name": "stdout",
     "output_type": "stream",
     "text": [
      "Data loaded:\n",
      "- features: All features.\n",
      "- label: label (views_log).\n",
      "- x_train_sc: Scaled training features.\n",
      "- x_test_sc: Scaled testing features.\n",
      "- x_train - Training features.\n",
      "- x_test - Testing features.\n",
      "- y_train - Training labels.\n",
      "- y_test - Testing labels.\n"
     ]
    }
   ],
   "source": [
    "\"\"\"Uncomment if running this file independently\"\"\"\n",
    "# data_file = '../combined_data.csv' # Load variable so data_loader can locale the csv filesystem path accordingly.\n",
    "# %run ../data_loader.ipynb "
   ],
   "metadata": {
    "collapsed": false,
    "ExecuteTime": {
     "end_time": "2024-02-25T19:50:56.869370Z",
     "start_time": "2024-02-25T19:50:53.353583Z"
    }
   }
  },
  {
   "cell_type": "code",
   "outputs": [],
   "source": [
    "# PCA\n",
    "from sklearn.decomposition import PCA\n",
    "pca = PCA(n_components=34)\n",
    "x_train_pca_Trans = pca.fit_transform(x_train)\n",
    "x_test_pca_Trans = pca.transform(x_test)"
   ],
   "metadata": {
    "collapsed": false,
    "ExecuteTime": {
     "end_time": "2024-02-25T19:50:57.458657Z",
     "start_time": "2024-02-25T19:50:56.871704Z"
    }
   },
   "execution_count": 2
  },
  {
   "cell_type": "code",
   "outputs": [],
   "source": [
    "x_train_pca_Trans_sc = pca.fit_transform(x_train_sc)\n",
    "x_test_pca_Trans_sc = pca.transform(x_test_sc)"
   ],
   "metadata": {
    "collapsed": false,
    "ExecuteTime": {
     "end_time": "2024-02-25T19:50:57.710668Z",
     "start_time": "2024-02-25T19:50:57.460547Z"
    }
   },
   "execution_count": 3
  },
  {
   "cell_type": "code",
   "outputs": [
    {
     "name": "stdout",
     "output_type": "stream",
     "text": [
      "PCA applied to the training and testing features:\n",
      "- x_train_pca_Trans_sc: Scaled training features.\n",
      "- x_test_pca_Trans_sc: Scaled testing features.\n",
      "- x_train_pca_Trans - Training features.\n",
      "- x_test_pca_Trans - Testing features.\n"
     ]
    }
   ],
   "source": [
    "print(\"\"\"PCA applied to the training and testing features:\n",
    "- x_train_pca_Trans_sc: Scaled training features.\n",
    "- x_test_pca_Trans_sc: Scaled testing features.\n",
    "- x_train_pca_Trans - Training features.\n",
    "- x_test_pca_Trans - Testing features.\"\"\")"
   ],
   "metadata": {
    "collapsed": false,
    "ExecuteTime": {
     "end_time": "2024-02-25T19:50:57.718383Z",
     "start_time": "2024-02-25T19:50:57.713345Z"
    }
   },
   "execution_count": 4
  },
  {
   "cell_type": "code",
   "outputs": [],
   "source": [],
   "metadata": {
    "collapsed": false,
    "ExecuteTime": {
     "end_time": "2024-02-25T19:50:57.726465Z",
     "start_time": "2024-02-25T19:50:57.723771Z"
    }
   },
   "execution_count": 4
  }
 ],
 "metadata": {
  "kernelspec": {
   "display_name": "Python 3",
   "language": "python",
   "name": "python3"
  },
  "language_info": {
   "codemirror_mode": {
    "name": "ipython",
    "version": 2
   },
   "file_extension": ".py",
   "mimetype": "text/x-python",
   "name": "python",
   "nbconvert_exporter": "python",
   "pygments_lexer": "ipython2",
   "version": "2.7.6"
  }
 },
 "nbformat": 4,
 "nbformat_minor": 0
}
