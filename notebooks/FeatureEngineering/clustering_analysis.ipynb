{
 "cells": [
  {
   "cell_type": "code",
   "execution_count": 2,
   "outputs": [
    {
     "name": "stdout",
     "output_type": "stream",
     "text": [
      "Data loaded:\n",
      "- x_train_sc: Scaled training features.\n",
      "- x_test_sc: Scaled testing features.\n",
      "- x_train - Training features.\n",
      "- x_test - Testing features.\n",
      "- y_train - Training labels.\n",
      "- y_test - Testing labels.\n"
     ]
    }
   ],
   "source": [
    "data_file = '../combined_data.csv' # Load variable so data_loader can locale the csv filesystem path accordingly.\n",
    "%run ../data_loader.ipynb "
   ],
   "metadata": {
    "collapsed": false,
    "ExecuteTime": {
     "end_time": "2024-02-18T13:51:25.246045Z",
     "start_time": "2024-02-18T13:51:21.605380Z"
    }
   }
  },
  {
   "cell_type": "code",
   "outputs": [],
   "source": [
    "# TODO - Add to README References\n",
    "# https://scikit-learn.org/stable/modules/clustering.html\n",
    "# https://scikit-learn.org/stable/modules/generated/sklearn.metrics.silhouette_score.html\n",
    "# https://scikit-learn.org/stable/auto_examples/cluster/plot_kmeans_silhouette_analysis.html#sphx-glr-auto-examples-cluster-plot-kmeans-silhouette-analysis-py\n",
    "# https://scikit-learn.org/stable/auto_examples/cluster/plot_kmeans_silhouette_analysis.html#sphx-glr-auto-examples-cluster-plot-kmeans-silhouette-analysis-py\n",
    "# https://matplotlib.org/stable/api/_as_gen/matplotlib.pyplot.scatter.html"
   ],
   "metadata": {
    "collapsed": false
   }
  },
  {
   "cell_type": "code",
   "outputs": [],
   "source": [
    "import matplotlib.cm as cm\n",
    "import matplotlib.pyplot as plt\n",
    "import numpy as np\n",
    "\n",
    "from sklearn.cluster import KMeans\n",
    "from sklearn.metrics import silhouette_samples, silhouette_score\n",
    "\n",
    "\n",
    "range_n_clusters = [5, 6, 7, 8, 9, 10]\n",
    "\n",
    "for n_clusters in range_n_clusters:\n",
    "    # Create a subplot with 1 row and 2 columns\n",
    "    fig, (ax1, ax2) = plt.subplots(1, 2)\n",
    "    fig.set_size_inches(18, 7)\n",
    "\n",
    "    # The 1st subplot is the silhouette plot\n",
    "    # The silhouette coefficient can range from -1, 1 but in this example all\n",
    "    # lie within [-0.1, 1]\n",
    "    ax1.set_xlim([-0.1, 1])\n",
    "    # The (n_clusters+1)*10 is for inserting blank space between silhouette\n",
    "    # plots of individual clusters, to demarcate them clearly.\n",
    "    ax1.set_ylim([0, len(y_train) + (n_clusters + 1) * 10])\n",
    "\n",
    "    # Initialize the clusterer with n_clusters value and a random generator\n",
    "    # seed of 10 for reproducibility.\n",
    "    clusterer = KMeans(n_clusters=n_clusters, random_state=10)\n",
    "    cluster_labels = clusterer.fit_predict(y_train_sc)\n",
    "\n",
    "    # The silhouette_score gives the average value for all the samples.\n",
    "    # This gives a perspective into the density and separation of the formed\n",
    "    # clusters\n",
    "    silhouette_avg = silhouette_score(y_train_sc, cluster_labels)\n",
    "    print(\n",
    "        \"For n_clusters =\",\n",
    "        n_clusters,\n",
    "        \"The average silhouette_score is :\",\n",
    "        silhouette_avg,\n",
    "    )\n",
    "\n",
    "    # Compute the silhouette scores for each sample\n",
    "    sample_silhouette_values = silhouette_samples(y_train_sc, cluster_labels)\n",
    "\n",
    "    y_lower = 10\n",
    "    for i in range(n_clusters):\n",
    "        # Aggregate the silhouette scores for samples belonging to\n",
    "        # cluster i, and sort them\n",
    "        ith_cluster_silhouette_values = sample_silhouette_values[cluster_labels == i]\n",
    "\n",
    "        ith_cluster_silhouette_values.sort()\n",
    "\n",
    "        size_cluster_i = ith_cluster_silhouette_values.shape[0]\n",
    "        y_upper = y_lower + size_cluster_i\n",
    "\n",
    "        color = cm.nipy_spectral(float(i) / n_clusters)\n",
    "        ax1.fill_betweenx(\n",
    "            np.arange(y_lower, y_upper),\n",
    "            0,\n",
    "            ith_cluster_silhouette_values,\n",
    "            facecolor=color,\n",
    "            edgecolor=color,\n",
    "            alpha=0.7,\n",
    "        )\n",
    "\n",
    "        # Label the silhouette plots with their cluster numbers at the middle\n",
    "        ax1.text(-0.05, y_lower + 0.5 * size_cluster_i, str(i))\n",
    "\n",
    "        # Compute the new y_lower for next plot\n",
    "        y_lower = y_upper + 10  # 10 for the 0 samples\n",
    "\n",
    "    ax1.set_title(\"The silhouette plot for the various clusters.\")\n",
    "    ax1.set_xlabel(\"The silhouette coefficient values\")\n",
    "    ax1.set_ylabel(\"Cluster label\")\n",
    "\n",
    "    # The vertical line for average silhouette score of all the values\n",
    "    ax1.axvline(x=silhouette_avg, color=\"red\", linestyle=\"--\")\n",
    "\n",
    "    ax1.set_yticks([])  # Clear the yaxis labels / ticks\n",
    "    ax1.set_xticks([-0.1, 0, 0.2, 0.4, 0.6, 0.8, 1])\n",
    "\n",
    "    # 2nd Plot showing the actual clusters formed\n",
    "    colors = cm.nipy_spectral(cluster_labels.astype(float) / n_clusters)\n",
    "    ax2.scatter(\n",
    "        x_axis, y_train[:, 1], marker=\".\", s=30, lw=0, alpha=0.7, c=colors, edgecolor=\"k\"\n",
    "    )\n",
    "\n",
    "    # Labeling the clusters\n",
    "    centers = clusterer.cluster_centers_\n",
    "    # Draw white circles at cluster centers\n",
    "    ax2.scatter(\n",
    "        centers[:, 0],\n",
    "        centers[:, 1],\n",
    "        marker=\"o\",\n",
    "        c=\"white\",\n",
    "        alpha=1,\n",
    "        s=200,\n",
    "        edgecolor=\"k\",\n",
    "    )\n",
    "\n",
    "    for i, c in enumerate(centers):\n",
    "        ax2.scatter(c[0], c[1], marker=\"$%d$\" % i, alpha=1, s=50, edgecolor=\"k\")\n",
    "\n",
    "    ax2.set_title(\"The visualization of the clustered data.\")\n",
    "    ax2.set_xlabel(\"Feature space for the 1st feature\")\n",
    "    ax2.set_ylabel(\"Feature space for the 2nd feature\")\n",
    "\n",
    "    plt.suptitle(\n",
    "        \"Silhouette analysis for KMeans clustering on sample data with n_clusters = %d\"\n",
    "        % n_clusters,\n",
    "        fontsize=14,\n",
    "        fontweight=\"bold\",\n",
    "    )\n",
    "\n",
    "plt.show()\n"
   ],
   "metadata": {
    "collapsed": false
   },
   "execution_count": null
  },
  {
   "cell_type": "code",
   "outputs": [],
   "source": [
    "y_train[:, 1]"
   ],
   "metadata": {
    "collapsed": false
   }
  },
  {
   "cell_type": "code",
   "outputs": [],
   "source": [
    "from matplotlib import pyplot as plt\n",
    "import numpy as np\n",
    "# Plotting\n",
    "plt.figure(figsize=(10, 6))\n",
    "plt.plot(k_values, silhouette_scores, color='orange')\n",
    "plt.xlabel('k')\n",
    "plt.ylabel('Silhouette score')\n",
    "plt.title('Silhouette score vs. Number of clusters (k)')\n",
    "plt.xticks(np.arange(min(k_values), max(k_values) + 1, 1.0))\n",
    "plt.grid(True)\n",
    "plt.savefig(os.path.join(images_path, 'silhouette_score_day_period_start_stations_vs_number_of_clusters.png'))\n",
    "plt.show()\n",
    "# Output the optimal k based on silhouette score\n",
    "optimal_k = k_values[silhouette_scores.index(max(silhouette_scores))]\n",
    "print(f\"The optimal number of clusters k is: {optimal_k}\")"
   ],
   "metadata": {
    "collapsed": false
   }
  },
  {
   "cell_type": "code",
   "outputs": [],
   "source": [
    "from sklearn.cluster import KMeans\n",
    "import numpy as np\n",
    "# Perform K-Means clustering\n",
    "kmeans = KMeans(n_clusters=5, random_state=42)\n",
    "cluster_labels = kmeans.fit_predict(y_train_sc)\n",
    "cluster_labels.shape, y_train.shape"
   ],
   "metadata": {
    "collapsed": false
   }
  },
  {
   "cell_type": "code",
   "outputs": [],
   "source": [
    "import matplotlib.pyplot as plt\n",
    "\n",
    "# Create the scatter plot\n",
    "plt.figure(figsize=(10, 8))\n",
    "\n",
    "scatter = plt.scatter(x_axis, y_train, c=cluster_labels,\n",
    "                      cmap='viridis', alpha=0.5)\n",
    "# , c=pandas_df['prediction'],\n",
    "#                       cmap='viridis', alpha=0.5)\n",
    "\n",
    "# Assuming 'day_period_index' and 'start_station_id_index' are numeric or have been appropriately converted for plotting\n",
    "plt.title('KMeans Clustering Results')\n",
    "plt.xlabel('Index')\n",
    "plt.ylabel('Log views')\n",
    "plt.colorbar(scatter, label='Cluster')\n",
    "# plt.savefig(os.path.join(images_path, 'k_means_clusters_day_period_start_stations.png'))\n",
    "plt.show()\n"
   ],
   "metadata": {
    "collapsed": false
   },
   "execution_count": null
  },
  {
   "cell_type": "markdown",
   "source": [
    "# ## Clustering with KMeans \n",
    "\n",
    "- Adding a new feature, based on Clusters to the dataset to try and improve the model."
   ],
   "metadata": {
    "collapsed": false
   }
  },
  {
   "cell_type": "code",
   "outputs": [],
   "source": [
    "# Convert cluster labels into a feature\n",
    "X_with_cluster = np.hstack((x_train_sc, cluster_labels[:, None]))"
   ],
   "metadata": {
    "collapsed": false
   }
  },
  {
   "cell_type": "code",
   "outputs": [],
   "source": [
    "from sklearn.model_selection import train_test_split\n",
    "from sklearn.ensemble import GradientBoostingRegressor\n",
    "from sklearn.metrics import mean_squared_error\n",
    "\n",
    "# Split the enhanced dataset into training and testing sets\n",
    "X_train, X_test, y_train, y_test = train_test_split(X_with_cluster, y_train, test_size=0.2, random_state=42)\n",
    "\n",
    "# Initialize and train the Gradient Boosting Regressor\n",
    "gbr = GradientBoostingRegressor(n_estimators=100, learning_rate=0.1, max_depth=3, random_state=42)\n",
    "gbr.fit(X_train, y_train)\n",
    "\n",
    "# Make predictions and evaluate the model\n",
    "y_pred = gbr.predict(X_test)\n",
    "mse = mean_squared_error(y_test, y_pred)\n",
    "print(f\"Mean Squared Error: {mse}\")"
   ],
   "metadata": {
    "collapsed": false
   },
   "execution_count": null
  },
  {
   "cell_type": "code",
   "execution_count": null,
   "outputs": [],
   "source": [
    "import matplotlib.pyplot as plt\n",
    "\n",
    "# Convert the Spark DataFrame to Pandas for plotting (assuming this is manageable size-wise)\n",
    "pandas_df = predictions.select('day_period_index', 'start_station_id_index', 'prediction').toPandas()\n",
    "\n",
    "# Create the scatter plot\n",
    "plt.figure(figsize=(10, 8))\n",
    "scatter = plt.scatter(pandas_df['day_period_index'], pandas_df['start_station_id_index'], c=pandas_df['prediction'],\n",
    "                      cmap='viridis', alpha=0.5)\n",
    "\n",
    "# Assuming 'day_period_index' and 'start_station_id_index' are numeric or have been appropriately converted for plotting\n",
    "plt.title('KMeans Clustering Results')\n",
    "plt.xlabel('Day Period Index')\n",
    "plt.ylabel('Start Station ID Index')\n",
    "plt.colorbar(scatter, label='Cluster')\n",
    "plt.savefig(os.path.join(images_path, 'k_means_clusters_day_period_start_stations.png'))\n",
    "plt.show()\n"
   ],
   "metadata": {
    "collapsed": false
   }
  },
  {
   "cell_type": "code",
   "execution_count": null,
   "outputs": [],
   "source": [
    "import matplotlib.pyplot as plt\n",
    "\n",
    "# Convert the Spark DataFrame to Pandas for plotting (assuming this is manageable size-wise)\n",
    "pandas_df = predictions.select('week_day_index', 'start_station_id_index', 'prediction').toPandas()\n",
    "\n",
    "# Create the scatter plot\n",
    "plt.figure(figsize=(10, 8))\n",
    "scatter = plt.scatter(pandas_df['start_station_id_index'], pandas_df['week_day_index'], c=pandas_df['prediction'],\n",
    "                      cmap='viridis', alpha=0.5)\n",
    "\n",
    "# Assuming 'day_period_index' and 'start_station_id_index' are numeric or have been appropriately converted for plotting\n",
    "plt.title('KMeans Clustering Results')\n",
    "plt.xlabel('Day Period Index')\n",
    "plt.ylabel('Start Station ID Index')\n",
    "plt.colorbar(scatter, label='Cluster')\n",
    "plt.savefig(os.path.join(images_path, 'k_means_clusters_workday_start_stations.png'))\n",
    "plt.show()\n"
   ],
   "metadata": {
    "collapsed": false
   }
  },
  {
   "cell_type": "code",
   "execution_count": null,
   "outputs": [],
   "source": [
    "import matplotlib.pyplot as plt\n",
    "\n",
    "# Convert the Spark DataFrame to Pandas for plotting (assuming this is manageable size-wise)\n",
    "pandas_df = predictions.select('end_station_id_index', 'start_station_id_index', 'prediction').toPandas()\n",
    "\n",
    "# Create the scatter plot\n",
    "plt.figure(figsize=(10, 8))\n",
    "scatter = plt.scatter(pandas_df['start_station_id_index'], pandas_df['end_station_id_index'], c=pandas_df['prediction'],\n",
    "                      cmap='viridis', alpha=0.5)\n",
    "\n",
    "# Assuming 'day_period_index' and 'start_station_id_index' are numeric or have been appropriately converted for plotting\n",
    "plt.title('Clustering Routes')\n",
    "plt.xlabel('Start Stations')\n",
    "plt.ylabel('End Stations')\n",
    "plt.colorbar(scatter, label='Cluster')\n",
    "plt.savefig(os.path.join(images_path, 'k_means_clusters_end_start_stations.png'))\n",
    "plt.show()"
   ],
   "metadata": {
    "collapsed": false
   }
  },
  {
   "cell_type": "code",
   "execution_count": null,
   "outputs": [],
   "source": [],
   "metadata": {
    "collapsed": false
   }
  }
 ],
 "metadata": {
  "kernelspec": {
   "display_name": "Python 3",
   "language": "python",
   "name": "python3"
  },
  "language_info": {
   "codemirror_mode": {
    "name": "ipython",
    "version": 2
   },
   "file_extension": ".py",
   "mimetype": "text/x-python",
   "name": "python",
   "nbconvert_exporter": "python",
   "pygments_lexer": "ipython2",
   "version": "2.7.6"
  }
 },
 "nbformat": 4,
 "nbformat_minor": 0
}
