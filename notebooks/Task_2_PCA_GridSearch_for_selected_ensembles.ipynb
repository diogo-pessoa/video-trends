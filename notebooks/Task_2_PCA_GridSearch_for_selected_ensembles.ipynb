{
 "cells": [
  {
   "cell_type": "markdown",
   "source": [
    "Tuning the best performing models\n",
    "---\n",
    "\n",
    "After initial review of Bagging, Boosting and Stacking. I'll now focus on the best 3 three models and apply PCA, GridSearch seeking to improve accuracy.\n",
    "\n",
    "Diogo Pessoa"
   ],
   "metadata": {
    "collapsed": false
   }
  },
  {
   "cell_type": "code",
   "outputs": [],
   "source": [
    "import pandas as pd\n",
    "\n",
    "combined_data = pd.read_csv('combined_data.csv').set_index('video_id')\n",
    "label = combined_data['label']\n",
    "features = combined_data.drop(['label'], axis=1)"
   ],
   "metadata": {
    "collapsed": false,
    "ExecuteTime": {
     "end_time": "2024-02-16T16:11:26.171051Z",
     "start_time": "2024-02-16T16:11:25.300340Z"
    }
   },
   "execution_count": 1
  },
  {
   "cell_type": "code",
   "outputs": [],
   "source": [
    "from sklearn.model_selection import train_test_split\n",
    "x_train, x_test, y_train, y_test = train_test_split(features.values, label.values, test_size=0.2, random_state=0)\n",
    "from sklearn.preprocessing import StandardScaler\n",
    "sc = StandardScaler()\n",
    "x_train_sc = sc.fit_transform(x_train)\n",
    "x_test_sc = sc.transform(x_test)"
   ],
   "metadata": {
    "collapsed": false,
    "ExecuteTime": {
     "end_time": "2024-02-16T16:12:25.926210Z",
     "start_time": "2024-02-16T16:12:24.385820Z"
    }
   },
   "execution_count": 2
  },
  {
   "cell_type": "code",
   "outputs": [
    {
     "data": {
      "text/plain": "'\\nRandomForestRegressor 0.19906876900824988 0.9399100491646171 0.9399541017739272\\nmean squared error r2 score explained variance score\\nGradientBoostingRegressor 0.3799829950579041 0.8853001422319302 0.885301770354857\\nLinearRegression 0.446259142254775 0.8652943399834946 0.8653391206880249\\nBaggingRegressor 0.1989198958725586 0.9399549873005636 0.9400026998167074\\nVotingRegressor 0.2962409649534499 0.9105781127388121 0.9114122683042218\\n\\n\\n'"
     },
     "execution_count": 3,
     "metadata": {},
     "output_type": "execute_result"
    }
   ],
   "source": [
    "# TODO - List the best models\n",
    "\"\"\"\n",
    "\n",
    "RandomForestRegressor 0.19906876900824988 0.9399100491646171 0.9399541017739272\n",
    "- Performed quite well, however we'll skip this modelm since it was used on notebook provided.\n",
    "\n",
    "Baseline: LinearRegression 0.446259142254775 0.8652943399834946 0.8653391206880249\n",
    "\n",
    "\n",
    "Bagging performing well. \n",
    "Ensemble Method 'mean squared error', 'r2 score', 'explained variance score'\n",
    "BaggingRegressor 0.1989198958725586 0.9399549873005636 0.9400026998167074\n",
    "VotingRegressor 0.2962409649534499 0.9105781127388121 0.9114122683042218 (Interesting as we can combine the other models under review. Yet, it's not the best performing model.)\n",
    "\n",
    "\n",
    "Boosting -  keeing at least one for comparison\n",
    "\n",
    "Ensemble Method 'mean squared error', 'r2 score', 'explained variance score'\n",
    "GradientBoostingRegressor 0.3799829950579041 0.8853001422319302 0.885301770354857\n",
    "\n",
    "Stacking - \n",
    "\n",
    "|Ensemble|mean squared error| |r2 score| |explained variance score|\n",
    "|Stacking Regressor|0.4227565962173764 | 0.8718890758241176 | 0.8719155515438354|\n",
    "\n",
    "'Estimators: RidgeCV, LassoCV, KNeighborsRegressor, GradientBoostingRegressor'\n",
    "\n",
    "\"\"\"\n"
   ],
   "metadata": {
    "collapsed": false,
    "ExecuteTime": {
     "end_time": "2024-02-16T16:17:38.731763Z",
     "start_time": "2024-02-16T16:17:38.720924Z"
    }
   },
   "execution_count": 3
  },
  {
   "cell_type": "markdown",
   "source": [
    "https://scikit-learn.org/stable/modules/generated/sklearn.model_selection.GridSearchCV.html"
   ],
   "metadata": {
    "collapsed": false
   }
  },
  {
   "cell_type": "code",
   "outputs": [],
   "source": [],
   "metadata": {
    "collapsed": false
   }
  }
 ],
 "metadata": {
  "kernelspec": {
   "display_name": "Python 3",
   "language": "python",
   "name": "python3"
  },
  "language_info": {
   "codemirror_mode": {
    "name": "ipython",
    "version": 2
   },
   "file_extension": ".py",
   "mimetype": "text/x-python",
   "name": "python",
   "nbconvert_exporter": "python",
   "pygments_lexer": "ipython2",
   "version": "2.7.6"
  }
 },
 "nbformat": 4,
 "nbformat_minor": 0
}
