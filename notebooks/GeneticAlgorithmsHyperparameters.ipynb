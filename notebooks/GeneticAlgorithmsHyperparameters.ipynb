{
 "cells": [
  {
   "cell_type": "code",
   "outputs": [],
   "source": [
    "import pandas as pd\n",
    "\n",
    "combined_data = pd.read_csv('combined_data.csv').set_index('video_id')\n",
    "label = combined_data['label']\n",
    "features = combined_data.drop(['label'], axis=1)"
   ],
   "metadata": {
    "collapsed": false,
    "ExecuteTime": {
     "end_time": "2024-02-15T20:03:29.415620Z",
     "start_time": "2024-02-15T20:03:28.670175Z"
    }
   },
   "id": "b985b31831eab822",
   "execution_count": 2
  },
  {
   "cell_type": "code",
   "execution_count": 25,
   "id": "initial_id",
   "metadata": {
    "collapsed": true,
    "ExecuteTime": {
     "end_time": "2024-02-15T20:32:07.349252Z",
     "start_time": "2024-02-15T20:32:07.226071Z"
    }
   },
   "outputs": [],
   "source": [
    "import random\n",
    "import numpy as np\n",
    "import pandas as pd\n",
    "# from sklearn.linear_model import LogisticRegression\n",
    "# from sklearn.metrics import accuracy_score\n",
    "from sklearn.metrics import mean_squared_error\n",
    "from sklearn.ensemble import RandomForestRegressor\n",
    "from sklearn.model_selection import train_test_split\n",
    "\n",
    "# Initialize the regression model\n",
    "model = RandomForestRegressor(n_estimators=100, random_state=0)\n",
    "\n",
    "# 1. Initial Population\n",
    "def initialise_population(size, n_feat):\n",
    "    population = []\n",
    "    for _ in range(size):\n",
    "        chromosome = np.ones(n_feat, dtype=bool)\n",
    "        chromosome[:int(0.3 * n_feat)] = False\n",
    "        np.random.shuffle(chromosome)\n",
    "        population.append(chromosome)\n",
    "    return population\n",
    "\n",
    "# 2. Fitness Function\n",
    "def fitness_score(population, X_train, X_test, y_train, y_test):\n",
    "    scores = []\n",
    "    for chromosome in population:\n",
    "        X_train_filtered = X_train[:, chromosome]\n",
    "        X_test_filtered = X_test[:, chromosome]\n",
    "        model.fit(X_train_filtered, y_train)\n",
    "        predictions = model.predict(X_test_filtered)\n",
    "        mse = mean_squared_error(y_test, predictions)\n",
    "        # Use negative MSE because we want to maximize fitness (minimize MSE)\n",
    "        scores.append(-mse)\n",
    "    scores, population = np.array(scores), np.array(population)\n",
    "    inds = np.argsort(scores)[::-1]  # Sort so that individuals with higher scores (lower MSE) come first\n",
    "    return list(scores[inds]), list(population[inds])\n",
    "\n",
    "# 3. Selection\n",
    "def selection(pop_after_fit, n_parents):\n",
    "    return pop_after_fit[:n_parents]\n",
    "\n",
    "# 4. Crossover\n",
    "def crossover(pop_after_sel):\n",
    "    population_nextgen = []\n",
    "    for i in range(0, len(pop_after_sel)-1, 2):\n",
    "        child1, child2 = pop_after_sel[i].copy(), pop_after_sel[i+1].copy()\n",
    "        crossover_point = np.random.randint(1, len(child1)-1)\n",
    "        child1[crossover_point:], child2[crossover_point:] = child2[crossover_point:], child1[crossover_point:]\n",
    "        population_nextgen.extend([child1, child2])\n",
    "    return population_nextgen\n",
    "\n",
    "# 5. Mutation\n",
    "def mutation(pop_after_cross, mutation_rate):\n",
    "    population_nextgen = []\n",
    "    for chromosome in pop_after_cross:\n",
    "        chromosome = np.array([not gene if random.random() < mutation_rate else gene for gene in chromosome])\n",
    "        population_nextgen.append(chromosome)\n",
    "    return population_nextgen\n",
    "\n",
    "# Generations\n",
    "def generations(size, n_feat, n_parents, mutation_rate, n_gen, X_train, X_test, y_train, y_test):\n",
    "    best_chromo = []\n",
    "    best_score = []\n",
    "    population_nextgen = initialise_population(size, n_feat)\n",
    "    for _ in range(n_gen):\n",
    "        scores, pop_after_fit = fitness_score(population_nextgen, X_train, X_test, y_train, y_test)\n",
    "        pop_after_sel = selection(pop_after_fit, n_parents)\n",
    "        pop_after_cross = crossover(pop_after_sel)\n",
    "        population_nextgen = mutation(pop_after_cross, mutation_rate)\n",
    "        best_chromo.append(pop_after_fit[0])\n",
    "        best_score.append(scores[0])\n",
    "    return best_chromo, best_score\n"
   ]
  },
  {
   "cell_type": "code",
   "outputs": [
    {
     "name": "stdout",
     "output_type": "stream",
     "text": [
      "check_data_split [(123653, 38), (30914, 38), (123653,), (30914,)]\n"
     ]
    }
   ],
   "source": [
    "from sklearn.model_selection import train_test_split\n",
    "from sklearn.preprocessing import StandardScaler\n",
    "\n",
    "x_train, x_test, y_train, y_test = train_test_split(features.values, label.values, test_size=0.2, random_state=0)\n",
    "\n",
    "sc = StandardScaler()\n",
    "x_train = sc.fit_transform(x_train)\n",
    "x_test = sc.transform(x_test)\n",
    "print('check_data_split', [x_train.shape, x_test.shape, y_train.shape, y_test.shape])"
   ],
   "metadata": {
    "collapsed": false,
    "ExecuteTime": {
     "end_time": "2024-02-15T20:32:09.761456Z",
     "start_time": "2024-02-15T20:32:08.514073Z"
    }
   },
   "id": "9ea9b7e228ed3ce0",
   "execution_count": 26
  },
  {
   "cell_type": "code",
   "outputs": [],
   "source": [
    "# Example usage (assuming X_train, X_test, y_train, y_test are already defined)\n",
    "size = 50  # Population size\n",
    "n_feat = x_train.shape[1]  # Number of features\n",
    "n_parents = 25  # Number of parents for crossover\n",
    "mutation_rate = 0.01  # Mutation rate\n",
    "n_gen = 100  # Number of generations\n",
    "best_chromo, best_score = generations(size, n_feat, n_parents, mutation_rate, n_gen, x_train, x_test, y_train, y_test)\n",
    "print(\"Best Score:\", best_score[-1])"
   ],
   "metadata": {
    "collapsed": false,
    "is_executing": true,
    "ExecuteTime": {
     "start_time": "2024-02-15T20:32:13.873693Z"
    }
   },
   "id": "b912700a12ccde37",
   "execution_count": null
  },
  {
   "cell_type": "code",
   "outputs": [],
   "source": [
    "from sklearn.ensemble import GradientBoostingRegressor\n",
    "from sklearn.ensemble import RandomForestRegressor\n",
    "from sklearn.linear_model import LinearRegression\n",
    "from sklearn.ensemble import VotingRegressor\n",
    "from sklearn.ensemble import AdaBoostRegressor\n",
    "from sklearn.ensemble import BaggingRegressor\n",
    "\n",
    "x_train_genetic = x_train[:, best_chromo[-1]]\n",
    "x_test_genetic = x_test[:, best_chromo[-1]]\n",
    "n_estimators=140\n",
    "# Training classifiers\n",
    "grad_boosting_regressor = GradientBoostingRegressor(random_state=1,)\n",
    "ada_boosting_regressor = AdaBoostRegressor(random_state=1, n_estimators=n_estimators)\n",
    "random_forest_regressor = RandomForestRegressor(random_state=1)\n",
    "bagging_regressor = BaggingRegressor(random_state=1, n_estimators=n_estimators)\n",
    "linear_regr = LinearRegression()\n",
    "voting_reg = VotingRegressor(estimators=[('gb', grad_boosting_regressor), ('rf', random_forest_regressor), ('lr', linear_regr), ('ada_b', ada_boosting_regressor), ('bagging_r', bagging_regressor)]) "
   ],
   "metadata": {
    "collapsed": false
   },
   "id": "b861c3887ba8aae5"
  },
  {
   "cell_type": "code",
   "outputs": [],
   "source": [
    "# Traing models - GradientBoostingRegressor, RandomForestRegressor, LinearRegression, AdaBoostRegressor, BaggingRegressor, VotingRegressor\n",
    "grad_boosting_regressor.fit(x_train_genetic, y_train)\n",
    "ada_boosting_regressor.fit(x_train_genetic, y_train)\n",
    "bagging_regressor.fit(x_train_genetic, y_train)\n",
    "random_forest_regressor.fit(x_train_genetic, y_train)\n",
    "linear_regr.fit(x_train_genetic, y_train)\n",
    "voting_reg.fit(x_train_genetic, y_train)"
   ],
   "metadata": {
    "collapsed": false
   },
   "id": "d0cd84823dfa7046"
  },
  {
   "cell_type": "code",
   "outputs": [],
   "source": [
    "gdb_prediction = grad_boosting_regressor.predict(x_test_Trans)\n",
    "rf_prediction = random_forest_regressor.predict(x_test_Trans)\n",
    "lg_prediction = linear_regr.predict(x_test_Trans)\n",
    "ada_b_prediction = ada_boosting_regressor.predict(x_test_Trans)\n",
    "bagging_r_prediction = bagging_regressor.predict(x_test_Trans)\n",
    "voting_reg_prediction = voting_reg.predict(x_test_Trans)"
   ],
   "metadata": {
    "collapsed": false
   },
   "id": "20c17e9acb710177"
  },
  {
   "cell_type": "code",
   "outputs": [],
   "source": [
    "from sklearn.metrics import mean_squared_error\n",
    "from sklearn.metrics import r2_score\n",
    "from sklearn.metrics import explained_variance_score\n",
    "\n",
    "print('mean squared error', 'r2 score', 'explained variance score')\n",
    "print('GradientBoostingRegressor',mean_squared_error(y_test, gdb_prediction),r2_score(y_test, gdb_prediction), explained_variance_score(y_test, gdb_prediction))\n",
    "print('RandomForestRegressor',mean_squared_error(y_test, rf_prediction),r2_score(y_test, rf_prediction), explained_variance_score(y_test, rf_prediction))\n",
    "print('LinearRegression',mean_squared_error(y_test, lg_prediction),r2_score(y_test, lg_prediction), explained_variance_score(y_test, lg_prediction))\n",
    "print('AdaBoostRegressor',mean_squared_error(y_test, ada_b_prediction),r2_score(y_test, ada_b_prediction), explained_variance_score(y_test, ada_b_prediction))\n",
    "print('BaggingRegressor',mean_squared_error(y_test, bagging_r_prediction),r2_score(y_test, bagging_r_prediction), explained_variance_score(y_test, bagging_r_prediction))\n",
    "print('VotingRegressor',mean_squared_error(y_test, voting_reg_prediction),r2_score(y_test, voting_reg_prediction), explained_variance_score(y_test, voting_reg_prediction))"
   ],
   "metadata": {
    "collapsed": false
   },
   "id": "943cf128be303013"
  }
 ],
 "metadata": {
  "kernelspec": {
   "display_name": "Python 3",
   "language": "python",
   "name": "python3"
  },
  "language_info": {
   "codemirror_mode": {
    "name": "ipython",
    "version": 2
   },
   "file_extension": ".py",
   "mimetype": "text/x-python",
   "name": "python",
   "nbconvert_exporter": "python",
   "pygments_lexer": "ipython2",
   "version": "2.7.6"
  }
 },
 "nbformat": 4,
 "nbformat_minor": 5
}
