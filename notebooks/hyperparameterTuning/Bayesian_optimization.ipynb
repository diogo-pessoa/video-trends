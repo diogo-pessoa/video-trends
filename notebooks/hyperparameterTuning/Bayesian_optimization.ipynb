{
 "cells": [
  {
   "cell_type": "code",
   "outputs": [
    {
     "name": "stdout",
     "output_type": "stream",
     "text": [
      "Data loaded:\n",
      "- x_train_sc: Scaled training features.\n",
      "- x_test_sc: Scaled testing features.\n",
      "- x_train - Training features.\n",
      "- x_test - Testing features.\n",
      "- y_train - Training labels.\n",
      "- y_test - Testing labels.\n"
     ]
    }
   ],
   "source": [
    "data_file = '../combined_data.csv'  # Load variable so data_loader can locale the csv filesystem path accordingly.\n",
    "%run ../data_loader.ipynb "
   ],
   "metadata": {
    "collapsed": false,
    "ExecuteTime": {
     "end_time": "2024-02-18T13:43:00.946774Z",
     "start_time": "2024-02-18T13:42:57.555058Z"
    }
   },
   "execution_count": 1
  },
  {
   "cell_type": "code",
   "outputs": [
    {
     "name": "stdout",
     "output_type": "stream",
     "text": [
      "PCA applied to the training and testing features:\n",
      "- x_train_pca_Trans_sc: Scaled training features.\n",
      "- x_test_pca_Trans_sc: Scaled testing features.\n",
      "- x_train_pca_Trans - Training features.\n",
      "- x_test_pca_Trans - Testing features.\n"
     ]
    }
   ],
   "source": [
    "%run ../FeatureEngineering/PCA.ipynb"
   ],
   "metadata": {
    "collapsed": false,
    "ExecuteTime": {
     "end_time": "2024-02-18T14:21:28.709018Z",
     "start_time": "2024-02-18T14:21:27.768931Z"
    }
   },
   "execution_count": 8
  },
  {
   "cell_type": "markdown",
   "source": [
    "Run BayesSearchCV for a list of models\n",
    "---\n",
    "\n",
    "### Expects models = list()\n"
   ],
   "metadata": {
    "collapsed": false
   }
  },
  {
   "cell_type": "code",
   "outputs": [],
   "source": [
    "rd_model = RandomForestRegressor(random_state=42)\n",
    "rd_search_space = {\n",
    "    'n_estimators': Integer(10, 40),\n",
    "    'max_depth': Integer(3, 10),\n",
    "    'min_samples_split': Real(0.01, 0.1)\n",
    "}\n",
    "models = [[rd_model, rd_search_space]]"
   ],
   "metadata": {
    "collapsed": false,
    "ExecuteTime": {
     "end_time": "2024-02-18T14:53:02.765853Z",
     "start_time": "2024-02-18T14:53:02.756696Z"
    }
   },
   "execution_count": 35
  },
  {
   "cell_type": "code",
   "outputs": [],
   "source": [
    "import time\n",
    "\n",
    "import numpy as np\n",
    "from skopt import BayesSearchCV\n",
    "\n",
    "np.int = int  # to fix attribute error: AttributeError: module 'numpy' has no attribute 'int'."
   ],
   "metadata": {
    "collapsed": false,
    "ExecuteTime": {
     "end_time": "2024-02-18T14:36:27.881550Z",
     "start_time": "2024-02-18T14:36:27.877955Z"
    }
   },
   "execution_count": 29
  },
  {
   "cell_type": "code",
   "outputs": [],
   "source": [
    "duration = time.time()\n",
    "\n",
    "for model in models:\n",
    "    start_time = time.time()\n",
    "\n",
    "    # Initialize Bayesian optimization\n",
    "    opt = BayesSearchCV(model[0], model[1], n_iter=8, random_state=42, cv=3, scoring='neg_mean_squared_error')\n",
    "    # Perform the optimization\n",
    "    opt.fit(x_train, y_train)\n",
    "\n",
    "    end_time = time.time()\n",
    "    # Calculate the duration\n",
    "    duration = end_time - start_time"
   ],
   "metadata": {
    "collapsed": false,
    "ExecuteTime": {
     "end_time": "2024-02-18T14:38:16.283783Z",
     "start_time": "2024-02-18T14:37:07.240752Z"
    }
   },
   "execution_count": 32
  },
  {
   "cell_type": "code",
   "outputs": [
    {
     "name": "stdout",
     "output_type": "stream",
     "text": [
      "Bayesian Optimization took 69.04\n",
      "Best parameters found:  OrderedDict([('max_depth', 9), ('min_samples_split', 0.025468440525690465), ('n_estimators', 21)])\n",
      "Best score found:  0.4779925255478792\n",
      "Best estimator found:  RandomForestRegressor(max_depth=9, min_samples_split=0.025468440525690465,\n",
      "                      n_estimators=21, random_state=42)\n"
     ]
    }
   ],
   "source": [
    "print(f\"Bayesian Optimization took {duration:.2f} sec.\")\n",
    "print(\"Best parameters found: \", opt.best_params_)\n",
    "print(\"Best score found: \", -opt.best_score_)\n",
    "print(\"Best estimator found: \", opt.best_estimator_)"
   ],
   "metadata": {
    "collapsed": false,
    "ExecuteTime": {
     "end_time": "2024-02-18T14:38:19.757395Z",
     "start_time": "2024-02-18T14:38:19.752428Z"
    }
   },
   "execution_count": 33
  },
  {
   "cell_type": "code",
   "outputs": [
    {
     "data": {
      "text/plain": "\"Future work:\\n   - Load train set and models from variables and make notebook callable from different notebooks.\\n\\n* How to fix the 'numpy.int' attribute error when using skopt.BayesSearchCV in scikit-learn?\\n\\nhttps://stackoverflow.com/questions/76321820/how-to-fix-the-numpy-int-attribute-error-when-using-skopt-bayessearchcv-in-sci\\n\\n\""
     },
     "execution_count": 34,
     "metadata": {},
     "output_type": "execute_result"
    }
   ],
   "source": [
    "\"\"\"Future work:\n",
    "   - Load train set and models from variables and make notebook callable from different notebooks.\n",
    "\n",
    "* How to fix the 'numpy.int' attribute error when using skopt.BayesSearchCV in scikit-learn?\n",
    "\n",
    "https://stackoverflow.com/questions/76321820/how-to-fix-the-numpy-int-attribute-error-when-using-skopt-bayessearchcv-in-sci\n",
    "\n",
    "\"\"\""
   ],
   "metadata": {
    "collapsed": false,
    "ExecuteTime": {
     "end_time": "2024-02-18T14:52:38.186791Z",
     "start_time": "2024-02-18T14:52:38.174137Z"
    }
   },
   "execution_count": 34
  },
  {
   "cell_type": "code",
   "outputs": [],
   "source": [],
   "metadata": {
    "collapsed": false
   }
  }
 ],
 "metadata": {
  "kernelspec": {
   "display_name": "Python 3",
   "language": "python",
   "name": "python3"
  },
  "language_info": {
   "codemirror_mode": {
    "name": "ipython",
    "version": 2
   },
   "file_extension": ".py",
   "mimetype": "text/x-python",
   "name": "python",
   "nbconvert_exporter": "python",
   "pygments_lexer": "ipython2",
   "version": "2.7.6"
  }
 },
 "nbformat": 4,
 "nbformat_minor": 0
}
