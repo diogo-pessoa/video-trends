{
 "cells": [
  {
   "cell_type": "code",
   "outputs": [
    {
     "name": "stdout",
     "output_type": "stream",
     "text": [
      "Data loaded:\n",
      "- x_train_sc: Scaled training features.\n",
      "- x_test_sc: Scaled testing features.\n",
      "- x_train - Training features.\n",
      "- x_test - Testing features.\n",
      "- y_train - Training labels.\n",
      "- y_test - Testing labels.\n"
     ]
    }
   ],
   "source": [
    "data_file = '../combined_data.csv'  # Load variable so data_loader can locale the csv filesystem path accordingly.\n",
    "%run ../data_loader.ipynb "
   ],
   "metadata": {
    "collapsed": false,
    "ExecuteTime": {
     "end_time": "2024-02-18T14:22:11.931882Z",
     "start_time": "2024-02-18T14:22:08.521329Z"
    }
   },
   "id": "217737dc2b89210a",
   "execution_count": 1
  },
  {
   "cell_type": "code",
   "execution_count": 2,
   "id": "initial_id",
   "metadata": {
    "collapsed": true,
    "ExecuteTime": {
     "end_time": "2024-02-18T14:22:12.875249Z",
     "start_time": "2024-02-18T14:22:11.933969Z"
    }
   },
   "outputs": [
    {
     "name": "stdout",
     "output_type": "stream",
     "text": [
      "PCA applied to the training and testing features:\n",
      "- x_train_pca_Trans_sc: Scaled training features.\n",
      "- x_test_pca_Trans_sc: Scaled testing features.\n",
      "- x_train_pca_Trans - Training features.\n",
      "- x_test_pca_Trans - Testing features.\n"
     ]
    }
   ],
   "source": [
    "%run ../FeatureEngineering/PCA.ipynb"
   ]
  },
  {
   "cell_type": "code",
   "outputs": [],
   "source": [
    "import time\n",
    "\n",
    "from sklearn.ensemble import RandomForestRegressor\n",
    "from sklearn.model_selection import GridSearchCV\n",
    "\n",
    "base_models = RandomForestRegressor(random_state=42)\n",
    "rd_search_space = {\n",
    "    'n_estimators': [10, 40],\n",
    "    'max_depth': [3, 10],\n",
    "    'min_samples_split': [0.01, 0.1]\n",
    "}\n",
    "models = [[base_models, rd_search_space]]"
   ],
   "metadata": {
    "collapsed": false,
    "ExecuteTime": {
     "end_time": "2024-02-18T14:53:05.180028Z",
     "start_time": "2024-02-18T14:53:05.175456Z"
    }
   },
   "id": "5aad1e843ecc7bca",
   "execution_count": 19
  },
  {
   "cell_type": "code",
   "outputs": [],
   "source": [
    "duration = 0\n",
    "for model in models:\n",
    "  start_time = time.time()\n",
    "  \n",
    "  grid = GridSearchCV(estimator=model[0],\n",
    "                      param_grid=model[1], cv=5, scoring=['neg_mean_squared_error', 'r2', 'explained_variance'],\n",
    "                      n_jobs=-1, refit='neg_mean_squared_error')\n",
    "  grid.fit(x_train, y_train)\n",
    "  # Record the end time\n",
    "  end_time = time.time()\n",
    "  # Calculate the duration\n",
    "  duration = end_time - start_time"
   ],
   "metadata": {
    "collapsed": false,
    "is_executing": true,
    "ExecuteTime": {
     "start_time": "2024-02-18T14:53:06.710184Z"
    }
   },
   "id": "d40166c818c5b636",
   "execution_count": null
  },
  {
   "cell_type": "code",
   "outputs": [
    {
     "name": "stdout",
     "output_type": "stream",
     "text": [
      "GridSearchCV took 52.42 seconds.\n",
      "Best parameters found:  {'max_depth': 10, 'min_samples_split': 0.01, 'n_estimators': 28}\n",
      "Best score found:  0.43807123636226847\n",
      "Best estimator found:  RandomForestRegressor(max_depth=10, min_samples_split=0.01, n_estimators=28,\n",
      "                      random_state=42)\n"
     ]
    }
   ],
   "source": [
    "print(f\"GridSearchCV took {duration:.2f} seconds.\")\n",
    "print(\"Best parameters found: \", grid.best_params_)\n",
    "print(\"Best score found: \", -grid.best_score_)\n",
    "print(\"Best estimator found: \", grid.best_estimator_)"
   ],
   "metadata": {
    "collapsed": false,
    "ExecuteTime": {
     "end_time": "2024-02-18T14:50:38.892235Z",
     "start_time": "2024-02-18T14:50:38.887925Z"
    }
   },
   "id": "cdfb6222fd1e471b",
   "execution_count": 18
  },
  {
   "cell_type": "code",
   "outputs": [],
   "source": [
    "\"\"\"Future work:\n",
    "   - Load train set and models from variables and make notebook callable from different notebooks.\n",
    "\"\"\""
   ],
   "metadata": {
    "collapsed": false
   },
   "id": "e78bfdb2befd9b6b"
  }
 ],
 "metadata": {
  "kernelspec": {
   "display_name": "Python 3",
   "language": "python",
   "name": "python3"
  },
  "language_info": {
   "codemirror_mode": {
    "name": "ipython",
    "version": 2
   },
   "file_extension": ".py",
   "mimetype": "text/x-python",
   "name": "python",
   "nbconvert_exporter": "python",
   "pygments_lexer": "ipython2",
   "version": "2.7.6"
  }
 },
 "nbformat": 4,
 "nbformat_minor": 5
}
