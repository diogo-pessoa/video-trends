{
 "cells": [
  {
   "cell_type": "markdown",
   "source": [
    "Supervisor Process to manage the workers.\n",
    "---\n",
    "Diogo Pessoa\n",
    "\n",
    "1. Load csv into pandas dataframe and split into features and labels.\n",
    "2. Splits the data into training and testing sets.\n",
    "3. Scales the data using StandardScaler.\n",
    "\n",
    "Output:\n",
    "- x_train_sc: Scaled training features.\n",
    "- x_test_sc: Scaled testing features.\n",
    "- x_train - Training features.\n",
    "- x_test - Testing features.\n",
    "- y_train - Training labels.\n",
    "- y_test - Testing labels.\n",
    "\n",
    "call:\n",
    "`%run data_loader.ipynb`\n"
   ],
   "metadata": {
    "collapsed": false
   }
  },
  {
   "cell_type": "code",
   "outputs": [
    {
     "name": "stdout",
     "output_type": "stream",
     "text": [
      "Data loaded:\n",
      "- features: All features.\n",
      "- label: label (views_log).\n",
      "- x_train_sc: Scaled training features.\n",
      "- x_test_sc: Scaled testing features.\n",
      "- x_train - Training features.\n",
      "- x_test - Testing features.\n",
      "- y_train - Training labels.\n",
      "- y_test - Testing labels.\n"
     ]
    }
   ],
   "source": [
    "print(\"\"\"Data loaded:\n",
    "- features: All features.\n",
    "- label: label (views_log).\n",
    "- x_train_sc: Scaled training features.\n",
    "- x_test_sc: Scaled testing features.\n",
    "- x_train - Training features.\n",
    "- x_test - Testing features.\n",
    "- y_train - Training labels.\n",
    "- y_test - Testing labels.\"\"\")"
   ],
   "metadata": {
    "collapsed": false,
    "ExecuteTime": {
     "end_time": "2024-02-24T19:11:20.754503Z",
     "start_time": "2024-02-24T19:11:20.750338Z"
    }
   },
   "execution_count": 2
  },
  {
   "cell_type": "code",
   "outputs": [
    {
     "ename": "NameError",
     "evalue": "name 'data_file' is not defined",
     "output_type": "error",
     "traceback": [
      "\u001B[0;31m---------------------------------------------------------------------------\u001B[0m",
      "\u001B[0;31mNameError\u001B[0m                                 Traceback (most recent call last)",
      "Cell \u001B[0;32mIn[1], line 3\u001B[0m\n\u001B[1;32m      1\u001B[0m \u001B[38;5;28;01mimport\u001B[39;00m \u001B[38;5;21;01mpandas\u001B[39;00m \u001B[38;5;28;01mas\u001B[39;00m \u001B[38;5;21;01mpd\u001B[39;00m\n\u001B[0;32m----> 3\u001B[0m combined_data \u001B[38;5;241m=\u001B[39m pd\u001B[38;5;241m.\u001B[39mread_csv(\u001B[43mdata_file\u001B[49m)\u001B[38;5;241m.\u001B[39mset_index(\u001B[38;5;124m'\u001B[39m\u001B[38;5;124mvideo_id\u001B[39m\u001B[38;5;124m'\u001B[39m)\n\u001B[1;32m      4\u001B[0m label \u001B[38;5;241m=\u001B[39m combined_data[\u001B[38;5;124m'\u001B[39m\u001B[38;5;124mlabel\u001B[39m\u001B[38;5;124m'\u001B[39m]\n\u001B[1;32m      5\u001B[0m features \u001B[38;5;241m=\u001B[39m combined_data\u001B[38;5;241m.\u001B[39mdrop([\u001B[38;5;124m'\u001B[39m\u001B[38;5;124mlabel\u001B[39m\u001B[38;5;124m'\u001B[39m], axis\u001B[38;5;241m=\u001B[39m\u001B[38;5;241m1\u001B[39m)\n",
      "\u001B[0;31mNameError\u001B[0m: name 'data_file' is not defined"
     ]
    }
   ],
   "source": [
    "import pandas as pd\n",
    "\n",
    "combined_data = pd.read_csv(data_file).set_index('video_id')\n",
    "label = combined_data['label']\n",
    "features = combined_data.drop(['label'], axis=1)"
   ],
   "metadata": {
    "collapsed": false,
    "ExecuteTime": {
     "end_time": "2024-02-24T19:11:15.732332Z",
     "start_time": "2024-02-24T19:11:14.821074Z"
    }
   },
   "execution_count": 1
  },
  {
   "cell_type": "code",
   "outputs": [],
   "source": [],
   "metadata": {
    "collapsed": false
   }
  },
  {
   "cell_type": "code",
   "outputs": [],
   "source": [
    "from sklearn.model_selection import train_test_split\n",
    "\n",
    "x_train, x_test, y_train, y_test = train_test_split(features.values, label.values, test_size=0.2, random_state=0)\n",
    "from sklearn.preprocessing import StandardScaler\n",
    "\n",
    "sc = StandardScaler()\n",
    "x_train_sc = sc.fit_transform(x_train)\n",
    "x_test_sc = sc.transform(x_test)"
   ],
   "metadata": {
    "collapsed": false,
    "ExecuteTime": {
     "end_time": "2024-02-17T19:44:46.169520Z",
     "start_time": "2024-02-17T19:44:44.988192Z"
    }
   },
   "execution_count": 3
  },
  {
   "cell_type": "markdown",
   "source": [],
   "metadata": {
    "collapsed": false
   }
  }
 ],
 "metadata": {
  "kernelspec": {
   "display_name": "Python 3",
   "language": "python",
   "name": "python3"
  },
  "language_info": {
   "codemirror_mode": {
    "name": "ipython",
    "version": 2
   },
   "file_extension": ".py",
   "mimetype": "text/x-python",
   "name": "python",
   "nbconvert_exporter": "python",
   "pygments_lexer": "ipython2",
   "version": "2.7.6"
  }
 },
 "nbformat": 4,
 "nbformat_minor": 0
}
