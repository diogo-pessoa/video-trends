{
 "cells": [
  {
   "cell_type": "markdown",
   "source": [
    "Supervisor Process to manage the workers.\n",
    "---\n",
    "Diogo Pessoa\n",
    "\n",
    "1. Load csv into pandas dataframe and split into features and labels.\n",
    "2. Splits the data into training and testing sets.\n",
    "3. Scales the data using StandardScaler.\n",
    "\n",
    "Output:\n",
    "- x_train_sc: Scaled training features.\n",
    "- x_test_sc: Scaled testing features.\n",
    "- x_train - Training features.\n",
    "- x_test - Testing features.\n",
    "- y_train - Training labels.\n",
    "- y_test - Testing labels.\n",
    "\n",
    "call:\n",
    "`%run data_loader.ipynb`\n"
   ],
   "metadata": {
    "collapsed": false
   }
  },
  {
   "cell_type": "code",
   "outputs": [
    {
     "name": "stdout",
     "output_type": "stream",
     "text": [
      "Data loaded:\n",
      "- features: All features.\n",
      "- label: label (views_log).\n",
      "- x_train_sc: Scaled training features.\n",
      "- x_test_sc: Scaled testing features.\n",
      "- x_train - Training features.\n",
      "- x_test - Testing features.\n",
      "- y_train - Training labels.\n",
      "- y_test - Testing labels.\n"
     ]
    }
   ],
   "source": [
    "print(\"\"\"Data loaded:\n",
    "- features: All features.\n",
    "- label: label (views_log).\n",
    "- x_train_sc: Scaled training features.\n",
    "- x_test_sc: Scaled testing features.\n",
    "- x_train - Training features.\n",
    "- x_test - Testing features.\n",
    "- y_train - Training labels.\n",
    "- y_test - Testing labels.\"\"\")"
   ],
   "metadata": {
    "collapsed": false,
    "ExecuteTime": {
     "end_time": "2024-02-18T15:04:53.354774Z",
     "start_time": "2024-02-18T15:04:53.296553Z"
    }
   },
   "execution_count": 4
  },
  {
   "cell_type": "code",
   "outputs": [],
   "source": [
    "import pandas as pd\n",
    "\n",
    "combined_data = pd.read_csv(data_file).set_index('video_id')\n",
    "label = combined_data['label']\n",
    "features = combined_data.drop(['label'], axis=1)"
   ],
   "metadata": {
    "collapsed": false,
    "ExecuteTime": {
     "end_time": "2024-02-17T19:44:44.985916Z",
     "start_time": "2024-02-17T19:44:43.866405Z"
    }
   },
   "execution_count": 2
  },
  {
   "cell_type": "code",
   "outputs": [],
   "source": [
    "from sklearn.model_selection import train_test_split\n",
    "\n",
    "x_train, x_test, y_train, y_test = train_test_split(features.values, label.values, test_size=0.2, random_state=0)\n",
    "from sklearn.preprocessing import StandardScaler\n",
    "\n",
    "sc = StandardScaler()\n",
    "x_train_sc = sc.fit_transform(x_train)\n",
    "x_test_sc = sc.transform(x_test)"
   ],
   "metadata": {
    "collapsed": false,
    "ExecuteTime": {
     "end_time": "2024-02-17T19:44:46.169520Z",
     "start_time": "2024-02-17T19:44:44.988192Z"
    }
   },
   "execution_count": 3
  },
  {
   "cell_type": "markdown",
   "source": [],
   "metadata": {
    "collapsed": false
   }
  }
 ],
 "metadata": {
  "kernelspec": {
   "display_name": "Python 3",
   "language": "python",
   "name": "python3"
  },
  "language_info": {
   "codemirror_mode": {
    "name": "ipython",
    "version": 2
   },
   "file_extension": ".py",
   "mimetype": "text/x-python",
   "name": "python",
   "nbconvert_exporter": "python",
   "pygments_lexer": "ipython2",
   "version": "2.7.6"
  }
 },
 "nbformat": 4,
 "nbformat_minor": 0
}
