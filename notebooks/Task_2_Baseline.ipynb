{
 "cells": [
  {
   "cell_type": "markdown",
   "source": [
    "Tech Project 2 - Comparing Ensemble Methods - Collecting Baseline Scores\n",
    "\n",
    "Diogo Pessoa\n"
   ],
   "metadata": {
    "collapsed": false
   },
   "id": "67a179537fc9ca73"
  },
  {
   "cell_type": "code",
   "outputs": [
    {
     "name": "stdout",
     "output_type": "stream",
     "text": [
      "check_data_split [(123653, 38), (30914, 38), (123653,), (30914,)]\n"
     ]
    }
   ],
   "source": [
    "%run data_loader.ipynb"
   ],
   "metadata": {
    "collapsed": false,
    "ExecuteTime": {
     "end_time": "2024-02-16T15:14:18.210823Z",
     "start_time": "2024-02-16T15:14:18.207141Z"
    }
   },
   "id": "51631f5ebdbe7d32",
   "execution_count": 19
  },
  {
   "cell_type": "markdown",
   "source": [
    "## Training models to generate the baseline scores\n",
    "\n",
    "* [Linear Regression](https://scikit-learn.org/stable/modules/generated/sklearn.linear_model.LinearRegression.html)\n",
    "* [Voting Regressor](https://scikit-learn.org/stable/modules/ensemble.html#voting-regressor)\n",
    "* [Random Forest Regressor](https://scikit-learn.org/stable/modules/generated/sklearn.ensemble.RandomForestRegressor.html)\n",
    "* [Gradient Boosting Regressor](https://scikit-learn.org/stable/modules/generated/sklearn.ensemble.GradientBoostingRegressor.html)\n",
    "* [AdaBoost Regressor](https://scikit-learn.org/stable/modules/generated/sklearn.ensemble.AdaBoostRegressor.html)"
   ],
   "metadata": {
    "collapsed": false
   },
   "id": "a8580980ac76dcb8"
  },
  {
   "cell_type": "code",
   "outputs": [],
   "source": [
    "from sklearn.ensemble import GradientBoostingRegressor\n",
    "from sklearn.linear_model import LinearRegression\n",
    "from sklearn.ensemble import VotingRegressor\n",
    "from sklearn.ensemble import BaggingRegressor\n",
    "\n",
    "# default values\n",
    "n_estimators=140\n",
    "rd_state=42"
   ],
   "metadata": {
    "collapsed": false,
    "ExecuteTime": {
     "end_time": "2024-02-16T15:14:18.217873Z",
     "start_time": "2024-02-16T15:14:18.213767Z"
    }
   },
   "id": "ce98716a13da241b",
   "execution_count": 20
  },
  {
   "cell_type": "code",
   "outputs": [],
   "source": [
    "\"\"\"Training classifiers\"\"\"\n",
    "\n",
    "grad_boosting_regressor = GradientBoostingRegressor(random_state=rd_state, n_estimators=n_estimators)\n",
    "bagging_regressor = BaggingRegressor(random_state=rd_state, n_estimators=n_estimators)\n",
    "linear_regr = LinearRegression()\n",
    "voting_reg = VotingRegressor(estimators=[('gb', grad_boosting_regressor), ('rf', random_forest_regressor), ('lr', linear_regr), ('ada_b', ada_boosting_regressor), ('bagging_r', bagging_regressor)]) "
   ],
   "metadata": {
    "collapsed": false,
    "ExecuteTime": {
     "end_time": "2024-02-16T15:14:18.224387Z",
     "start_time": "2024-02-16T15:14:18.219462Z"
    }
   },
   "id": "fc6128ae26b810ad",
   "execution_count": 21
  },
  {
   "cell_type": "code",
   "outputs": [
    {
     "data": {
      "text/plain": "VotingRegressor(estimators=[('gb',\n                             GradientBoostingRegressor(n_estimators=140,\n                                                       random_state=42)),\n                            ('rf',\n                             RandomForestRegressor(n_estimators=140,\n                                                   random_state=42)),\n                            ('lr', LinearRegression()),\n                            ('ada_b',\n                             AdaBoostRegressor(n_estimators=140,\n                                               random_state=42)),\n                            ('bagging_r',\n                             BaggingRegressor(n_estimators=140,\n                                              random_state=42))])",
      "text/html": "<style>#sk-container-id-1 {color: black;}#sk-container-id-1 pre{padding: 0;}#sk-container-id-1 div.sk-toggleable {background-color: white;}#sk-container-id-1 label.sk-toggleable__label {cursor: pointer;display: block;width: 100%;margin-bottom: 0;padding: 0.3em;box-sizing: border-box;text-align: center;}#sk-container-id-1 label.sk-toggleable__label-arrow:before {content: \"▸\";float: left;margin-right: 0.25em;color: #696969;}#sk-container-id-1 label.sk-toggleable__label-arrow:hover:before {color: black;}#sk-container-id-1 div.sk-estimator:hover label.sk-toggleable__label-arrow:before {color: black;}#sk-container-id-1 div.sk-toggleable__content {max-height: 0;max-width: 0;overflow: hidden;text-align: left;background-color: #f0f8ff;}#sk-container-id-1 div.sk-toggleable__content pre {margin: 0.2em;color: black;border-radius: 0.25em;background-color: #f0f8ff;}#sk-container-id-1 input.sk-toggleable__control:checked~div.sk-toggleable__content {max-height: 200px;max-width: 100%;overflow: auto;}#sk-container-id-1 input.sk-toggleable__control:checked~label.sk-toggleable__label-arrow:before {content: \"▾\";}#sk-container-id-1 div.sk-estimator input.sk-toggleable__control:checked~label.sk-toggleable__label {background-color: #d4ebff;}#sk-container-id-1 div.sk-label input.sk-toggleable__control:checked~label.sk-toggleable__label {background-color: #d4ebff;}#sk-container-id-1 input.sk-hidden--visually {border: 0;clip: rect(1px 1px 1px 1px);clip: rect(1px, 1px, 1px, 1px);height: 1px;margin: -1px;overflow: hidden;padding: 0;position: absolute;width: 1px;}#sk-container-id-1 div.sk-estimator {font-family: monospace;background-color: #f0f8ff;border: 1px dotted black;border-radius: 0.25em;box-sizing: border-box;margin-bottom: 0.5em;}#sk-container-id-1 div.sk-estimator:hover {background-color: #d4ebff;}#sk-container-id-1 div.sk-parallel-item::after {content: \"\";width: 100%;border-bottom: 1px solid gray;flex-grow: 1;}#sk-container-id-1 div.sk-label:hover label.sk-toggleable__label {background-color: #d4ebff;}#sk-container-id-1 div.sk-serial::before {content: \"\";position: absolute;border-left: 1px solid gray;box-sizing: border-box;top: 0;bottom: 0;left: 50%;z-index: 0;}#sk-container-id-1 div.sk-serial {display: flex;flex-direction: column;align-items: center;background-color: white;padding-right: 0.2em;padding-left: 0.2em;position: relative;}#sk-container-id-1 div.sk-item {position: relative;z-index: 1;}#sk-container-id-1 div.sk-parallel {display: flex;align-items: stretch;justify-content: center;background-color: white;position: relative;}#sk-container-id-1 div.sk-item::before, #sk-container-id-1 div.sk-parallel-item::before {content: \"\";position: absolute;border-left: 1px solid gray;box-sizing: border-box;top: 0;bottom: 0;left: 50%;z-index: -1;}#sk-container-id-1 div.sk-parallel-item {display: flex;flex-direction: column;z-index: 1;position: relative;background-color: white;}#sk-container-id-1 div.sk-parallel-item:first-child::after {align-self: flex-end;width: 50%;}#sk-container-id-1 div.sk-parallel-item:last-child::after {align-self: flex-start;width: 50%;}#sk-container-id-1 div.sk-parallel-item:only-child::after {width: 0;}#sk-container-id-1 div.sk-dashed-wrapped {border: 1px dashed gray;margin: 0 0.4em 0.5em 0.4em;box-sizing: border-box;padding-bottom: 0.4em;background-color: white;}#sk-container-id-1 div.sk-label label {font-family: monospace;font-weight: bold;display: inline-block;line-height: 1.2em;}#sk-container-id-1 div.sk-label-container {text-align: center;}#sk-container-id-1 div.sk-container {/* jupyter's `normalize.less` sets `[hidden] { display: none; }` but bootstrap.min.css set `[hidden] { display: none !important; }` so we also need the `!important` here to be able to override the default hidden behavior on the sphinx rendered scikit-learn.org. See: https://github.com/scikit-learn/scikit-learn/issues/21755 */display: inline-block !important;position: relative;}#sk-container-id-1 div.sk-text-repr-fallback {display: none;}</style><div id=\"sk-container-id-1\" class=\"sk-top-container\"><div class=\"sk-text-repr-fallback\"><pre>VotingRegressor(estimators=[(&#x27;gb&#x27;,\n                             GradientBoostingRegressor(n_estimators=140,\n                                                       random_state=42)),\n                            (&#x27;rf&#x27;,\n                             RandomForestRegressor(n_estimators=140,\n                                                   random_state=42)),\n                            (&#x27;lr&#x27;, LinearRegression()),\n                            (&#x27;ada_b&#x27;,\n                             AdaBoostRegressor(n_estimators=140,\n                                               random_state=42)),\n                            (&#x27;bagging_r&#x27;,\n                             BaggingRegressor(n_estimators=140,\n                                              random_state=42))])</pre><b>In a Jupyter environment, please rerun this cell to show the HTML representation or trust the notebook. <br />On GitHub, the HTML representation is unable to render, please try loading this page with nbviewer.org.</b></div><div class=\"sk-container\" hidden><div class=\"sk-item sk-dashed-wrapped\"><div class=\"sk-label-container\"><div class=\"sk-label sk-toggleable\"><input class=\"sk-toggleable__control sk-hidden--visually\" id=\"sk-estimator-id-1\" type=\"checkbox\" ><label for=\"sk-estimator-id-1\" class=\"sk-toggleable__label sk-toggleable__label-arrow\">VotingRegressor</label><div class=\"sk-toggleable__content\"><pre>VotingRegressor(estimators=[(&#x27;gb&#x27;,\n                             GradientBoostingRegressor(n_estimators=140,\n                                                       random_state=42)),\n                            (&#x27;rf&#x27;,\n                             RandomForestRegressor(n_estimators=140,\n                                                   random_state=42)),\n                            (&#x27;lr&#x27;, LinearRegression()),\n                            (&#x27;ada_b&#x27;,\n                             AdaBoostRegressor(n_estimators=140,\n                                               random_state=42)),\n                            (&#x27;bagging_r&#x27;,\n                             BaggingRegressor(n_estimators=140,\n                                              random_state=42))])</pre></div></div></div><div class=\"sk-parallel\"><div class=\"sk-parallel-item\"><div class=\"sk-item\"><div class=\"sk-label-container\"><div class=\"sk-label sk-toggleable\"><label>gb</label></div></div><div class=\"sk-serial\"><div class=\"sk-item\"><div class=\"sk-estimator sk-toggleable\"><input class=\"sk-toggleable__control sk-hidden--visually\" id=\"sk-estimator-id-2\" type=\"checkbox\" ><label for=\"sk-estimator-id-2\" class=\"sk-toggleable__label sk-toggleable__label-arrow\">GradientBoostingRegressor</label><div class=\"sk-toggleable__content\"><pre>GradientBoostingRegressor(n_estimators=140, random_state=42)</pre></div></div></div></div></div></div><div class=\"sk-parallel-item\"><div class=\"sk-item\"><div class=\"sk-label-container\"><div class=\"sk-label sk-toggleable\"><label>rf</label></div></div><div class=\"sk-serial\"><div class=\"sk-item\"><div class=\"sk-estimator sk-toggleable\"><input class=\"sk-toggleable__control sk-hidden--visually\" id=\"sk-estimator-id-3\" type=\"checkbox\" ><label for=\"sk-estimator-id-3\" class=\"sk-toggleable__label sk-toggleable__label-arrow\">RandomForestRegressor</label><div class=\"sk-toggleable__content\"><pre>RandomForestRegressor(n_estimators=140, random_state=42)</pre></div></div></div></div></div></div><div class=\"sk-parallel-item\"><div class=\"sk-item\"><div class=\"sk-label-container\"><div class=\"sk-label sk-toggleable\"><label>lr</label></div></div><div class=\"sk-serial\"><div class=\"sk-item\"><div class=\"sk-estimator sk-toggleable\"><input class=\"sk-toggleable__control sk-hidden--visually\" id=\"sk-estimator-id-4\" type=\"checkbox\" ><label for=\"sk-estimator-id-4\" class=\"sk-toggleable__label sk-toggleable__label-arrow\">LinearRegression</label><div class=\"sk-toggleable__content\"><pre>LinearRegression()</pre></div></div></div></div></div></div><div class=\"sk-parallel-item\"><div class=\"sk-item\"><div class=\"sk-label-container\"><div class=\"sk-label sk-toggleable\"><label>ada_b</label></div></div><div class=\"sk-serial\"><div class=\"sk-item\"><div class=\"sk-estimator sk-toggleable\"><input class=\"sk-toggleable__control sk-hidden--visually\" id=\"sk-estimator-id-5\" type=\"checkbox\" ><label for=\"sk-estimator-id-5\" class=\"sk-toggleable__label sk-toggleable__label-arrow\">AdaBoostRegressor</label><div class=\"sk-toggleable__content\"><pre>AdaBoostRegressor(n_estimators=140, random_state=42)</pre></div></div></div></div></div></div><div class=\"sk-parallel-item\"><div class=\"sk-item\"><div class=\"sk-label-container\"><div class=\"sk-label sk-toggleable\"><label>bagging_r</label></div></div><div class=\"sk-serial\"><div class=\"sk-item\"><div class=\"sk-estimator sk-toggleable\"><input class=\"sk-toggleable__control sk-hidden--visually\" id=\"sk-estimator-id-6\" type=\"checkbox\" ><label for=\"sk-estimator-id-6\" class=\"sk-toggleable__label sk-toggleable__label-arrow\">BaggingRegressor</label><div class=\"sk-toggleable__content\"><pre>BaggingRegressor(n_estimators=140, random_state=42)</pre></div></div></div></div></div></div></div></div></div></div>"
     },
     "execution_count": 22,
     "metadata": {},
     "output_type": "execute_result"
    }
   ],
   "source": [
    "\"\"\"Traing models with scaled data\"\"\"\n",
    "\n",
    "grad_boosting_regressor.fit(x_train_sc, y_train)\n",
    "ada_boosting_regressor.fit(x_train_sc, y_train)\n",
    "bagging_regressor.fit(x_train_sc, y_train)\n",
    "random_forest_regressor.fit(x_train_sc, y_train)\n",
    "linear_regr.fit(x_train_sc, y_train)\n",
    "voting_reg.fit(x_train_sc, y_train)"
   ],
   "metadata": {
    "collapsed": false,
    "ExecuteTime": {
     "end_time": "2024-02-16T15:27:31.954590Z",
     "start_time": "2024-02-16T15:14:18.226434Z"
    }
   },
   "id": "97d141ae7f8cea39",
   "execution_count": 22
  },
  {
   "cell_type": "code",
   "outputs": [],
   "source": [
    "gdb_prediction = grad_boosting_regressor.predict(x_test_sc)\n",
    "rf_prediction = random_forest_regressor.predict(x_test_sc)\n",
    "lg_prediction = linear_regr.predict(x_test_sc)\n",
    "ada_b_prediction = ada_boosting_regressor.predict(x_test_sc)\n",
    "bagging_r_prediction = bagging_regressor.predict(x_test_sc)\n",
    "voting_reg_prediction = voting_reg.predict(x_test_sc)\n"
   ],
   "metadata": {
    "collapsed": false,
    "ExecuteTime": {
     "end_time": "2024-02-16T15:27:57.476119Z",
     "start_time": "2024-02-16T15:27:31.959525Z"
    }
   },
   "id": "d01e1e553a60b014",
   "execution_count": 23
  },
  {
   "cell_type": "code",
   "outputs": [
    {
     "name": "stdout",
     "output_type": "stream",
     "text": [
      "mean squared error r2 score explained variance score\n",
      "GradientBoostingRegressor 0.3799829950579041 0.8853001422319302 0.885301770354857\n",
      "RandomForestRegressor 0.19906876900824988 0.9399100491646171 0.9399541017739272\n",
      "LinearRegression 0.446259142254775 0.8652943399834946 0.8653391206880249\n",
      "AdaBoostRegressor 0.7022505612825702 0.7880219890251048 0.8031254897239358\n",
      "BaggingRegressor 0.1989198958725586 0.9399549873005636 0.9400026998167074\n",
      "VotingRegressor 0.2962409649534499 0.9105781127388121 0.9114122683042218\n"
     ]
    }
   ],
   "source": [
    "from sklearn.metrics import mean_squared_error\n",
    "from sklearn.metrics import r2_score\n",
    "from sklearn.metrics import explained_variance_score\n",
    "\n",
    "print('mean squared error', 'r2 score', 'explained variance score')\n",
    "print('GradientBoostingRegressor',mean_squared_error(y_test, gdb_prediction),r2_score(y_test, gdb_prediction), explained_variance_score(y_test, gdb_prediction))\n",
    "print('RandomForestRegressor',mean_squared_error(y_test, rf_prediction),r2_score(y_test, rf_prediction), explained_variance_score(y_test, rf_prediction))\n",
    "print('LinearRegression',mean_squared_error(y_test, lg_prediction),r2_score(y_test, lg_prediction), explained_variance_score(y_test, lg_prediction))\n",
    "print('AdaBoostRegressor',mean_squared_error(y_test, ada_b_prediction),r2_score(y_test, ada_b_prediction), explained_variance_score(y_test, ada_b_prediction))\n",
    "print('BaggingRegressor',mean_squared_error(y_test, bagging_r_prediction),r2_score(y_test, bagging_r_prediction), explained_variance_score(y_test, bagging_r_prediction))\n",
    "print('VotingRegressor',mean_squared_error(y_test, voting_reg_prediction),r2_score(y_test, voting_reg_prediction), explained_variance_score(y_test, voting_reg_prediction))"
   ],
   "metadata": {
    "collapsed": false,
    "ExecuteTime": {
     "end_time": "2024-02-16T15:27:57.541189Z",
     "start_time": "2024-02-16T15:27:57.482480Z"
    }
   },
   "id": "9139831cfdc7d979",
   "execution_count": 24
  },
  {
   "cell_type": "markdown",
   "source": [
    "Baseline run without scaling dataset\n",
    "---\n"
   ],
   "metadata": {
    "collapsed": false
   },
   "id": "b1a70f6c1890ce3e"
  },
  {
   "cell_type": "code",
   "outputs": [
    {
     "name": "stdout",
     "output_type": "stream",
     "text": [
      "mean squared error r2 score explained variance score\n",
      "GradientBoostingRegressor 0.3799829950579041 0.8853001422319302 0.885301770354857\n",
      "RandomForestRegressor 0.1991333798990529 0.9398905460287353 0.939935318622876\n",
      "LinearRegression 0.44612348891543074 0.865335287654656 0.8653361695326518\n",
      "AdaBoostRegressor 0.6742065545504626 0.7964872193781877 0.8077946072986688\n",
      "BaggingRegressor 0.19904752299768105 0.939916462384214 0.9399615996543444\n",
      "VotingRegressor 0.2951647086331412 0.9109029863475444 0.9114979650403896\n"
     ]
    }
   ],
   "source": [
    "\"\"\"Traing models with scaled data\"\"\"\n",
    "\n",
    "grad_boosting_regressor.fit(x_train, y_train)\n",
    "ada_boosting_regressor.fit(x_train, y_train)\n",
    "bagging_regressor.fit(x_train, y_train)\n",
    "random_forest_regressor.fit(x_train, y_train)\n",
    "linear_regr.fit(x_train, y_train)\n",
    "voting_reg.fit(x_train, y_train)\n",
    "\n",
    "gdb_prediction = grad_boosting_regressor.predict(x_test)\n",
    "rf_prediction = random_forest_regressor.predict(x_test)\n",
    "lg_prediction = linear_regr.predict(x_test)\n",
    "ada_b_prediction = ada_boosting_regressor.predict(x_test)\n",
    "bagging_r_prediction = bagging_regressor.predict(x_test)\n",
    "voting_reg_prediction = voting_reg.predict(x_test)\n",
    "\n",
    "\n",
    "print('mean squared error', 'r2 score', 'explained variance score')\n",
    "print('GradientBoostingRegressor',mean_squared_error(y_test, gdb_prediction),r2_score(y_test, gdb_prediction), explained_variance_score(y_test, gdb_prediction))\n",
    "print('RandomForestRegressor',mean_squared_error(y_test, rf_prediction),r2_score(y_test, rf_prediction), explained_variance_score(y_test, rf_prediction))\n",
    "print('LinearRegression',mean_squared_error(y_test, lg_prediction),r2_score(y_test, lg_prediction), explained_variance_score(y_test, lg_prediction))\n",
    "print('AdaBoostRegressor',mean_squared_error(y_test, ada_b_prediction),r2_score(y_test, ada_b_prediction), explained_variance_score(y_test, ada_b_prediction))\n",
    "print('BaggingRegressor',mean_squared_error(y_test, bagging_r_prediction),r2_score(y_test, bagging_r_prediction), explained_variance_score(y_test, bagging_r_prediction))\n",
    "print('VotingRegressor',mean_squared_error(y_test, voting_reg_prediction),r2_score(y_test, voting_reg_prediction), explained_variance_score(y_test, voting_reg_prediction))"
   ],
   "metadata": {
    "collapsed": false,
    "ExecuteTime": {
     "end_time": "2024-02-16T16:56:55.973214Z",
     "start_time": "2024-02-16T16:41:22.220352Z"
    }
   },
   "id": "d203cb6cd325025a",
   "execution_count": 27
  },
  {
   "cell_type": "code",
   "outputs": [],
   "source": [],
   "metadata": {
    "collapsed": false
   },
   "id": "8e036f7849db234f"
  }
 ],
 "metadata": {
  "kernelspec": {
   "display_name": "Python 3",
   "language": "python",
   "name": "python3"
  },
  "language_info": {
   "codemirror_mode": {
    "name": "ipython",
    "version": 2
   },
   "file_extension": ".py",
   "mimetype": "text/x-python",
   "name": "python",
   "nbconvert_exporter": "python",
   "pygments_lexer": "ipython2",
   "version": "2.7.6"
  }
 },
 "nbformat": 4,
 "nbformat_minor": 5
}
