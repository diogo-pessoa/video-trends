{
 "cells": [
  {
   "cell_type": "markdown",
   "source": [
    "Data collection\n",
    "----\n",
    "Diogo Pessoa"
   ],
   "metadata": {
    "collapsed": false
   }
  },
  {
   "cell_type": "code",
   "execution_count": 2,
   "outputs": [],
   "source": [
    "\"\"\"\n",
    "Downloads csv files from the Divvy Bike Share website and saves them to the local file system.\n",
    "\"\"\"\n",
    "\n",
    "from divvy_bike_share_data_analysis.data_loader import load_dataset_to_local_fs\n",
    "from divvy_bike_share_data_analysis.utils_pyspark import load_dataset_to_spark\n",
    "\n",
    "import glob\n",
    "\n",
    "# Collecting data to local directory\n",
    "if not glob.glob(os.path.join(data_dir, '*.csv')):\n",
    "    print('collecting data to local fs')\n",
    "    # load_dataset_to_local_fs(DATA_COLLECTION_DIR, [2020, 2021, 2022, 2023])\n",
    "    # TODO notice to fact that 2020 and 2021, could affect our prediction due to the pandemic (context matters)\n",
    "    load_dataset_to_local_fs(data_dir, [2023])"
   ],
   "metadata": {
    "collapsed": false,
    "ExecuteTime": {
     "end_time": "2024-02-06T17:46:53.542629Z",
     "start_time": "2024-02-06T17:46:53.355239Z"
    }
   }
  },
  {
   "cell_type": "code",
   "execution_count": null,
   "outputs": [],
   "source": [
    "divvy_df = load_dataset_to_spark(data_dir)\n",
    "print(f'loading data to spark: divvy_df {divvy_df.columns}')\n"
   ],
   "metadata": {
    "collapsed": false
   }
  }
 ],
 "metadata": {
  "kernelspec": {
   "display_name": "Python 3",
   "language": "python",
   "name": "python3"
  },
  "language_info": {
   "codemirror_mode": {
    "name": "ipython",
    "version": 2
   },
   "file_extension": ".py",
   "mimetype": "text/x-python",
   "name": "python",
   "nbconvert_exporter": "python",
   "pygments_lexer": "ipython2",
   "version": "2.7.6"
  }
 },
 "nbformat": 4,
 "nbformat_minor": 0
}
