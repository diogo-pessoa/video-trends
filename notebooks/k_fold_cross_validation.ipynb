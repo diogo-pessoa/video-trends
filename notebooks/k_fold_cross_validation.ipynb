{
 "cells": [
  {
   "cell_type": "markdown",
   "source": [
    "Using Kfold to evaluate the performance of ensembles\n",
    "---\n",
    "* [sklearn Kfold](https://scikit-learn.org/stable/modules/generated/sklearn.model_selection.KFold.html)"
   ],
   "metadata": {
    "collapsed": false
   },
   "id": "584f6f6fbec73f25"
  },
  {
   "cell_type": "code",
   "outputs": [],
   "source": [
    "import pandas as pd\n",
    "\n",
    "combined_data = pd.read_csv('combined_data.csv').set_index('video_id')\n",
    "label = combined_data['label']\n",
    "features = combined_data.drop(['label'], axis=1)"
   ],
   "metadata": {
    "collapsed": false,
    "ExecuteTime": {
     "end_time": "2024-02-16T14:35:04.428154Z",
     "start_time": "2024-02-16T14:35:03.861322Z"
    }
   },
   "id": "9a37900a92a43638",
   "execution_count": 1
  },
  {
   "cell_type": "code",
   "outputs": [],
   "source": [
    "from sklearn.preprocessing import StandardScaler\n",
    "sc = StandardScaler()\n",
    "\n",
    "features_sc = sc.fit_transform(features.values)\n",
    "label_sc = sc.fit_transform(label.values.reshape(-1, 1)).flatten()"
   ],
   "metadata": {
    "collapsed": false,
    "ExecuteTime": {
     "end_time": "2024-02-16T14:49:15.296248Z",
     "start_time": "2024-02-16T14:49:14.731718Z"
    }
   },
   "id": "b9354a7eb16f635",
   "execution_count": 13
  },
  {
   "cell_type": "code",
   "outputs": [],
   "source": [
    "# TODO load ensemble models, then use Kfold to evaluate the performance of the models"
   ],
   "metadata": {
    "collapsed": false
   },
   "id": "ab23435e1f0876cb"
  },
  {
   "cell_type": "code",
   "outputs": [],
   "source": [
    "import numpy as np\n",
    "from sklearn.model_selection import KFold, cross_val_score\n",
    "from sklearn.linear_model import LinearRegression\n",
    "\n",
    "# Initialize the model\n",
    "model = LinearRegression()\n",
    "\n",
    "# Define the KFold cross-validator\n",
    "kf = KFold(n_splits=5, shuffle=True, random_state=42)\n",
    "\n",
    "# Perform k-fold cross-validation\n",
    "scores = cross_val_score(model, features, label, scoring='neg_mean_squared_error', cv=kf)\n",
    "\n",
    "# Convert scores to positive (since they are negative mean squared errors)\n",
    "mse_scores = -scores\n",
    "\n",
    "# Calculate RMSE for each fold\n",
    "rmse_scores = np.sqrt(mse_scores)\n",
    "\n",
    "print(f\"RMSE scores for each fold: {rmse_scores}\")\n",
    "print(f\"Average RMSE: {np.mean(rmse_scores)}\")"
   ],
   "metadata": {
    "collapsed": false
   },
   "id": "187138837b1ed9be"
  },
  {
   "cell_type": "code",
   "outputs": [],
   "source": [
    "from sklearn.ensemble import GradientBoostingRegressor\n",
    "from sklearn.ensemble import RandomForestRegressor\n",
    "from sklearn.linear_model import LinearRegression\n",
    "from sklearn.ensemble import VotingRegressor\n",
    "from sklearn.ensemble import AdaBoostRegressor\n",
    "from sklearn.ensemble import BaggingRegressor\n",
    "\n",
    "n_estimators=140\n",
    "# Training classifiers\n",
    "grad_boosting_regressor = GradientBoostingRegressor(random_state=42, n_estimators=n_estimators)\n",
    "ada_boosting_regressor = AdaBoostRegressor(random_state=42, n_estimators=n_estimators)\n",
    "random_forest_regressor = RandomForestRegressor(random_state=42, n_estimators=n_estimators)\n",
    "bagging_regressor = BaggingRegressor(random_state=1, n_estimators=n_estimators)\n",
    "linear_regr = LinearRegression()\n",
    "voting_reg = VotingRegressor(estimators=[('gb', grad_boosting_regressor), ('rf', random_forest_regressor), ('lr', linear_regr), ('ada_b', ada_boosting_regressor), ('bagging_r', bagging_regressor)]) "
   ],
   "metadata": {
    "collapsed": false
   },
   "id": "22e992b8b15c74f"
  },
  {
   "cell_type": "code",
   "outputs": [],
   "source": [
    "grad_boosting_regressor.fit(x_train_Trans, y_train)\n",
    "ada_boosting_regressor.fit(x_train_Trans, y_train)\n",
    "bagging_regressor.fit(x_train_Trans, y_train)\n",
    "random_forest_regressor.fit(x_train_Trans, y_train)\n",
    "linear_regr.fit(x_train_Trans, y_train)\n",
    "voting_reg.fit(x_train_Trans, y_train)"
   ],
   "metadata": {
    "collapsed": false
   },
   "id": "cfc7ef744542c52d"
  },
  {
   "cell_type": "code",
   "outputs": [],
   "source": [
    "gdb_prediction = grad_boosting_regressor.predict(x_test_Trans)\n",
    "rf_prediction = random_forest_regressor.predict(x_test_Trans)\n",
    "lg_prediction = linear_regr.predict(x_test_Trans)\n",
    "ada_b_prediction = ada_boosting_regressor.predict(x_test_Trans)\n",
    "bagging_r_prediction = bagging_regressor.predict(x_test_Trans)\n",
    "voting_reg_prediction = voting_reg.predict(x_test_Trans)"
   ],
   "metadata": {
    "collapsed": false
   },
   "id": "60290bebdc4f6858"
  },
  {
   "cell_type": "code",
   "outputs": [],
   "source": [
    "print('mean squared error', 'r2 score', 'explained variance score')\n",
    "print('GradientBoostingRegressor',mean_squared_error(y_test, gdb_prediction),r2_score(y_test, gdb_prediction), explained_variance_score(y_test, gdb_prediction))\n",
    "print('RandomForestRegressor',mean_squared_error(y_test, rf_prediction),r2_score(y_test, rf_prediction), explained_variance_score(y_test, rf_prediction))\n",
    "print('LinearRegression',mean_squared_error(y_test, lg_prediction),r2_score(y_test, lg_prediction), explained_variance_score(y_test, lg_prediction))\n",
    "print('AdaBoostRegressor',mean_squared_error(y_test, ada_b_prediction),r2_score(y_test, ada_b_prediction), explained_variance_score(y_test, ada_b_prediction))\n",
    "print('BaggingRegressor',mean_squared_error(y_test, bagging_r_prediction),r2_score(y_test, bagging_r_prediction), explained_variance_score(y_test, bagging_r_prediction))\n",
    "print('VotingRegressor',mean_squared_error(y_test, voting_reg_prediction),r2_score(y_test, voting_reg_prediction), explained_variance_score(y_test, voting_reg_prediction))"
   ],
   "metadata": {
    "collapsed": false
   },
   "id": "e1ca741c750a9230"
  }
 ],
 "metadata": {
  "kernelspec": {
   "display_name": "Python 3",
   "language": "python",
   "name": "python3"
  },
  "language_info": {
   "codemirror_mode": {
    "name": "ipython",
    "version": 2
   },
   "file_extension": ".py",
   "mimetype": "text/x-python",
   "name": "python",
   "nbconvert_exporter": "python",
   "pygments_lexer": "ipython2",
   "version": "2.7.6"
  }
 },
 "nbformat": 4,
 "nbformat_minor": 5
}
