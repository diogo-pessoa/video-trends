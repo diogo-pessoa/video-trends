{
 "cells": [
  {
   "cell_type": "markdown",
   "source": [
    "Tech Project 2 - Comparing Ensemble Methods - Stacking Regressor\n",
    "\n",
    "Diogo Pessoa\n"
   ],
   "metadata": {
    "collapsed": false
   },
   "id": "67a179537fc9ca73"
  },
  {
   "cell_type": "code",
   "outputs": [
    {
     "name": "stdout",
     "output_type": "stream",
     "text": [
      "Data loaded:\n",
      "- x_train_sc: Scaled training features.\n",
      "- x_test_sc: Scaled testing features.\n",
      "- x_train - Training features.\n",
      "- x_test - Testing features.\n",
      "- y_train - Training labels.\n",
      "- y_test - Testing labels.\n"
     ]
    }
   ],
   "source": [
    "%run data_loader.ipynb"
   ],
   "metadata": {
    "collapsed": false,
    "ExecuteTime": {
     "end_time": "2024-02-17T19:47:21.345867Z",
     "start_time": "2024-02-17T19:47:19.634586Z"
    }
   },
   "id": "c25a956a69398746",
   "execution_count": 53
  },
  {
   "cell_type": "markdown",
   "source": [
    "## Training models to generate the baseline scores\n",
    "\n",
    "* [Stacking Regressor](https://scikit-learn.org/stable/modules/ensemble.html#stacking)\n",
    "* [GradientBoostingRegressor](https://scikit-learn.org/stable/modules/generated/sklearn.ensemble.GradientBoostingRegressor.html#sklearn.ensemble.GradientBoostingRegressor) as Final estimator\n",
    "* [RidgeCV](https://scikit-learn.org/stable/modules/generated/sklearn.linear_model.RidgeCV.html#sklearn.linear_model.RidgeCV)\n",
    "* [LassoCV](https://scikit-learn.org/stable/modules/generated/sklearn.linear_model.LassoCV.html#sklearn.linear_model.LassoCV)\n",
    "* [KNeighborsRegressor](https://scikit-learn.org/stable/modules/generated/sklearn.neighbors.KNeighborsRegressor.html#sklearn.neighbors.KNeighborsRegressor)"
   ],
   "metadata": {
    "collapsed": false
   },
   "id": "a8580980ac76dcb8"
  },
  {
   "cell_type": "code",
   "outputs": [],
   "source": [
    "from sklearn.ensemble import GradientBoostingRegressor\n",
    "from sklearn.ensemble import StackingRegressor\n",
    "from sklearn.linear_model import RidgeCV, LassoCV\n",
    "from sklearn.neighbors import KNeighborsRegressor\n",
    "\n",
    "# default values\n",
    "n_estimators=140\n",
    "rd_state=42\n",
    "estimators = [('ridge', RidgeCV()),('lasso', LassoCV(random_state=rd_state)), ('knr', KNeighborsRegressor(n_neighbors=20,metric='euclidean'))]\n"
   ],
   "metadata": {
    "collapsed": false,
    "ExecuteTime": {
     "end_time": "2024-02-17T11:11:08.523861Z",
     "start_time": "2024-02-17T11:11:08.233468Z"
    }
   },
   "id": "ce98716a13da241b",
   "execution_count": 7
  },
  {
   "cell_type": "code",
   "outputs": [],
   "source": [
    "final_estimator = GradientBoostingRegressor(random_state=rd_state, n_estimators=n_estimators, max_depth=40, min_samples_leaf=25)\n",
    "stacking_regressor = StackingRegressor(estimators=estimators, final_estimator=final_estimator) "
   ],
   "metadata": {
    "collapsed": false,
    "ExecuteTime": {
     "end_time": "2024-02-17T11:11:09.111538Z",
     "start_time": "2024-02-17T11:11:09.107448Z"
    }
   },
   "id": "fc6128ae26b810ad",
   "execution_count": 8
  },
  {
   "cell_type": "code",
   "outputs": [
    {
     "data": {
      "text/plain": "StackingRegressor(estimators=[('ridge', RidgeCV()),\n                              ('lasso', LassoCV(random_state=42)),\n                              ('knr',\n                               KNeighborsRegressor(metric='euclidean',\n                                                   n_neighbors=20))],\n                  final_estimator=GradientBoostingRegressor(max_depth=40,\n                                                            min_samples_leaf=25,\n                                                            n_estimators=140,\n                                                            random_state=42))",
      "text/html": "<style>#sk-container-id-1 {color: black;}#sk-container-id-1 pre{padding: 0;}#sk-container-id-1 div.sk-toggleable {background-color: white;}#sk-container-id-1 label.sk-toggleable__label {cursor: pointer;display: block;width: 100%;margin-bottom: 0;padding: 0.3em;box-sizing: border-box;text-align: center;}#sk-container-id-1 label.sk-toggleable__label-arrow:before {content: \"▸\";float: left;margin-right: 0.25em;color: #696969;}#sk-container-id-1 label.sk-toggleable__label-arrow:hover:before {color: black;}#sk-container-id-1 div.sk-estimator:hover label.sk-toggleable__label-arrow:before {color: black;}#sk-container-id-1 div.sk-toggleable__content {max-height: 0;max-width: 0;overflow: hidden;text-align: left;background-color: #f0f8ff;}#sk-container-id-1 div.sk-toggleable__content pre {margin: 0.2em;color: black;border-radius: 0.25em;background-color: #f0f8ff;}#sk-container-id-1 input.sk-toggleable__control:checked~div.sk-toggleable__content {max-height: 200px;max-width: 100%;overflow: auto;}#sk-container-id-1 input.sk-toggleable__control:checked~label.sk-toggleable__label-arrow:before {content: \"▾\";}#sk-container-id-1 div.sk-estimator input.sk-toggleable__control:checked~label.sk-toggleable__label {background-color: #d4ebff;}#sk-container-id-1 div.sk-label input.sk-toggleable__control:checked~label.sk-toggleable__label {background-color: #d4ebff;}#sk-container-id-1 input.sk-hidden--visually {border: 0;clip: rect(1px 1px 1px 1px);clip: rect(1px, 1px, 1px, 1px);height: 1px;margin: -1px;overflow: hidden;padding: 0;position: absolute;width: 1px;}#sk-container-id-1 div.sk-estimator {font-family: monospace;background-color: #f0f8ff;border: 1px dotted black;border-radius: 0.25em;box-sizing: border-box;margin-bottom: 0.5em;}#sk-container-id-1 div.sk-estimator:hover {background-color: #d4ebff;}#sk-container-id-1 div.sk-parallel-item::after {content: \"\";width: 100%;border-bottom: 1px solid gray;flex-grow: 1;}#sk-container-id-1 div.sk-label:hover label.sk-toggleable__label {background-color: #d4ebff;}#sk-container-id-1 div.sk-serial::before {content: \"\";position: absolute;border-left: 1px solid gray;box-sizing: border-box;top: 0;bottom: 0;left: 50%;z-index: 0;}#sk-container-id-1 div.sk-serial {display: flex;flex-direction: column;align-items: center;background-color: white;padding-right: 0.2em;padding-left: 0.2em;position: relative;}#sk-container-id-1 div.sk-item {position: relative;z-index: 1;}#sk-container-id-1 div.sk-parallel {display: flex;align-items: stretch;justify-content: center;background-color: white;position: relative;}#sk-container-id-1 div.sk-item::before, #sk-container-id-1 div.sk-parallel-item::before {content: \"\";position: absolute;border-left: 1px solid gray;box-sizing: border-box;top: 0;bottom: 0;left: 50%;z-index: -1;}#sk-container-id-1 div.sk-parallel-item {display: flex;flex-direction: column;z-index: 1;position: relative;background-color: white;}#sk-container-id-1 div.sk-parallel-item:first-child::after {align-self: flex-end;width: 50%;}#sk-container-id-1 div.sk-parallel-item:last-child::after {align-self: flex-start;width: 50%;}#sk-container-id-1 div.sk-parallel-item:only-child::after {width: 0;}#sk-container-id-1 div.sk-dashed-wrapped {border: 1px dashed gray;margin: 0 0.4em 0.5em 0.4em;box-sizing: border-box;padding-bottom: 0.4em;background-color: white;}#sk-container-id-1 div.sk-label label {font-family: monospace;font-weight: bold;display: inline-block;line-height: 1.2em;}#sk-container-id-1 div.sk-label-container {text-align: center;}#sk-container-id-1 div.sk-container {/* jupyter's `normalize.less` sets `[hidden] { display: none; }` but bootstrap.min.css set `[hidden] { display: none !important; }` so we also need the `!important` here to be able to override the default hidden behavior on the sphinx rendered scikit-learn.org. See: https://github.com/scikit-learn/scikit-learn/issues/21755 */display: inline-block !important;position: relative;}#sk-container-id-1 div.sk-text-repr-fallback {display: none;}</style><div id=\"sk-container-id-1\" class=\"sk-top-container\"><div class=\"sk-text-repr-fallback\"><pre>StackingRegressor(estimators=[(&#x27;ridge&#x27;, RidgeCV()),\n                              (&#x27;lasso&#x27;, LassoCV(random_state=42)),\n                              (&#x27;knr&#x27;,\n                               KNeighborsRegressor(metric=&#x27;euclidean&#x27;,\n                                                   n_neighbors=20))],\n                  final_estimator=GradientBoostingRegressor(max_depth=40,\n                                                            min_samples_leaf=25,\n                                                            n_estimators=140,\n                                                            random_state=42))</pre><b>In a Jupyter environment, please rerun this cell to show the HTML representation or trust the notebook. <br />On GitHub, the HTML representation is unable to render, please try loading this page with nbviewer.org.</b></div><div class=\"sk-container\" hidden><div class=\"sk-item sk-dashed-wrapped\"><div class=\"sk-label-container\"><div class=\"sk-label sk-toggleable\"><input class=\"sk-toggleable__control sk-hidden--visually\" id=\"sk-estimator-id-1\" type=\"checkbox\" ><label for=\"sk-estimator-id-1\" class=\"sk-toggleable__label sk-toggleable__label-arrow\">StackingRegressor</label><div class=\"sk-toggleable__content\"><pre>StackingRegressor(estimators=[(&#x27;ridge&#x27;, RidgeCV()),\n                              (&#x27;lasso&#x27;, LassoCV(random_state=42)),\n                              (&#x27;knr&#x27;,\n                               KNeighborsRegressor(metric=&#x27;euclidean&#x27;,\n                                                   n_neighbors=20))],\n                  final_estimator=GradientBoostingRegressor(max_depth=40,\n                                                            min_samples_leaf=25,\n                                                            n_estimators=140,\n                                                            random_state=42))</pre></div></div></div><div class=\"sk-serial\"><div class=\"sk-item\"><div class=\"sk-parallel\"><div class=\"sk-parallel-item\"><div class=\"sk-item\"><div class=\"sk-label-container\"><div class=\"sk-label sk-toggleable\"><label>ridge</label></div></div><div class=\"sk-serial\"><div class=\"sk-item\"><div class=\"sk-estimator sk-toggleable\"><input class=\"sk-toggleable__control sk-hidden--visually\" id=\"sk-estimator-id-2\" type=\"checkbox\" ><label for=\"sk-estimator-id-2\" class=\"sk-toggleable__label sk-toggleable__label-arrow\">RidgeCV</label><div class=\"sk-toggleable__content\"><pre>RidgeCV()</pre></div></div></div></div></div></div><div class=\"sk-parallel-item\"><div class=\"sk-item\"><div class=\"sk-label-container\"><div class=\"sk-label sk-toggleable\"><label>lasso</label></div></div><div class=\"sk-serial\"><div class=\"sk-item\"><div class=\"sk-estimator sk-toggleable\"><input class=\"sk-toggleable__control sk-hidden--visually\" id=\"sk-estimator-id-3\" type=\"checkbox\" ><label for=\"sk-estimator-id-3\" class=\"sk-toggleable__label sk-toggleable__label-arrow\">LassoCV</label><div class=\"sk-toggleable__content\"><pre>LassoCV(random_state=42)</pre></div></div></div></div></div></div><div class=\"sk-parallel-item\"><div class=\"sk-item\"><div class=\"sk-label-container\"><div class=\"sk-label sk-toggleable\"><label>knr</label></div></div><div class=\"sk-serial\"><div class=\"sk-item\"><div class=\"sk-estimator sk-toggleable\"><input class=\"sk-toggleable__control sk-hidden--visually\" id=\"sk-estimator-id-4\" type=\"checkbox\" ><label for=\"sk-estimator-id-4\" class=\"sk-toggleable__label sk-toggleable__label-arrow\">KNeighborsRegressor</label><div class=\"sk-toggleable__content\"><pre>KNeighborsRegressor(metric=&#x27;euclidean&#x27;, n_neighbors=20)</pre></div></div></div></div></div></div></div></div><div class=\"sk-item\"><div class=\"sk-parallel\"><div class=\"sk-parallel-item\"><div class=\"sk-item\"><div class=\"sk-label-container\"><div class=\"sk-label sk-toggleable\"><label>final_estimator</label></div></div><div class=\"sk-serial\"><div class=\"sk-item\"><div class=\"sk-estimator sk-toggleable\"><input class=\"sk-toggleable__control sk-hidden--visually\" id=\"sk-estimator-id-5\" type=\"checkbox\" ><label for=\"sk-estimator-id-5\" class=\"sk-toggleable__label sk-toggleable__label-arrow\">GradientBoostingRegressor</label><div class=\"sk-toggleable__content\"><pre>GradientBoostingRegressor(max_depth=40, min_samples_leaf=25, n_estimators=140,\n                          random_state=42)</pre></div></div></div></div></div></div></div></div></div></div></div></div>"
     },
     "execution_count": 15,
     "metadata": {},
     "output_type": "execute_result"
    }
   ],
   "source": [
    "\"\"\"Traing models with unscaled data\"\"\"\n",
    "stacking_regressor.fit(x_train, y_train)"
   ],
   "metadata": {
    "collapsed": false,
    "ExecuteTime": {
     "end_time": "2024-02-16T16:03:41.506480Z",
     "start_time": "2024-02-16T15:58:00.872269Z"
    }
   },
   "id": "97d141ae7f8cea39",
   "execution_count": 15
  },
  {
   "cell_type": "code",
   "outputs": [],
   "source": [
    "stacking_regressor_pred = stacking_regressor.predict(x_test)"
   ],
   "metadata": {
    "collapsed": false,
    "ExecuteTime": {
     "end_time": "2024-02-16T16:06:02.894782Z",
     "start_time": "2024-02-16T16:05:55.861628Z"
    }
   },
   "id": "d01e1e553a60b014",
   "execution_count": 17
  },
  {
   "cell_type": "code",
   "outputs": [
    {
     "name": "stdout",
     "output_type": "stream",
     "text": [
      "|Ensemble|mean squared error| |r2 score| |explained variance score|\n",
      "|Stacking Regressor|0.4227565962173764 | 0.8718890758241176 | 0.8719155515438354|\n"
     ]
    },
    {
     "data": {
      "text/plain": "'Estimators: RidgeCV, LassoCV, KNeighborsRegressor, GradientBoostingRegressor'"
     },
     "execution_count": 22,
     "metadata": {},
     "output_type": "execute_result"
    }
   ],
   "source": [
    "from sklearn.metrics import mean_squared_error\n",
    "from sklearn.metrics import r2_score\n",
    "from sklearn.metrics import explained_variance_score\n",
    "\n",
    "print('|Ensemble|mean squared error|', '|r2 score|', '|explained variance score|')\n",
    "print(f'|Stacking Regressor|{mean_squared_error(y_test, stacking_regressor_pred)} | {r2_score(y_test, stacking_regressor_pred)} | {explained_variance_score(y_test, stacking_regressor_pred)}|')\n",
    "\"\"\"Estimators: RidgeCV, LassoCV, KNeighborsRegressor, GradientBoostingRegressor\"\"\""
   ],
   "metadata": {
    "collapsed": false,
    "ExecuteTime": {
     "end_time": "2024-02-16T16:29:36.084460Z",
     "start_time": "2024-02-16T16:29:36.065859Z"
    }
   },
   "id": "9139831cfdc7d979",
   "execution_count": 22
  },
  {
   "cell_type": "code",
   "outputs": [
    {
     "data": {
      "text/plain": "array([[22.40572766, 23.37070596, 14.50793681],\n       [22.60511809, 22.46346369, 13.61999483],\n       [13.15150847, 15.09706885, 14.51991039],\n       [31.96042596, 31.90347318, 13.82580957],\n       [20.96778725, 21.88939949, 14.52554169]])"
     },
     "execution_count": 23,
     "metadata": {},
     "output_type": "execute_result"
    }
   ],
   "source": [
    "stacking_regressor.transform(x_test[:5])"
   ],
   "metadata": {
    "collapsed": false,
    "ExecuteTime": {
     "end_time": "2024-02-16T16:29:36.292862Z",
     "start_time": "2024-02-16T16:29:36.278602Z"
    }
   },
   "id": "eebf3ee4bf0540ed",
   "execution_count": 23
  },
  {
   "cell_type": "markdown",
   "source": [
    "## Training models with scaled data"
   ],
   "metadata": {
    "collapsed": false
   },
   "id": "beb6002b7d0ce896"
  },
  {
   "cell_type": "code",
   "outputs": [],
   "source": [
    "stacking_regressor.fit(x_train_sc, y_train)\n",
    "stacking_regressor_pred_sc = stacking_regressor.predict(x_test_sc)\n",
    "\n",
    "print('|Ensemble|mean squared error|', '|r2 score|', '|explained variance score|')\n",
    "print(f'|Stacking Regressor (scaled set)|{mean_squared_error(y_test, stacking_regressor_pred)} | {r2_score(y_test, stacking_regressor_pred)} | {explained_variance_score(y_test, stacking_regressor_pred)}|')\n",
    "\"\"\"Estimators: RidgeCV, LassoCV, KNeighborsRegressor, GradientBoostingRegressor\"\"\""
   ],
   "metadata": {
    "collapsed": false
   },
   "id": "2405f230854994c9",
   "execution_count": null
  },
  {
   "cell_type": "markdown",
   "source": [
    "## Tuning with PCA and GridSearchCV"
   ],
   "metadata": {
    "collapsed": false
   },
   "id": "52672802ec866dd"
  },
  {
   "cell_type": "code",
   "outputs": [],
   "source": [
    "# code here\n",
    "x_train, x_test, y_train, y_test = train_test_split(features.values, label.values, test_size=0.2, random_state=0)\n",
    "from sklearn.preprocessing import StandardScaler\n",
    "\n",
    "# PCA\n",
    "from sklearn.decomposition import PCA\n",
    "\n",
    "pca = PCA(n_components=34)\n",
    "x_train_Trans = pca.fit_transform(x_train)\n",
    "x_test_Trans = pca.transform(x_test)"
   ],
   "metadata": {
    "collapsed": false,
    "ExecuteTime": {
     "end_time": "2024-02-17T11:12:11.973776Z",
     "start_time": "2024-02-17T11:12:10.684138Z"
    }
   },
   "id": "8b6ff705513f8604",
   "execution_count": 9
  },
  {
   "cell_type": "code",
   "outputs": [
    {
     "data": {
      "text/plain": "{'final_estimator__learning_rate': 0.2,\n 'final_estimator__n_estimators': 200,\n 'knr__n_neighbors': 20}"
     },
     "execution_count": 31,
     "metadata": {},
     "output_type": "execute_result"
    }
   ],
   "source": [
    "import time\n",
    "from sklearn.model_selection import GridSearchCV\n",
    "from sklearn.ensemble import GradientBoostingRegressor\n",
    "from sklearn.ensemble import StackingRegressor\n",
    "from sklearn.linear_model import RidgeCV, LassoCV\n",
    "from sklearn.neighbors import KNeighborsRegressor\n",
    "\n",
    "# Define the base models\n",
    "# Record the start time\n",
    "start_time = time.time()\n",
    "\n",
    "base_models = [\n",
    "    ('ridgecv', RidgeCV()),\n",
    "    ('lasso', LassoCV(random_state=42)),\n",
    "    ('knr', KNeighborsRegressor(metric='euclidean'))\n",
    "]\n",
    "\n",
    "# Define the meta-model\n",
    "meta_model = GradientBoostingRegressor(random_state=42)\n",
    "\n",
    "# Create the stacking model\n",
    "stacked_model = StackingRegressor(estimators=base_models, final_estimator=meta_model)\n",
    "\n",
    "\n",
    "param_grid = {\n",
    "    'knr__n_neighbors': [20, 30, 40],\n",
    "    'final_estimator__n_estimators': [50, 100, 200],\n",
    "    'final_estimator__learning_rate': [0.01, 0.2]\n",
    "}\n",
    "stacked_model = StackingRegressor(estimators=base_models, final_estimator=meta_model)\n",
    "\n",
    "# Only tune the max depth of the trees in the RF hyperparameter.\n",
    "grid = GridSearchCV(estimator=stacked_model,\n",
    "                    param_grid=param_grid, cv=5, scoring=['neg_mean_squared_error','r2','explained_variance'], n_jobs=-1)\n",
    "grid.fit(x_train_Trans, y_train)\n",
    "# Record the end time\n",
    "end_time = time.time()\n",
    "\n",
    "# Calculate the duration\n",
    "duration = end_time - start_time\n",
    "grid.best_params_\n"
   ],
   "metadata": {
    "collapsed": false,
    "ExecuteTime": {
     "end_time": "2024-02-17T12:41:09.197278Z",
     "start_time": "2024-02-17T12:15:18.912330Z"
    }
   },
   "id": "d5818d9ac79a6e79",
   "execution_count": 31
  },
  {
   "cell_type": "code",
   "outputs": [
    {
     "name": "stdout",
     "output_type": "stream",
     "text": [
      "Best parameters found:  {'final_estimator__learning_rate': 0.2, 'final_estimator__n_estimators': 200, 'knr__n_neighbors': 20}\n",
      "Best score found:  0.40120837512676627\n",
      "Best estimator found:  StackingRegressor(estimators=[('ridgecv', RidgeCV()),\n",
      "                              ('lasso', LassoCV(random_state=42)),\n",
      "                              ('knr',\n",
      "                               KNeighborsRegressor(metric='euclidean',\n",
      "                                                   n_neighbors=20))],\n",
      "                  final_estimator=GradientBoostingRegressor(learning_rate=0.2,\n",
      "                                                            n_estimators=200,\n",
      "                                                            random_state=42))\n"
     ]
    }
   ],
   "source": [
    "print(f\"GridSearchCV took {duration:.2f} seconds.\")\n",
    "print(\"Best parameters found: \", grid.best_params_)\n",
    "print(\"Best score found: \", -grid.best_score_)\n",
    "print(\"Best estimator found: \", grid.best_estimator_)"
   ],
   "metadata": {
    "collapsed": false,
    "ExecuteTime": {
     "end_time": "2024-02-17T12:43:36.339026Z",
     "start_time": "2024-02-17T12:43:36.331133Z"
    }
   },
   "id": "795dfc0579ea7d50",
   "execution_count": 33
  },
  {
   "cell_type": "code",
   "outputs": [
    {
     "name": "stdout",
     "output_type": "stream",
     "text": [
      "Mean Squared Error on Test Set: 0.39391360028603656\n",
      "r2 score: 0.8810951160621501\n",
      "explained variance score: 0.8811403306632517\n"
     ]
    }
   ],
   "source": [
    "from sklearn.metrics import mean_squared_error, r2_score, explained_variance_score\n",
    "y_pred = grid.predict(x_test_Trans)\n",
    "mse = mean_squared_error(y_test, y_pred)\n",
    "r_two_score = r2_score(y_test, y_pred)\n",
    "ex_variance_score = explained_variance_score(y_test, y_pred)\n"
   ],
   "metadata": {
    "collapsed": false,
    "ExecuteTime": {
     "end_time": "2024-02-17T12:44:18.358185Z",
     "start_time": "2024-02-17T12:44:15.354284Z"
    }
   },
   "id": "9c40d04f8feddf80",
   "execution_count": 36
  },
  {
   "cell_type": "code",
   "outputs": [
    {
     "name": "stdout",
     "output_type": "stream",
     "text": [
      "Mean Squared Error on Test Set: 0.39391360028603656\n",
      "r2 score: 0.8810951160621501\n",
      "explained variance score: 0.8811403306632517\n"
     ]
    }
   ],
   "source": [
    "print(f'Mean Squared Error on Test Set: {mse}\\nr2 score: {r_two_score}\\nexplained variance score: {ex_variance_score}')"
   ],
   "metadata": {
    "collapsed": false,
    "ExecuteTime": {
     "end_time": "2024-02-17T12:44:26.733292Z",
     "start_time": "2024-02-17T12:44:26.729025Z"
    }
   },
   "id": "ffbc1a0c27a6ec6f",
   "execution_count": 37
  },
  {
   "cell_type": "markdown",
   "source": [
    "Running Kfold Validation for Stacking with optmized parameters\n",
    "---"
   ],
   "metadata": {
    "collapsed": false
   },
   "id": "c5fab30d73c7b33a"
  },
  {
   "cell_type": "code",
   "outputs": [],
   "source": [
    "import numpy as np\n",
    "from sklearn.model_selection import KFold, cross_val_score\n",
    "from sklearn.linear_model import LinearRegression\n",
    "import time\n",
    "# Define the base models, with opmitized parameters\n",
    "\n",
    "base_models = [\n",
    "    ('ridge', RidgeCV()),\n",
    "    ('lasso', LassoCV(random_state=42)),\n",
    "    ('knr', KNeighborsRegressor(n_neighbors=20, metric='euclidean'))\n",
    "]\n",
    "# Define the meta-model\n",
    "meta_model = GradientBoostingRegressor(random_state=42, n_estimators=200, learning_rate=0.2)\n",
    "# Create the stacking model\n",
    "stacked_model = StackingRegressor(estimators=base_models, final_estimator=meta_model)\n",
    "\n",
    "# Define the KFold cross-validator\n",
    "kf = KFold(n_splits=5, shuffle=True, random_state=42)\n",
    "\n",
    "# Perform k-fold cross-validation\n",
    "# Record the start time\n",
    "start_time = time.time()\n",
    "scores = cross_val_score(stacked_model, x_train_Trans, y_train,  scoring='neg_root_mean_squared_error', cv=kf)\n",
    "\n",
    "# Convert scores to positive (since they are negative mean squared errors)\n",
    "mse_scores = -scores\n",
    "\n",
    "# Calculate RMSE for each fold\n",
    "rmse_scores = np.sqrt(mse_scores)\n",
    "end_time = time.time()\n",
    "\n",
    "# Calculate the duration\n",
    "duration = end_time - start_time"
   ],
   "metadata": {
    "collapsed": false,
    "ExecuteTime": {
     "end_time": "2024-02-17T12:53:15.873822Z",
     "start_time": "2024-02-17T12:49:59.303125Z"
    }
   },
   "id": "8d25fa707fd4c564",
   "execution_count": 39
  },
  {
   "cell_type": "code",
   "outputs": [
    {
     "name": "stdout",
     "output_type": "stream",
     "text": [
      "KFold run took 47.79 seconds.\n",
      "RMSE scores for each fold: [0.79531567 0.79746593 0.79502865 0.79649287 0.79416668]\n",
      "Average RMSE: 0.7956939598410445\n"
     ]
    }
   ],
   "source": [
    "print(f\"KFold run took {duration:.2f} seconds.\")\n",
    "print(f\"RMSE scores for each fold: {rmse_scores}\")\n",
    "print(f\"Average RMSE: {np.mean(rmse_scores)}\")"
   ],
   "metadata": {
    "collapsed": false,
    "ExecuteTime": {
     "end_time": "2024-02-17T12:57:01.635209Z",
     "start_time": "2024-02-17T12:57:01.631400Z"
    }
   },
   "id": "4676a9901e179477",
   "execution_count": 44
  },
  {
   "cell_type": "markdown",
   "source": [
    "StackingRegressor execution\n",
    "---"
   ],
   "metadata": {
    "collapsed": false
   },
   "id": "453c2dbeaed0e580"
  },
  {
   "cell_type": "code",
   "outputs": [],
   "source": [
    "import numpy as np\n",
    "from sklearn.model_selection import KFold, cross_val_score\n",
    "from sklearn.linear_model import LinearRegression\n",
    "import time\n",
    "\n",
    "# Define the base models, with opmitized parameters\n",
    "base_models = [\n",
    "    ('ridge', RidgeCV()),\n",
    "    ('lasso', LassoCV(random_state=42)),\n",
    "    ('knr', KNeighborsRegressor(n_neighbors=20, metric='euclidean'))\n",
    "]\n",
    "# Define the meta-model\n",
    "meta_model = GradientBoostingRegressor(random_state=42, n_estimators=200, learning_rate=0.2)\n",
    "# Create the stacking model\n",
    "stacked_model = StackingRegressor(estimators=base_models, final_estimator=meta_model)\n",
    "\n",
    "# Record the start time\n",
    "start_time = time.time()\n",
    "stacked_model.fit(x_train_Trans, y_train)\n",
    "# Calculate the duration\n",
    "end_time = time.time()\n",
    "duration = end_time - start_time"
   ],
   "metadata": {
    "collapsed": false,
    "ExecuteTime": {
     "end_time": "2024-02-17T12:55:51.632142Z",
     "start_time": "2024-02-17T12:55:03.839942Z"
    }
   },
   "id": "1f9b26e9607cfd46",
   "execution_count": 43
  },
  {
   "cell_type": "code",
   "outputs": [
    {
     "name": "stdout",
     "output_type": "stream",
     "text": [
      "Stacking Model training took 47.79 seconds.\n",
      "Mean Squared Error on Test Set: 0.39391360028603656\n",
      "r2 score: 0.8810951160621501\n",
      "explained variance score: 0.8811403306632517\n"
     ]
    }
   ],
   "source": [
    "from sklearn.metrics import mean_squared_error, r2_score, explained_variance_score\n",
    "\n",
    "gbr_pred = stacked_model.predict(x_test_Trans)\n",
    "\n",
    "mse = mean_squared_error(y_test, gbr_pred)\n",
    "r_two_score = r2_score(y_test, gbr_pred)\n",
    "ex_variance_score = explained_variance_score(y_test, gbr_pred)\n",
    "\n",
    "print(f\"Stacking Model training took {duration:.2f} seconds.\")\n",
    "print(f'Mean Squared Error on Test Set: {mse}')\n",
    "print(f'r2 score: {r_two_score}')\n",
    "print(f'explained variance score: {ex_variance_score}')"
   ],
   "metadata": {
    "collapsed": false,
    "ExecuteTime": {
     "end_time": "2024-02-17T12:59:42.489590Z",
     "start_time": "2024-02-17T12:59:39.627167Z"
    }
   },
   "id": "8f354c5d07491b7a",
   "execution_count": 45
  }
 ],
 "metadata": {
  "kernelspec": {
   "display_name": "Python 3",
   "language": "python",
   "name": "python3"
  },
  "language_info": {
   "codemirror_mode": {
    "name": "ipython",
    "version": 2
   },
   "file_extension": ".py",
   "mimetype": "text/x-python",
   "name": "python",
   "nbconvert_exporter": "python",
   "pygments_lexer": "ipython2",
   "version": "2.7.6"
  }
 },
 "nbformat": 4,
 "nbformat_minor": 5
}
