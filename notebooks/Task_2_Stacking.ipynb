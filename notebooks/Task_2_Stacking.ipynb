{
 "cells": [
  {
   "cell_type": "markdown",
   "source": [
    "Tech Project 2 - Comparing Ensemble Methods - Stacking Regressor\n",
    "\n",
    "Diogo Pessoa\n"
   ],
   "metadata": {
    "collapsed": false
   },
   "id": "67a179537fc9ca73"
  },
  {
   "cell_type": "code",
   "outputs": [],
   "source": [
    "import pandas as pd"
   ],
   "metadata": {
    "collapsed": false,
    "ExecuteTime": {
     "end_time": "2024-02-16T15:49:47.640382Z",
     "start_time": "2024-02-16T15:49:47.636636Z"
    }
   },
   "id": "6ebcbb388c543dab",
   "execution_count": 1
  },
  {
   "cell_type": "code",
   "outputs": [],
   "source": [
    "combined_data=pd.read_csv('combined_data.csv').set_index('video_id')\n",
    "label = combined_data['label']\n",
    "features = combined_data.drop(['label'],axis=1)"
   ],
   "metadata": {
    "collapsed": false,
    "ExecuteTime": {
     "end_time": "2024-02-16T15:49:48.322095Z",
     "start_time": "2024-02-16T15:49:47.643115Z"
    }
   },
   "id": "e65ee86cb8ad6973",
   "execution_count": 2
  },
  {
   "cell_type": "markdown",
   "source": [
    "## Scaling Dataset features"
   ],
   "metadata": {
    "collapsed": false
   },
   "id": "cb48379f1ee9e6b1"
  },
  {
   "cell_type": "code",
   "outputs": [],
   "source": [
    "from sklearn.model_selection import train_test_split\n",
    "x_train, x_test, y_train, y_test = train_test_split(features.values, label.values, test_size=0.2, random_state=42)\n",
    "from sklearn.preprocessing import StandardScaler\n",
    "sc = StandardScaler()\n",
    "x_train_sc = sc.fit_transform(x_train)\n",
    "x_test_sc = sc.transform(x_test)"
   ],
   "metadata": {
    "collapsed": false,
    "ExecuteTime": {
     "end_time": "2024-02-16T15:55:32.202086Z",
     "start_time": "2024-02-16T15:55:30.920008Z"
    }
   },
   "id": "b5e396c82a83c34c",
   "execution_count": 9
  },
  {
   "cell_type": "code",
   "outputs": [
    {
     "name": "stdout",
     "output_type": "stream",
     "text": [
      "check_data_split [(123653, 38), (30914, 38), (123653,), (30914,)]\n"
     ]
    }
   ],
   "source": [
    "print('check_data_split',[x_train_sc.shape,x_test_sc.shape,y_train.shape,y_test.shape])"
   ],
   "metadata": {
    "collapsed": false,
    "ExecuteTime": {
     "end_time": "2024-02-16T15:55:32.781721Z",
     "start_time": "2024-02-16T15:55:32.778076Z"
    }
   },
   "id": "51631f5ebdbe7d32",
   "execution_count": 10
  },
  {
   "cell_type": "markdown",
   "source": [
    "## Training models to generate the baseline scores\n",
    "\n",
    "* [Stacking Regressor](https://scikit-learn.org/stable/modules/ensemble.html#stacking)\n",
    "* [GradientBoostingRegressor](https://scikit-learn.org/stable/modules/generated/sklearn.ensemble.GradientBoostingRegressor.html#sklearn.ensemble.GradientBoostingRegressor) as Final estimator\n",
    "* [RidgeCV](https://scikit-learn.org/stable/modules/generated/sklearn.linear_model.RidgeCV.html#sklearn.linear_model.RidgeCV)\n",
    "* [LassoCV](https://scikit-learn.org/stable/modules/generated/sklearn.linear_model.LassoCV.html#sklearn.linear_model.LassoCV)\n",
    "* [KNeighborsRegressor](https://scikit-learn.org/stable/modules/generated/sklearn.neighbors.KNeighborsRegressor.html#sklearn.neighbors.KNeighborsRegressor)"
   ],
   "metadata": {
    "collapsed": false
   },
   "id": "a8580980ac76dcb8"
  },
  {
   "cell_type": "code",
   "outputs": [],
   "source": [
    "from sklearn.ensemble import GradientBoostingRegressor\n",
    "from sklearn.ensemble import StackingRegressor\n",
    "from sklearn.linear_model import RidgeCV, LassoCV\n",
    "from sklearn.neighbors import KNeighborsRegressor\n",
    "\n",
    "# default values\n",
    "n_estimators=140\n",
    "rd_state=42\n",
    "estimators = [('ridge', RidgeCV()),('lasso', LassoCV(random_state=rd_state)), ('knr', KNeighborsRegressor(n_neighbors=20,metric='euclidean'))]\n"
   ],
   "metadata": {
    "collapsed": false,
    "ExecuteTime": {
     "end_time": "2024-02-16T15:55:07.100675Z",
     "start_time": "2024-02-16T15:55:07.096452Z"
    }
   },
   "id": "ce98716a13da241b",
   "execution_count": 7
  },
  {
   "cell_type": "code",
   "outputs": [],
   "source": [
    "final_estimator = GradientBoostingRegressor(random_state=rd_state, n_estimators=n_estimators, max_depth=40, min_samples_leaf=25)\n",
    "stacking_regressor = StackingRegressor(estimators=estimators, final_estimator=final_estimator) "
   ],
   "metadata": {
    "collapsed": false,
    "ExecuteTime": {
     "end_time": "2024-02-16T15:57:59.308388Z",
     "start_time": "2024-02-16T15:57:59.304573Z"
    }
   },
   "id": "fc6128ae26b810ad",
   "execution_count": 14
  },
  {
   "cell_type": "code",
   "outputs": [
    {
     "data": {
      "text/plain": "StackingRegressor(estimators=[('ridge', RidgeCV()),\n                              ('lasso', LassoCV(random_state=42)),\n                              ('knr',\n                               KNeighborsRegressor(metric='euclidean',\n                                                   n_neighbors=20))],\n                  final_estimator=GradientBoostingRegressor(max_depth=40,\n                                                            min_samples_leaf=25,\n                                                            n_estimators=140,\n                                                            random_state=42))",
      "text/html": "<style>#sk-container-id-1 {color: black;}#sk-container-id-1 pre{padding: 0;}#sk-container-id-1 div.sk-toggleable {background-color: white;}#sk-container-id-1 label.sk-toggleable__label {cursor: pointer;display: block;width: 100%;margin-bottom: 0;padding: 0.3em;box-sizing: border-box;text-align: center;}#sk-container-id-1 label.sk-toggleable__label-arrow:before {content: \"▸\";float: left;margin-right: 0.25em;color: #696969;}#sk-container-id-1 label.sk-toggleable__label-arrow:hover:before {color: black;}#sk-container-id-1 div.sk-estimator:hover label.sk-toggleable__label-arrow:before {color: black;}#sk-container-id-1 div.sk-toggleable__content {max-height: 0;max-width: 0;overflow: hidden;text-align: left;background-color: #f0f8ff;}#sk-container-id-1 div.sk-toggleable__content pre {margin: 0.2em;color: black;border-radius: 0.25em;background-color: #f0f8ff;}#sk-container-id-1 input.sk-toggleable__control:checked~div.sk-toggleable__content {max-height: 200px;max-width: 100%;overflow: auto;}#sk-container-id-1 input.sk-toggleable__control:checked~label.sk-toggleable__label-arrow:before {content: \"▾\";}#sk-container-id-1 div.sk-estimator input.sk-toggleable__control:checked~label.sk-toggleable__label {background-color: #d4ebff;}#sk-container-id-1 div.sk-label input.sk-toggleable__control:checked~label.sk-toggleable__label {background-color: #d4ebff;}#sk-container-id-1 input.sk-hidden--visually {border: 0;clip: rect(1px 1px 1px 1px);clip: rect(1px, 1px, 1px, 1px);height: 1px;margin: -1px;overflow: hidden;padding: 0;position: absolute;width: 1px;}#sk-container-id-1 div.sk-estimator {font-family: monospace;background-color: #f0f8ff;border: 1px dotted black;border-radius: 0.25em;box-sizing: border-box;margin-bottom: 0.5em;}#sk-container-id-1 div.sk-estimator:hover {background-color: #d4ebff;}#sk-container-id-1 div.sk-parallel-item::after {content: \"\";width: 100%;border-bottom: 1px solid gray;flex-grow: 1;}#sk-container-id-1 div.sk-label:hover label.sk-toggleable__label {background-color: #d4ebff;}#sk-container-id-1 div.sk-serial::before {content: \"\";position: absolute;border-left: 1px solid gray;box-sizing: border-box;top: 0;bottom: 0;left: 50%;z-index: 0;}#sk-container-id-1 div.sk-serial {display: flex;flex-direction: column;align-items: center;background-color: white;padding-right: 0.2em;padding-left: 0.2em;position: relative;}#sk-container-id-1 div.sk-item {position: relative;z-index: 1;}#sk-container-id-1 div.sk-parallel {display: flex;align-items: stretch;justify-content: center;background-color: white;position: relative;}#sk-container-id-1 div.sk-item::before, #sk-container-id-1 div.sk-parallel-item::before {content: \"\";position: absolute;border-left: 1px solid gray;box-sizing: border-box;top: 0;bottom: 0;left: 50%;z-index: -1;}#sk-container-id-1 div.sk-parallel-item {display: flex;flex-direction: column;z-index: 1;position: relative;background-color: white;}#sk-container-id-1 div.sk-parallel-item:first-child::after {align-self: flex-end;width: 50%;}#sk-container-id-1 div.sk-parallel-item:last-child::after {align-self: flex-start;width: 50%;}#sk-container-id-1 div.sk-parallel-item:only-child::after {width: 0;}#sk-container-id-1 div.sk-dashed-wrapped {border: 1px dashed gray;margin: 0 0.4em 0.5em 0.4em;box-sizing: border-box;padding-bottom: 0.4em;background-color: white;}#sk-container-id-1 div.sk-label label {font-family: monospace;font-weight: bold;display: inline-block;line-height: 1.2em;}#sk-container-id-1 div.sk-label-container {text-align: center;}#sk-container-id-1 div.sk-container {/* jupyter's `normalize.less` sets `[hidden] { display: none; }` but bootstrap.min.css set `[hidden] { display: none !important; }` so we also need the `!important` here to be able to override the default hidden behavior on the sphinx rendered scikit-learn.org. See: https://github.com/scikit-learn/scikit-learn/issues/21755 */display: inline-block !important;position: relative;}#sk-container-id-1 div.sk-text-repr-fallback {display: none;}</style><div id=\"sk-container-id-1\" class=\"sk-top-container\"><div class=\"sk-text-repr-fallback\"><pre>StackingRegressor(estimators=[(&#x27;ridge&#x27;, RidgeCV()),\n                              (&#x27;lasso&#x27;, LassoCV(random_state=42)),\n                              (&#x27;knr&#x27;,\n                               KNeighborsRegressor(metric=&#x27;euclidean&#x27;,\n                                                   n_neighbors=20))],\n                  final_estimator=GradientBoostingRegressor(max_depth=40,\n                                                            min_samples_leaf=25,\n                                                            n_estimators=140,\n                                                            random_state=42))</pre><b>In a Jupyter environment, please rerun this cell to show the HTML representation or trust the notebook. <br />On GitHub, the HTML representation is unable to render, please try loading this page with nbviewer.org.</b></div><div class=\"sk-container\" hidden><div class=\"sk-item sk-dashed-wrapped\"><div class=\"sk-label-container\"><div class=\"sk-label sk-toggleable\"><input class=\"sk-toggleable__control sk-hidden--visually\" id=\"sk-estimator-id-1\" type=\"checkbox\" ><label for=\"sk-estimator-id-1\" class=\"sk-toggleable__label sk-toggleable__label-arrow\">StackingRegressor</label><div class=\"sk-toggleable__content\"><pre>StackingRegressor(estimators=[(&#x27;ridge&#x27;, RidgeCV()),\n                              (&#x27;lasso&#x27;, LassoCV(random_state=42)),\n                              (&#x27;knr&#x27;,\n                               KNeighborsRegressor(metric=&#x27;euclidean&#x27;,\n                                                   n_neighbors=20))],\n                  final_estimator=GradientBoostingRegressor(max_depth=40,\n                                                            min_samples_leaf=25,\n                                                            n_estimators=140,\n                                                            random_state=42))</pre></div></div></div><div class=\"sk-serial\"><div class=\"sk-item\"><div class=\"sk-parallel\"><div class=\"sk-parallel-item\"><div class=\"sk-item\"><div class=\"sk-label-container\"><div class=\"sk-label sk-toggleable\"><label>ridge</label></div></div><div class=\"sk-serial\"><div class=\"sk-item\"><div class=\"sk-estimator sk-toggleable\"><input class=\"sk-toggleable__control sk-hidden--visually\" id=\"sk-estimator-id-2\" type=\"checkbox\" ><label for=\"sk-estimator-id-2\" class=\"sk-toggleable__label sk-toggleable__label-arrow\">RidgeCV</label><div class=\"sk-toggleable__content\"><pre>RidgeCV()</pre></div></div></div></div></div></div><div class=\"sk-parallel-item\"><div class=\"sk-item\"><div class=\"sk-label-container\"><div class=\"sk-label sk-toggleable\"><label>lasso</label></div></div><div class=\"sk-serial\"><div class=\"sk-item\"><div class=\"sk-estimator sk-toggleable\"><input class=\"sk-toggleable__control sk-hidden--visually\" id=\"sk-estimator-id-3\" type=\"checkbox\" ><label for=\"sk-estimator-id-3\" class=\"sk-toggleable__label sk-toggleable__label-arrow\">LassoCV</label><div class=\"sk-toggleable__content\"><pre>LassoCV(random_state=42)</pre></div></div></div></div></div></div><div class=\"sk-parallel-item\"><div class=\"sk-item\"><div class=\"sk-label-container\"><div class=\"sk-label sk-toggleable\"><label>knr</label></div></div><div class=\"sk-serial\"><div class=\"sk-item\"><div class=\"sk-estimator sk-toggleable\"><input class=\"sk-toggleable__control sk-hidden--visually\" id=\"sk-estimator-id-4\" type=\"checkbox\" ><label for=\"sk-estimator-id-4\" class=\"sk-toggleable__label sk-toggleable__label-arrow\">KNeighborsRegressor</label><div class=\"sk-toggleable__content\"><pre>KNeighborsRegressor(metric=&#x27;euclidean&#x27;, n_neighbors=20)</pre></div></div></div></div></div></div></div></div><div class=\"sk-item\"><div class=\"sk-parallel\"><div class=\"sk-parallel-item\"><div class=\"sk-item\"><div class=\"sk-label-container\"><div class=\"sk-label sk-toggleable\"><label>final_estimator</label></div></div><div class=\"sk-serial\"><div class=\"sk-item\"><div class=\"sk-estimator sk-toggleable\"><input class=\"sk-toggleable__control sk-hidden--visually\" id=\"sk-estimator-id-5\" type=\"checkbox\" ><label for=\"sk-estimator-id-5\" class=\"sk-toggleable__label sk-toggleable__label-arrow\">GradientBoostingRegressor</label><div class=\"sk-toggleable__content\"><pre>GradientBoostingRegressor(max_depth=40, min_samples_leaf=25, n_estimators=140,\n                          random_state=42)</pre></div></div></div></div></div></div></div></div></div></div></div></div>"
     },
     "execution_count": 15,
     "metadata": {},
     "output_type": "execute_result"
    }
   ],
   "source": [
    "\"\"\"Traing models with unscaled data\"\"\"\n",
    "stacking_regressor.fit(x_train, y_train)"
   ],
   "metadata": {
    "collapsed": false,
    "ExecuteTime": {
     "end_time": "2024-02-16T16:03:41.506480Z",
     "start_time": "2024-02-16T15:58:00.872269Z"
    }
   },
   "id": "97d141ae7f8cea39",
   "execution_count": 15
  },
  {
   "cell_type": "code",
   "outputs": [],
   "source": [
    "stacking_regressor_pred = stacking_regressor.predict(x_test)"
   ],
   "metadata": {
    "collapsed": false,
    "ExecuteTime": {
     "end_time": "2024-02-16T16:06:02.894782Z",
     "start_time": "2024-02-16T16:05:55.861628Z"
    }
   },
   "id": "d01e1e553a60b014",
   "execution_count": 17
  },
  {
   "cell_type": "code",
   "outputs": [
    {
     "name": "stdout",
     "output_type": "stream",
     "text": [
      "|Ensemble|mean squared error| |r2 score| |explained variance score|\n",
      "|Stacking Regressor|0.4227565962173764 | 0.8718890758241176 | 0.8719155515438354|\n"
     ]
    },
    {
     "data": {
      "text/plain": "'Estimators: RidgeCV, LassoCV, KNeighborsRegressor, GradientBoostingRegressor'"
     },
     "execution_count": 22,
     "metadata": {},
     "output_type": "execute_result"
    }
   ],
   "source": [
    "from sklearn.metrics import mean_squared_error\n",
    "from sklearn.metrics import r2_score\n",
    "from sklearn.metrics import explained_variance_score\n",
    "\n",
    "print('|Ensemble|mean squared error|', '|r2 score|', '|explained variance score|')\n",
    "print(f'|Stacking Regressor|{mean_squared_error(y_test, stacking_regressor_pred)} | {r2_score(y_test, stacking_regressor_pred)} | {explained_variance_score(y_test, stacking_regressor_pred)}|')\n",
    "\"\"\"Estimators: RidgeCV, LassoCV, KNeighborsRegressor, GradientBoostingRegressor\"\"\""
   ],
   "metadata": {
    "collapsed": false,
    "ExecuteTime": {
     "end_time": "2024-02-16T16:29:36.084460Z",
     "start_time": "2024-02-16T16:29:36.065859Z"
    }
   },
   "id": "9139831cfdc7d979",
   "execution_count": 22
  },
  {
   "cell_type": "code",
   "outputs": [
    {
     "data": {
      "text/plain": "array([[22.40572766, 23.37070596, 14.50793681],\n       [22.60511809, 22.46346369, 13.61999483],\n       [13.15150847, 15.09706885, 14.51991039],\n       [31.96042596, 31.90347318, 13.82580957],\n       [20.96778725, 21.88939949, 14.52554169]])"
     },
     "execution_count": 23,
     "metadata": {},
     "output_type": "execute_result"
    }
   ],
   "source": [
    "stacking_regressor.transform(x_test[:5])"
   ],
   "metadata": {
    "collapsed": false,
    "ExecuteTime": {
     "end_time": "2024-02-16T16:29:36.292862Z",
     "start_time": "2024-02-16T16:29:36.278602Z"
    }
   },
   "id": "eebf3ee4bf0540ed",
   "execution_count": 23
  },
  {
   "cell_type": "markdown",
   "source": [
    "## Training models with scaled data"
   ],
   "metadata": {
    "collapsed": false
   },
   "id": "beb6002b7d0ce896"
  },
  {
   "cell_type": "code",
   "outputs": [
    {
     "name": "stdout",
     "output_type": "stream",
     "text": [
      "|Ensemble|mean squared error| |r2 score| |explained variance score|\n",
      "|Stacking Regressor (scaled set)|0.4227565962173764 | 0.8718890758241176 | 0.8719155515438354|\n"
     ]
    },
    {
     "data": {
      "text/plain": "'Estimators: RidgeCV, LassoCV, KNeighborsRegressor, GradientBoostingRegressor'"
     },
     "execution_count": 20,
     "metadata": {},
     "output_type": "execute_result"
    }
   ],
   "source": [
    "stacking_regressor.fit(x_train_sc, y_train)\n",
    "stacking_regressor_pred_sc = stacking_regressor.predict(x_test_sc)\n",
    "\n",
    "print('|Ensemble|mean squared error|', '|r2 score|', '|explained variance score|')\n",
    "print(f'|Stacking Regressor (scaled set)|{mean_squared_error(y_test, stacking_regressor_pred)} | {r2_score(y_test, stacking_regressor_pred)} | {explained_variance_score(y_test, stacking_regressor_pred)}|')\n",
    "\"\"\"Estimators: RidgeCV, LassoCV, KNeighborsRegressor, GradientBoostingRegressor\"\"\""
   ],
   "metadata": {
    "collapsed": false,
    "ExecuteTime": {
     "end_time": "2024-02-16T16:22:12.030667Z",
     "start_time": "2024-02-16T16:15:45.392699Z"
    }
   },
   "id": "2405f230854994c9",
   "execution_count": 20
  },
  {
   "cell_type": "code",
   "outputs": [],
   "source": [],
   "metadata": {
    "collapsed": false
   },
   "id": "26c276c103c695a9"
  }
 ],
 "metadata": {
  "kernelspec": {
   "display_name": "Python 3",
   "language": "python",
   "name": "python3"
  },
  "language_info": {
   "codemirror_mode": {
    "name": "ipython",
    "version": 2
   },
   "file_extension": ".py",
   "mimetype": "text/x-python",
   "name": "python",
   "nbconvert_exporter": "python",
   "pygments_lexer": "ipython2",
   "version": "2.7.6"
  }
 },
 "nbformat": 4,
 "nbformat_minor": 5
}
