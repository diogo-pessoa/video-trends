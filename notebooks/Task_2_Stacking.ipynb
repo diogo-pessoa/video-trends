{
 "cells": [
  {
   "cell_type": "markdown",
   "source": [
    "Tech Project 2 - Comparing Ensemble Methods - Stacking Regressor\n",
    "\n",
    "Diogo Pessoa\n"
   ],
   "metadata": {
    "collapsed": false
   },
   "id": "67a179537fc9ca73"
  },
  {
   "cell_type": "code",
   "outputs": [],
   "source": [
    "# data_file = 'combined_data.csv'  # Load variable so data_loader can locale the csv filesystem path accordingly.\n",
    "# %run data_loader.ipynb "
   ],
   "metadata": {
    "collapsed": false
   },
   "id": "c25a956a69398746",
   "execution_count": null
  },
  {
   "cell_type": "code",
   "outputs": [],
   "source": [
    "# %run FeatureEngineering/LassoCV.ipynb"
   ],
   "metadata": {
    "collapsed": false
   },
   "id": "eebf3ee4bf0540ed",
   "execution_count": null
  },
  {
   "cell_type": "code",
   "outputs": [],
   "source": [
    "import time\n",
    "from sklearn.ensemble import GradientBoostingRegressor\n",
    "from sklearn.ensemble import StackingRegressor, BaggingRegressor\n",
    "from sklearn.neighbors import KNeighborsRegressor\n",
    "\n",
    "base_models = [\n",
    "    ('knn', KNeighborsRegressor(n_neighbors=20, metric='euclidean')),\n",
    "    ('gbr', GradientBoostingRegressor(n_estimators=200, learning_rate=0.2))\n",
    "]\n",
    "\n",
    "# Define the meta-model\n",
    "meta_model = BaggingRegressor(n_estimators=200, random_state=42)\n",
    "\n",
    "# Create the stacking model\n",
    "stacked_model = StackingRegressor(estimators=base_models, final_estimator=meta_model)\n"
   ],
   "metadata": {
    "collapsed": false
   },
   "id": "d5818d9ac79a6e79",
   "execution_count": null
  },
  {
   "cell_type": "code",
   "outputs": [],
   "source": [
    "start = time.time()\n",
    "\n",
    "stacked_model.fit(x_train_reduced_sc, y_train)\n",
    "# Calculate the duration\n",
    "end_time = time.time()\n",
    "duration = end_time - start_time\n",
    "\n",
    "# Predict \n",
    "pred = stacked_model.predict(x_test_reduced_sc)\n",
    "\n",
    "mse = mean_squared_error(y_test, pred)\n",
    "r_two_score = r2_score(y_test, pred)\n",
    "ex_variance_score = explained_variance_score(y_test, pred)\n",
    "\n",
    "print(f\"{stacked_model.__class__} training took {duration:.4f} seconds.\")\n",
    "print(f'Mean Squared Error on Test Set: {mse:.4f}')\n",
    "print(f'r2 score: {r_two_score:.4f}')\n",
    "print(f'explained variance score: {ex_variance_score:.4f}')"
   ],
   "metadata": {
    "collapsed": false
   },
   "id": "87f6034be55356ee"
  }
 ],
 "metadata": {
  "kernelspec": {
   "display_name": "Python 3",
   "language": "python",
   "name": "python3"
  },
  "language_info": {
   "codemirror_mode": {
    "name": "ipython",
    "version": 2
   },
   "file_extension": ".py",
   "mimetype": "text/x-python",
   "name": "python",
   "nbconvert_exporter": "python",
   "pygments_lexer": "ipython2",
   "version": "2.7.6"
  }
 },
 "nbformat": 4,
 "nbformat_minor": 5
}
