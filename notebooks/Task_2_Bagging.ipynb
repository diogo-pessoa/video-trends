{
 "cells": [
  {
   "cell_type": "markdown",
   "source": [
    "Tech Project 2 - Ensemble Methods\n",
    "\n",
    "Diogo Pessoa\n"
   ],
   "metadata": {
    "collapsed": false
   },
   "id": "67a179537fc9ca73"
  },
  {
   "cell_type": "code",
   "outputs": [],
   "source": [
    "%run data_loader.ipynb"
   ],
   "metadata": {
    "collapsed": false
   },
   "id": "2b621884cb57d3b6"
  },
  {
   "cell_type": "code",
   "outputs": [],
   "source": [
    "# code here\n",
    "from sklearn.decomposition import PCA\n",
    "pca = PCA(n_components=34)\n",
    "x_train_Trans=pca.fit_transform(x_train)\n",
    "x_test_Trans=pca.transform(x_test)"
   ],
   "metadata": {
    "collapsed": false
   },
   "id": "a40ed2ea059cf2f5",
   "execution_count": null
  },
  {
   "cell_type": "markdown",
   "source": [
    "## Voting/Bagging Regressor\n",
    "\n",
    "* [skelarn Voting Regressor](https://scikit-learn.org/stable/modules/ensemble.html#voting-regressor)\n",
    "* [BaggingRegressor](https://scikit-learn.org/stable/modules/ensemble.html#bagging-regressor)\n",
    "\n",
    "Deliberately leaving RandomForestRegressor out of this test, since it was already used on initial notebook."
   ],
   "metadata": {
    "collapsed": false
   },
   "id": "a8580980ac76dcb8"
  },
  {
   "cell_type": "code",
   "outputs": [],
   "source": [
    "from sklearn.ensemble import GradientBoostingRegressor\n",
    "from sklearn.ensemble import VotingRegressor\n",
    "from sklearn.linear_model import LinearRegression\n",
    "from sklearn.ensemble import BaggingRegressor\n",
    "\n",
    "n_estimators=140\n",
    "rd_state=42\n",
    "# Training classifiers\n",
    "grad_boosting_regressor = GradientBoostingRegressor(random_state=rd_state, n_estimators=n_estimators)\n",
    "bagging_regressor = BaggingRegressor(random_state=rd_state, n_estimators=n_estimators)\n",
    "linear_regr = LinearRegression()\n",
    "voting_reg = VotingRegressor(estimators=[('gb', grad_boosting_regressor), ('lr', linear_regr), ('bagging_r', bagging_regressor)])"
   ],
   "metadata": {
    "collapsed": false
   },
   "id": "fc6128ae26b810ad",
   "execution_count": null
  },
  {
   "cell_type": "code",
   "outputs": [],
   "source": [
    "# Training BaggingReg\n",
    "import time\n",
    "# Record the start time\n",
    "start_time = time.time()\n",
    "voting_reg.fit(x_train_Trans, y_train)\n",
    "# Calculate the duration\n",
    "end_time = time.time()\n",
    "duration = end_time - start_time"
   ],
   "metadata": {
    "collapsed": false
   },
   "id": "75adfaee1cae65e6"
  },
  {
   "cell_type": "code",
   "outputs": [],
   "source": [
    "from sklearn.metrics import mean_squared_error, r2_score, explained_variance_score\n",
    "\n",
    "voting_regressor_pred = voting_reg.predict(x_test_Trans)\n",
    "\n",
    "mse = mean_squared_error(y_test, voting_regressor_pred)\n",
    "r_two_score = r2_score(y_test, voting_regressor_pred)\n",
    "ex_variance_score = explained_variance_score(y_test, voting_regressor_pred)\n",
    "\n",
    "print(f\"Votinh Regressor Model training took {duration:.2f} seconds.\")\n",
    "print(f'Mean Squared Error on Test Set: {mse:.2f}')\n",
    "print(f'r2 score: {r_two_score:.2f}')\n",
    "print(f'explained variance score: {ex_variance_score:.2f}')"
   ],
   "metadata": {
    "collapsed": false
   },
   "id": "374eacc79221cd4f"
  },
  {
   "cell_type": "code",
   "outputs": [],
   "source": [
    "# Training BaggingReg\n",
    "import time\n",
    "# Record the start time\n",
    "start_time = time.time()\n",
    "bagging_regressor.fit(x_train_Trans, y_train)\n",
    "# Calculate the duration\n",
    "end_time = time.time()\n",
    "duration = end_time - start_time"
   ],
   "metadata": {
    "collapsed": false
   },
   "id": "97d141ae7f8cea39",
   "execution_count": null
  },
  {
   "cell_type": "code",
   "outputs": [],
   "source": [
    "from sklearn.metrics import mean_squared_error, r2_score, explained_variance_score\n",
    "\n",
    "bagging_regressor_pred = bagging_regressor.predict(x_test_Trans)\n",
    "\n",
    "mse = mean_squared_error(y_test, bagging_regressor_pred)\n",
    "r_two_score = r2_score(y_test, bagging_regressor_pred)\n",
    "ex_variance_score = explained_variance_score(y_test, bagging_regressor_pred)\n",
    "\n",
    "print(f\"Bagging Regressor Model training took {duration:.2f} seconds.\")\n",
    "print(f'Mean Squared Error on Test Set: {mse:.2f}')\n",
    "print(f'r2 score: {r_two_score:.2f}')\n",
    "print(f'explained variance score: {ex_variance_score:.2f}')"
   ],
   "metadata": {
    "collapsed": false
   },
   "id": "204f30092d2a7002"
  }
 ],
 "metadata": {
  "kernelspec": {
   "display_name": "Python 3",
   "language": "python",
   "name": "python3"
  },
  "language_info": {
   "codemirror_mode": {
    "name": "ipython",
    "version": 2
   },
   "file_extension": ".py",
   "mimetype": "text/x-python",
   "name": "python",
   "nbconvert_exporter": "python",
   "pygments_lexer": "ipython2",
   "version": "2.7.6"
  }
 },
 "nbformat": 4,
 "nbformat_minor": 5
}
