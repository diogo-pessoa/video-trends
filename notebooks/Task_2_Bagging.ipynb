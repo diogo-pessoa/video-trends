{
 "cells": [
  {
   "cell_type": "markdown",
   "source": [
    "Tech Project 2 - Ensemble Methods\n",
    "\n",
    "Diogo Pessoa\n"
   ],
   "metadata": {
    "collapsed": false
   },
   "id": "67a179537fc9ca73"
  },
  {
   "cell_type": "code",
   "outputs": [
    {
     "name": "stdout",
     "output_type": "stream",
     "text": [
      "Data loaded:\n",
      "- x_train_sc: Scaled training features.\n",
      "- x_test_sc: Scaled testing features.\n",
      "- x_train - Training features.\n",
      "- x_test - Testing features.\n",
      "- y_train - Training labels.\n",
      "- y_test - Testing labels.\n"
     ]
    }
   ],
   "source": [
    "data_file = 'combined_data.csv' # Load variable so data_loader can locale the csv filesystem path accordingly.\n",
    "%run data_loader.ipynb "
   ],
   "metadata": {
    "collapsed": false,
    "ExecuteTime": {
     "end_time": "2024-02-18T13:37:57.249359Z",
     "start_time": "2024-02-18T13:37:54.325175Z"
    }
   },
   "id": "2b621884cb57d3b6",
   "execution_count": 3
  },
  {
   "cell_type": "code",
   "outputs": [
    {
     "name": "stdout",
     "output_type": "stream",
     "text": [
      "PCA applied to the training and testing features:\n",
      "- x_train_pca_Trans_sc: Scaled training features.\n",
      "- x_test_pca_Trans_sc: Scaled testing features.\n",
      "- x_train_pca_Trans - Training features.\n",
      "- x_test_pca_Trans - Testing features.\n"
     ]
    }
   ],
   "source": [
    "%run FeatureEngineering/PCA.ipynb"
   ],
   "metadata": {
    "collapsed": false,
    "ExecuteTime": {
     "end_time": "2024-02-18T13:37:58.115643Z",
     "start_time": "2024-02-18T13:37:57.251694Z"
    }
   },
   "id": "a40ed2ea059cf2f5",
   "execution_count": 4
  },
  {
   "cell_type": "code",
   "outputs": [],
   "source": [
    "# %run FeatureEngineering/Bayesian_optimization.ipynb"
   ],
   "metadata": {
    "collapsed": false
   },
   "id": "9766e40e646d24f2"
  },
  {
   "cell_type": "markdown",
   "source": [
    "## Voting/Bagging Regressor\n",
    "\n",
    "* [Voting Regressor](https://scikit-learn.org/stable/modules/ensemble.html#voting-regressor)\n",
    "* [Bagging Regressor](https://scikit-learn.org/stable/modules/ensemble.html#bagging-regressor)\n",
    "\n",
    "Deliberately leaving RandomForestRegressor out of this test, since it was already used on initial notebook."
   ],
   "metadata": {
    "collapsed": false
   },
   "id": "a8580980ac76dcb8"
  },
  {
   "cell_type": "code",
   "outputs": [],
   "source": [
    "from sklearn.ensemble import GradientBoostingRegressor\n",
    "from sklearn.ensemble import VotingRegressor\n",
    "from sklearn.linear_model import LinearRegression\n",
    "from sklearn.ensemble import BaggingRegressor\n",
    "\n",
    "n_estimators=140\n",
    "rd_state=42\n",
    "# Training Regressors to use on Voting Regressor\n",
    "grad_boosting_regressor = GradientBoostingRegressor(random_state=rd_state, n_estimators=n_estimators)\n",
    "bagging_regressor = BaggingRegressor(random_state=rd_state, n_estimators=n_estimators)\n",
    "\n",
    "voting_reg = VotingRegressor(estimators=[('gb', grad_boosting_regressor), ('bagging_r', bagging_regressor)])"
   ],
   "metadata": {
    "collapsed": false,
    "ExecuteTime": {
     "end_time": "2024-02-18T13:40:23.715307Z",
     "start_time": "2024-02-18T13:40:23.709750Z"
    }
   },
   "id": "fc6128ae26b810ad",
   "execution_count": 7
  },
  {
   "cell_type": "code",
   "outputs": [],
   "source": [
    "# Training Voting Regressor without PCA\n",
    "import time\n",
    "\n",
    "# Record the start time\n",
    "start_time = time.time()\n",
    "votinh_reg_sc = voting_reg.fit(x_train_sc, y_train)\n",
    "# Calculate the duration\n",
    "end_time = time.time()\n",
    "duration = end_time - start_time\n",
    "\n",
    "# Record the start time\n",
    "start_time = time.time()\n",
    "voting_reg_sc_pca = voting_reg.fit(x_train_pca_Trans_sc, y_train)\n",
    "# Calculate the duration\n",
    "end_time = time.time()\n",
    "duration_pca = end_time - start_time"
   ],
   "metadata": {
    "collapsed": false,
    "ExecuteTime": {
     "end_time": "2024-02-18T14:11:02.055913Z",
     "start_time": "2024-02-18T13:49:54.643539Z"
    }
   },
   "id": "75adfaee1cae65e6",
   "execution_count": 11
  },
  {
   "cell_type": "code",
   "outputs": [
    {
     "name": "stdout",
     "output_type": "stream",
     "text": [
      "Voting Regressor Model training took 176.30 seconds.\n",
      "Mean Squared Error on Test Set: 0.25\n",
      "r2 score: 0.92\n",
      "explained variance score: 0.92\n"
     ]
    }
   ],
   "source": [
    "from sklearn.metrics import mean_squared_error, r2_score, explained_variance_score\n",
    "\n",
    "voting_regressor_pred = voting_reg.predict(x_test_sc)\n",
    "voting_regressor_sc_pca_pred = voting_reg_sc_pca.predict(x_test_pca_Trans_sc)\n",
    "\n",
    "# Scaled Data\n",
    "mse = mean_squared_error(y_test, voting_regressor_pred)\n",
    "r_two_score = r2_score(y_test, voting_regressor_pred)\n",
    "ex_variance_score = explained_variance_score(y_test, voting_regressor_pred)\n",
    "\n",
    "# Using PCA applied Set\n",
    "mse_pca = mean_squared_error(y_test, voting_regressor_sc_pca_pred)\n",
    "r_two_score_pca = r2_score(y_test, voting_regressor_sc_pca_pred)\n",
    "ex_variance_score_pca = explained_variance_score(y_test, voting_regressor_sc_pca_pred)\n",
    "\n",
    "print(f\"Voting Regressor Model with PCA took {duration_pca:.2f} seconds.\")\n",
    "print(f'Mean Squared Error on PCA Test Set: {mse:.2f}')\n",
    "print(f'r2 score PCA: {r_two_score:.2f}')\n",
    "print(f'explained variance score PCA: {ex_variance_score:.2f}')\n",
    "\n",
    "\n"
   ],
   "metadata": {
    "collapsed": false,
    "ExecuteTime": {
     "end_time": "2024-02-18T13:45:40.884426Z",
     "start_time": "2024-02-18T13:45:36.618239Z"
    }
   },
   "id": "374eacc79221cd4f",
   "execution_count": 10
  },
  {
   "cell_type": "code",
   "outputs": [],
   "source": [
    "# Training BaggingReg\n",
    "import time\n",
    "# Record the start time\n",
    "start_time = time.time()\n",
    "bagging_regressor.fit(x_train_Trans, y_train)\n",
    "# Calculate the duration\n",
    "end_time = time.time()\n",
    "duration = end_time - start_time"
   ],
   "metadata": {
    "collapsed": false
   },
   "id": "97d141ae7f8cea39",
   "execution_count": null
  },
  {
   "cell_type": "code",
   "outputs": [],
   "source": [
    "from sklearn.metrics import mean_squared_error, r2_score, explained_variance_score\n",
    "\n",
    "bagging_regressor_pred = bagging_regressor.predict(x_test_Trans)\n",
    "\n",
    "mse = mean_squared_error(y_test, bagging_regressor_pred)\n",
    "r_two_score = r2_score(y_test, bagging_regressor_pred)\n",
    "ex_variance_score = explained_variance_score(y_test, bagging_regressor_pred)\n",
    "\n",
    "print(f\"Bagging Regressor Model training took {duration:.2f} seconds.\")\n",
    "print(f'Mean Squared Error on Test Set: {mse:.2f}')\n",
    "print(f'r2 score: {r_two_score:.2f}')\n",
    "print(f'explained variance score: {ex_variance_score:.2f}')"
   ],
   "metadata": {
    "collapsed": false
   },
   "id": "204f30092d2a7002"
  }
 ],
 "metadata": {
  "kernelspec": {
   "display_name": "Python 3",
   "language": "python",
   "name": "python3"
  },
  "language_info": {
   "codemirror_mode": {
    "name": "ipython",
    "version": 2
   },
   "file_extension": ".py",
   "mimetype": "text/x-python",
   "name": "python",
   "nbconvert_exporter": "python",
   "pygments_lexer": "ipython2",
   "version": "2.7.6"
  }
 },
 "nbformat": 4,
 "nbformat_minor": 5
}
