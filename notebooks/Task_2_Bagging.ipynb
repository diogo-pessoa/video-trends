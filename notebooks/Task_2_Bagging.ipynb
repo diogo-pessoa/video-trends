{
 "cells": [
  {
   "cell_type": "markdown",
   "source": [
    "Tech Project 2 - Ensemble Methods\n",
    "\n",
    "Diogo Pessoa\n"
   ],
   "metadata": {
    "collapsed": false
   },
   "id": "67a179537fc9ca73"
  },
  {
   "cell_type": "code",
   "outputs": [],
   "source": [
    "# data_file = 'combined_data.csv' # Load variable so data_loader can locale the csv filesystem path accordingly.\n",
    "# %run data_loader.ipynb "
   ],
   "metadata": {
    "collapsed": false
   },
   "id": "2b621884cb57d3b6",
   "execution_count": null
  },
  {
   "cell_type": "code",
   "outputs": [],
   "source": [
    "# %run FeatureEngineering/LassoCV.ipynb"
   ],
   "metadata": {
    "collapsed": false
   },
   "id": "a40ed2ea059cf2f5",
   "execution_count": null
  },
  {
   "cell_type": "markdown",
   "source": [
    "## Voting/Bagging Regressor\n",
    "\n",
    "* [Voting Regressor](https://scikit-learn.org/stable/modules/ensemble.html#voting-regressor)\n",
    "* [Bagging Regressor](https://scikit-learn.org/stable/modules/ensemble.html#bagging-regressor)\n",
    "\n",
    "Deliberately leaving RandomForestRegressor out of this test, since it was already used on initial notebook."
   ],
   "metadata": {
    "collapsed": false
   },
   "id": "a8580980ac76dcb8"
  },
  {
   "cell_type": "code",
   "outputs": [],
   "source": [
    "from sklearn.ensemble import GradientBoostingRegressor\n",
    "from sklearn.ensemble import VotingRegressor\n",
    "from sklearn.ensemble import BaggingRegressor\n",
    "from sklearn.neighbors import KNeighborsRegressor\n",
    "\n",
    "\n",
    "n_estimators=140\n",
    "rd_state=42\n",
    "\n",
    "grad_boosting_regressor = GradientBoostingRegressor(random_state=rd_state, n_estimators=n_estimators)\n",
    "kn_regressor = KNeighborsRegressor(n_neighbors=20, metric='euclidean')\n",
    "bagging_regressor = BaggingRegressor(n_estimators=n_estimators, random_state=rd_state)\n",
    "\n",
    "voting_regressor = VotingRegressor(estimators=[('gb', grad_boosting_regressor), ('knr', kn_regressor)])"
   ],
   "metadata": {
    "collapsed": false
   },
   "id": "fc6128ae26b810ad",
   "execution_count": null
  },
  {
   "cell_type": "code",
   "outputs": [],
   "source": [
    "import time\n",
    "from sklearn.metrics import mean_squared_error, r2_score, explained_variance_score\n",
    "\n",
    "for b in [voting_regressor, bagging_regressor]:\n",
    "  # Record the start time\n",
    "  start_time = time.time()\n",
    "  \n",
    "  b.fit(x_train_reduced_sc, y_train)\n",
    "  # Calculate the duration\n",
    "  end_time = time.time()\n",
    "  duration = end_time - start_time\n",
    "  # Predict\n",
    "  pred = b.predict(x_test_reduced_sc)\n",
    "  # metrics\n",
    "  mse = mean_squared_error(y_test, pred)\n",
    "  r_two_score = r2_score(y_test, pred)\n",
    "  ex_variance_score = explained_variance_score(y_test, pred)\n",
    "  \n",
    "  print(f\"{b.__class__} training took {duration:.4f} seconds.\")\n",
    "  print(f'Mean Squared Error on Test Set: {mse:.4f}')\n",
    "  print(f'r2 score: {r_two_score:.4f}')\n",
    "  print(f'explained variance score: {ex_variance_score:.4f}')"
   ],
   "metadata": {
    "collapsed": false
   },
   "id": "75adfaee1cae65e6",
   "execution_count": null
  }
 ],
 "metadata": {
  "kernelspec": {
   "display_name": "Python 3",
   "language": "python",
   "name": "python3"
  },
  "language_info": {
   "codemirror_mode": {
    "name": "ipython",
    "version": 2
   },
   "file_extension": ".py",
   "mimetype": "text/x-python",
   "name": "python",
   "nbconvert_exporter": "python",
   "pygments_lexer": "ipython2",
   "version": "2.7.6"
  }
 },
 "nbformat": 4,
 "nbformat_minor": 5
}
