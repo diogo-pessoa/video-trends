{
 "cells": [
  {
   "cell_type": "markdown",
   "source": [
    "Tech Project 2 - Ensemble Methods\n",
    "\n",
    "Diogo Pessoa\n"
   ],
   "metadata": {
    "collapsed": false
   },
   "id": "67a179537fc9ca73"
  },
  {
   "cell_type": "code",
   "outputs": [],
   "source": [
    "import pandas as pd"
   ],
   "metadata": {
    "collapsed": false,
    "ExecuteTime": {
     "end_time": "2024-02-16T12:42:43.149775Z",
     "start_time": "2024-02-16T12:42:43.146246Z"
    }
   },
   "id": "6ebcbb388c543dab",
   "execution_count": 17
  },
  {
   "cell_type": "code",
   "outputs": [],
   "source": [
    "combined_data=pd.read_csv('combined_data.csv').set_index('video_id')\n",
    "label = combined_data['label']\n",
    "features = combined_data.drop(['label'],axis=1)"
   ],
   "metadata": {
    "collapsed": false,
    "ExecuteTime": {
     "end_time": "2024-02-16T12:42:43.793184Z",
     "start_time": "2024-02-16T12:42:43.168620Z"
    }
   },
   "id": "e65ee86cb8ad6973",
   "execution_count": 18
  },
  {
   "cell_type": "markdown",
   "source": [
    "## Scaling Dataset features"
   ],
   "metadata": {
    "collapsed": false
   },
   "id": "cb48379f1ee9e6b1"
  },
  {
   "cell_type": "code",
   "outputs": [],
   "source": [
    "from sklearn.model_selection import train_test_split\n",
    "x_train, x_test, y_train, y_test = train_test_split(features.values, label.values, test_size=0.2, random_state=0)\n",
    "from sklearn.preprocessing import StandardScaler\n",
    "sc = StandardScaler()\n",
    "x_train = sc.fit_transform(x_train)\n",
    "x_test = sc.transform(x_test)"
   ],
   "metadata": {
    "collapsed": false,
    "ExecuteTime": {
     "end_time": "2024-02-16T12:42:49.883154Z",
     "start_time": "2024-02-16T12:42:48.673071Z"
    }
   },
   "id": "b5e396c82a83c34c",
   "execution_count": 21
  },
  {
   "cell_type": "code",
   "outputs": [
    {
     "name": "stdout",
     "output_type": "stream",
     "text": [
      "check_data_split [(123653, 38), (30914, 38), (123653,), (30914,)]\n"
     ]
    }
   ],
   "source": [
    "print('check_data_split',[x_train.shape,x_test.shape,y_train.shape,y_test.shape])"
   ],
   "metadata": {
    "collapsed": false,
    "ExecuteTime": {
     "end_time": "2024-02-16T12:08:05.612416Z",
     "start_time": "2024-02-16T12:08:05.608883Z"
    }
   },
   "id": "51631f5ebdbe7d32",
   "execution_count": 12
  },
  {
   "cell_type": "code",
   "outputs": [],
   "source": [
    "# code here\n",
    "from sklearn.decomposition import PCA\n",
    "pca = PCA(n_components=34)\n",
    "x_train_Trans=pca.fit_transform(x_train)\n",
    "x_test_Trans=pca.transform(x_test)"
   ],
   "metadata": {
    "collapsed": false
   },
   "id": "a40ed2ea059cf2f5",
   "execution_count": null
  },
  {
   "cell_type": "markdown",
   "source": [
    "## Voting Regressor to compare different models\n",
    "\n",
    "* [skelarn Voting Regressor](https://scikit-learn.org/stable/modules/ensemble.html#voting-regressor)\n",
    "* [Linear Regression](https://scikit-learn.org/stable/modules/generated/sklearn.linear_model.LinearRegression.html)\n",
    "* [Random Forest Regressor](https://scikit-learn.org/stable/modules/generated/sklearn.ensemble.RandomForestRegressor.html)\n",
    "* [Gradient Boosting Regressor](https://scikit-learn.org/stable/modules/generated/sklearn.ensemble.GradientBoostingRegressor.html)\n",
    "* "
   ],
   "metadata": {
    "collapsed": false
   },
   "id": "a8580980ac76dcb8"
  },
  {
   "cell_type": "code",
   "outputs": [],
   "source": [
    "from sklearn.ensemble import GradientBoostingRegressor\n",
    "from sklearn.ensemble import RandomForestRegressor\n",
    "from sklearn.linear_model import LinearRegression\n",
    "from sklearn.ensemble import VotingRegressor\n",
    "from sklearn.ensemble import AdaBoostRegressor\n",
    "from sklearn.ensemble import BaggingRegressor\n",
    "\n",
    "n_estimators=140 \n",
    "# Training classifiers\n",
    "grad_boosting_regressor = GradientBoostingRegressor(random_state=42, n_estimators=n_estimators)\n",
    "ada_boosting_regressor = AdaBoostRegressor(random_state=42, n_estimators=n_estimators)\n",
    "random_forest_regressor = RandomForestRegressor(random_state=42, n_estimators=n_estimators)\n",
    "bagging_regressor = BaggingRegressor(random_state=1, n_estimators=n_estimators)\n",
    "linear_regr = LinearRegression()\n",
    "voting_reg = VotingRegressor(estimators=[('gb', grad_boosting_regressor), ('rf', random_forest_regressor), ('lr', linear_regr), ('ada_b', ada_boosting_regressor), ('bagging_r', bagging_regressor)]) "
   ],
   "metadata": {
    "collapsed": false
   },
   "id": "fc6128ae26b810ad",
   "execution_count": null
  },
  {
   "cell_type": "code",
   "outputs": [],
   "source": [
    "# Traing models - GradientBoostingRegressor, RandomForestRegressor, LinearRegression, AdaBoostRegressor, BaggingRegressor, VotingRegressor\n",
    "grad_boosting_regressor.fit(x_train_Trans, y_train)\n",
    "ada_boosting_regressor.fit(x_train_Trans, y_train)\n",
    "bagging_regressor.fit(x_train_Trans, y_train)\n",
    "random_forest_regressor.fit(x_train_Trans, y_train)\n",
    "linear_regr.fit(x_train_Trans, y_train)\n",
    "voting_reg.fit(x_train_Trans, y_train)"
   ],
   "metadata": {
    "collapsed": false
   },
   "id": "97d141ae7f8cea39",
   "execution_count": null
  },
  {
   "cell_type": "code",
   "outputs": [],
   "source": [
    "gdb_prediction = grad_boosting_regressor.predict(x_test_Trans)\n",
    "rf_prediction = random_forest_regressor.predict(x_test_Trans)\n",
    "lg_prediction = linear_regr.predict(x_test_Trans)\n",
    "ada_b_prediction = ada_boosting_regressor.predict(x_test_Trans)\n",
    "bagging_r_prediction = bagging_regressor.predict(x_test_Trans)\n",
    "voting_reg_prediction = voting_reg.predict(x_test_Trans)"
   ],
   "metadata": {
    "collapsed": false
   },
   "id": "d01e1e553a60b014",
   "execution_count": null
  },
  {
   "cell_type": "code",
   "outputs": [],
   "source": [
    "from sklearn.metrics import mean_squared_error\n",
    "from sklearn.metrics import r2_score\n",
    "from sklearn.metrics import explained_variance_score\n",
    "\n",
    "print('mean squared error', 'r2 score', 'explained variance score')\n",
    "print('GradientBoostingRegressor',mean_squared_error(y_test, gdb_prediction),r2_score(y_test, gdb_prediction), explained_variance_score(y_test, gdb_prediction))\n",
    "print('RandomForestRegressor',mean_squared_error(y_test, rf_prediction),r2_score(y_test, rf_prediction), explained_variance_score(y_test, rf_prediction))\n",
    "print('LinearRegression',mean_squared_error(y_test, lg_prediction),r2_score(y_test, lg_prediction), explained_variance_score(y_test, lg_prediction))\n",
    "print('AdaBoostRegressor',mean_squared_error(y_test, ada_b_prediction),r2_score(y_test, ada_b_prediction), explained_variance_score(y_test, ada_b_prediction))\n",
    "print('BaggingRegressor',mean_squared_error(y_test, bagging_r_prediction),r2_score(y_test, bagging_r_prediction), explained_variance_score(y_test, bagging_r_prediction))\n",
    "print('VotingRegressor',mean_squared_error(y_test, voting_reg_prediction),r2_score(y_test, voting_reg_prediction), explained_variance_score(y_test, voting_reg_prediction))"
   ],
   "metadata": {
    "collapsed": false
   },
   "id": "fa84919f0189cae4",
   "execution_count": null
  },
  {
   "cell_type": "code",
   "outputs": [],
   "source": [
    "from  matplotlib import pyplot as plt\n",
    "\n",
    "plt.figure(figsize=(14, 10))\n",
    "# plt.plot(rf_prediction, \"b^\", label=\"RandomForestRegressor\")\n",
    "# plt.plot(lg_prediction, \"ys\", label=\"LinearRegression\")\n",
    "# plt.plot(gdb_prediction, \"gd\", label=\"GradientBoostingRegressor\")\n",
    "plt.plot(voting_reg_prediction, \"gd\", ms=10, label=\"VotingRegressor\")\n",
    "plt.plot(ada_b_prediction, \"r*\", label=\"AdaBoostRegressor\")\n",
    "plt.plot(bagging_r_prediction, \"b*\", label=\"BaggingRegressor\")\n",
    "\n",
    "plt.tick_params(axis=\"x\", which=\"both\", bottom=False, top=False, labelbottom=False)\n",
    "plt.ylabel(\"predicted\")\n",
    "plt.xlabel(\"training samples\")\n",
    "plt.legend(loc=\"best\")\n",
    "plt.title(\"Regressor predictions and their average\")\n",
    "\n",
    "plt.show()"
   ],
   "metadata": {
    "collapsed": false
   },
   "id": "7fdae3170c8f7d89",
   "execution_count": null
  },
  {
   "cell_type": "code",
   "outputs": [
    {
     "ename": "NameError",
     "evalue": "name 'AdaBoostRegressor' is not defined",
     "output_type": "error",
     "traceback": [
      "\u001B[0;31m---------------------------------------------------------------------------\u001B[0m",
      "\u001B[0;31mNameError\u001B[0m                                 Traceback (most recent call last)",
      "Cell \u001B[0;32mIn[7], line 4\u001B[0m\n\u001B[1;32m      2\u001B[0m \u001B[38;5;28;01mfrom\u001B[39;00m \u001B[38;5;21;01msklearn\u001B[39;00m\u001B[38;5;21;01m.\u001B[39;00m\u001B[38;5;21;01mmodel_selection\u001B[39;00m \u001B[38;5;28;01mimport\u001B[39;00m GridSearchCV\n\u001B[1;32m      3\u001B[0m \u001B[38;5;66;03m# Only tune the max depth of the trees in the RF hyperparameter.\u001B[39;00m\n\u001B[0;32m----> 4\u001B[0m grid \u001B[38;5;241m=\u001B[39m GridSearchCV(estimator\u001B[38;5;241m=\u001B[39m\u001B[43mAdaBoostRegressor\u001B[49m(), param_grid\u001B[38;5;241m=\u001B[39m{\u001B[38;5;124m'\u001B[39m\u001B[38;5;124mn_estimators\u001B[39m\u001B[38;5;124m'\u001B[39m:[\u001B[38;5;241m140\u001B[39m],\u001B[38;5;124m'\u001B[39m\u001B[38;5;124mrandom_state\u001B[39m\u001B[38;5;124m'\u001B[39m:[\u001B[38;5;241m5\u001B[39m,\u001B[38;5;241m20\u001B[39m,\u001B[38;5;241m42\u001B[39m]},cv\u001B[38;5;241m=\u001B[39m\u001B[38;5;241m5\u001B[39m)\n\u001B[1;32m      5\u001B[0m grid\u001B[38;5;241m.\u001B[39mfit(x_train_Trans, y_train)\n\u001B[1;32m      6\u001B[0m grid\u001B[38;5;241m.\u001B[39mbest_params_\n",
      "\u001B[0;31mNameError\u001B[0m: name 'AdaBoostRegressor' is not defined"
     ]
    }
   ],
   "source": [
    "from sklearn.ensemble import RandomForestRegressor\n",
    "from sklearn.model_selection import GridSearchCV\n",
    "# Only tune the max depth of the trees in the RF hyperparameter.\n",
    "grid = GridSearchCV(estimator=AdaBoostRegressor(), param_grid={'n_estimators':[140],'random_state':[5,20,42]},cv=5)\n",
    "grid.fit(x_train_Trans, y_train)\n",
    "grid.best_params_"
   ],
   "metadata": {
    "collapsed": false,
    "ExecuteTime": {
     "end_time": "2024-02-16T12:05:25.572342Z",
     "start_time": "2024-02-16T12:05:24.912072Z"
    }
   },
   "id": "5ddff260cf237947",
   "execution_count": 7
  },
  {
   "cell_type": "code",
   "outputs": [],
   "source": [
    "%pip install optuna"
   ],
   "metadata": {
    "collapsed": false
   },
   "id": "8c9cb00bc19ae1e8",
   "execution_count": null
  },
  {
   "cell_type": "code",
   "outputs": [],
   "source": [
    "import optuna\n",
    "from sklearn.svm import SVR\n",
    "from sklearn.metrics import mean_squared_error\n",
    "from sklearn.metrics import r2_score\n",
    "from sklearn.metrics import explained_variance_score\n",
    "# Define the objective function\n",
    "def objective(trial):\n",
    "    C = trial.suggest_loguniform('C', 0.001, 100)\n",
    "    gamma = trial.suggest_uniform('gamma', 0.0001, 1)\n",
    "    kernel = trial.suggest_categorical('kernel', ['linear', 'rbf'])\n",
    "\n",
    "    model = SVR(C=C, gamma=gamma, kernel=kernel)\n",
    "    model.fit(x_train, y_train)\n",
    "    pred = model.predict(x_test)\n",
    "    mse = mean_squared_error(y_test, pred)\n",
    "    return mse\n",
    "\n"
   ],
   "metadata": {
    "collapsed": false,
    "ExecuteTime": {
     "end_time": "2024-02-16T14:18:18.542611Z",
     "start_time": "2024-02-16T14:18:18.531986Z"
    }
   },
   "id": "4252d13da6e4b826",
   "execution_count": 23
  },
  {
   "cell_type": "code",
   "outputs": [
    {
     "name": "stderr",
     "output_type": "stream",
     "text": [
      "[I 2024-02-16 14:18:23,400] A new study created in memory with name: no-name-b7ac68a9-7a31-4ae0-a4a4-8cf5cba68618\n",
      "/var/folders/s_/6d26m9ld7d1bdywv1jdxvg500000gp/T/ipykernel_25948/4274395389.py:8: FutureWarning: suggest_loguniform has been deprecated in v3.0.0. This feature will be removed in v6.0.0. See https://github.com/optuna/optuna/releases/tag/v3.0.0. Use suggest_float(..., log=True) instead.\n",
      "  C = trial.suggest_loguniform('C', 0.001, 100)\n",
      "/var/folders/s_/6d26m9ld7d1bdywv1jdxvg500000gp/T/ipykernel_25948/4274395389.py:9: FutureWarning: suggest_uniform has been deprecated in v3.0.0. This feature will be removed in v6.0.0. See https://github.com/optuna/optuna/releases/tag/v3.0.0. Use suggest_float instead.\n",
      "  gamma = trial.suggest_uniform('gamma', 0.0001, 1)\n"
     ]
    }
   ],
   "source": [
    "# Run the optimization\n",
    "study = optuna.create_study(direction='maximize')\n",
    "study.optimize(objective, n_trials=100)\n",
    "print(study.best_trial.params)"
   ],
   "metadata": {
    "collapsed": false,
    "is_executing": true,
    "ExecuteTime": {
     "start_time": "2024-02-16T14:18:23.398319Z"
    }
   },
   "id": "1e1a033c103316ad"
  },
  {
   "cell_type": "code",
   "outputs": [],
   "source": [],
   "metadata": {
    "collapsed": false
   },
   "id": "5687e441fcba1e7c"
  }
 ],
 "metadata": {
  "kernelspec": {
   "display_name": "Python 3",
   "language": "python",
   "name": "python3"
  },
  "language_info": {
   "codemirror_mode": {
    "name": "ipython",
    "version": 2
   },
   "file_extension": ".py",
   "mimetype": "text/x-python",
   "name": "python",
   "nbconvert_exporter": "python",
   "pygments_lexer": "ipython2",
   "version": "2.7.6"
  }
 },
 "nbformat": 4,
 "nbformat_minor": 5
}
