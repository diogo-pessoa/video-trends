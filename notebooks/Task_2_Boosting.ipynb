{
 "cells": [
  {
   "cell_type": "markdown",
   "source": [
    "Tech Project 2 - Comparing Ensemble Methods - Gradient Boosting Regressor\n",
    "\n",
    "Diogo Pessoa\n"
   ],
   "metadata": {
    "collapsed": false
   },
   "id": "67a179537fc9ca73"
  },
  {
   "cell_type": "code",
   "outputs": [],
   "source": [
    "# data_file = 'combined_data.csv'  # Load variable so data_loader can locale the csv filesystem path accordingly.\n",
    "# %run data_loader.ipynb "
   ],
   "metadata": {
    "collapsed": false
   },
   "id": "e65ee86cb8ad6973",
   "execution_count": null
  },
  {
   "cell_type": "code",
   "outputs": [],
   "source": [
    "# %run FeatureEngineering/LassoCV.ipynb"
   ],
   "metadata": {
    "collapsed": false
   },
   "id": "72bbcae5a80459df",
   "execution_count": null
  },
  {
   "cell_type": "markdown",
   "source": [],
   "metadata": {
    "collapsed": false
   },
   "id": "b8b5ba94e800eb3a"
  },
  {
   "cell_type": "code",
   "outputs": [],
   "source": [
    "import time\n",
    "\n",
    "from sklearn.ensemble import GradientBoostingRegressor\n",
    "from sklearn.metrics import mean_squared_error, r2_score, explained_variance_score\n",
    "\n",
    "# gbr_model = GradientBoostingRegressor(random_state=42, n_estimators=200, learning_rate=0.2)\n",
    "gbr_model = GradientBoostingRegressor(random_state=42)\n",
    "\n",
    "start = time.time()\n",
    "\n",
    "gbr_model.fit(x_train_reduced_sc, y_train)\n",
    "\n",
    "# Calculate the duration\n",
    "end_time = time.time()\n",
    "duration = end_time - start_time\n",
    "\n",
    "\n",
    "# Predict \n",
    "pred = gbr_model.predict(x_test_reduced_sc)\n",
    "\n",
    "mse = mean_squared_error(y_test, pred)\n",
    "r_two_score = r2_score(y_test, pred)\n",
    "ex_variance_score = explained_variance_score(y_test, pred)\n",
    "\n",
    "print(f\"{gbr_model.__class__} training took {duration:.4f} seconds.\")\n",
    "print(f'Mean Squared Error on Test Set: {mse:.4f}')\n",
    "print(f'r2 score: {r_two_score:.4f}')\n",
    "print(f'explained variance score: {ex_variance_score:.4f}')"
   ],
   "metadata": {
    "collapsed": false
   },
   "id": "9421f2511059426a",
   "execution_count": null
  }
 ],
 "metadata": {
  "kernelspec": {
   "display_name": "Python 3",
   "language": "python",
   "name": "python3"
  },
  "language_info": {
   "codemirror_mode": {
    "name": "ipython",
    "version": 2
   },
   "file_extension": ".py",
   "mimetype": "text/x-python",
   "name": "python",
   "nbconvert_exporter": "python",
   "pygments_lexer": "ipython2",
   "version": "2.7.6"
  }
 },
 "nbformat": 4,
 "nbformat_minor": 5
}
