{
 "cells": [
  {
   "cell_type": "markdown",
   "source": [
    "Tech Project 2 - Comparing Ensemble Methods - Gradient Boosting Regressor\n",
    "\n",
    "Diogo Pessoa\n"
   ],
   "metadata": {
    "collapsed": false
   },
   "id": "67a179537fc9ca73"
  },
  {
   "cell_type": "code",
   "outputs": [],
   "source": [
    "import pandas as pd\n",
    "combined_data=pd.read_csv('combined_data.csv').set_index('video_id')\n",
    "label = combined_data['label']\n",
    "features = combined_data.drop(['label'],axis=1)"
   ],
   "metadata": {
    "collapsed": false,
    "ExecuteTime": {
     "end_time": "2024-02-17T13:15:10.772692Z",
     "start_time": "2024-02-17T13:15:10.235879Z"
    }
   },
   "id": "e65ee86cb8ad6973",
   "execution_count": 6
  },
  {
   "cell_type": "markdown",
   "source": [
    "## Scaling Dataset features"
   ],
   "metadata": {
    "collapsed": false
   },
   "id": "cb48379f1ee9e6b1"
  },
  {
   "cell_type": "code",
   "outputs": [],
   "source": [
    "from sklearn.model_selection import train_test_split\n",
    "x_train, x_test, y_train, y_test = train_test_split(features.values, label.values, test_size=0.2, random_state=42)\n",
    "from sklearn.preprocessing import StandardScaler\n",
    "sc = StandardScaler()\n",
    "x_train_sc = sc.fit_transform(x_train)\n",
    "x_test_sc = sc.transform(x_test)\n",
    "\n",
    "# code here\n",
    "x_train, x_test, y_train, y_test = train_test_split(features.values, label.values, test_size=0.2, random_state=0)\n",
    "\n",
    "# PCA\n",
    "from sklearn.decomposition import PCA\n",
    "\n",
    "pca = PCA(n_components=34)\n",
    "x_train_Trans = pca.fit_transform(x_train_sc)\n",
    "x_test_Trans = pca.transform(x_test_sc)"
   ],
   "metadata": {
    "collapsed": false,
    "ExecuteTime": {
     "end_time": "2024-02-17T13:15:12.937792Z",
     "start_time": "2024-02-17T13:15:10.774922Z"
    }
   },
   "id": "b5e396c82a83c34c",
   "execution_count": 7
  },
  {
   "cell_type": "markdown",
   "source": [
    "## Training models to generate the baseline scores\n",
    "\n",
    "* [GradientBoostingRegressor](https://scikit-learn.org/stable/modules/generated/sklearn.ensemble.GradientBoostingRegressor.html#sklearn.ensemble.GradientBoostingRegressor)"
   ],
   "metadata": {
    "collapsed": false
   },
   "id": "a8580980ac76dcb8"
  },
  {
   "cell_type": "markdown",
   "source": [
    "Running Kfold Validation optmized parameters Gradient Boosting Descent\n",
    "---"
   ],
   "metadata": {
    "collapsed": false
   },
   "id": "c5fab30d73c7b33a"
  },
  {
   "cell_type": "code",
   "outputs": [],
   "source": [
    "import numpy as np\n",
    "from sklearn.model_selection import KFold, cross_val_score\n",
    "from sklearn.ensemble import GradientBoostingRegressor\n",
    "import time\n",
    "\n",
    "\n",
    "gbr = GradientBoostingRegressor(random_state=42, n_estimators=200, learning_rate=0.2)\n",
    "kf = KFold(n_splits=5, shuffle=True, random_state=42)\n",
    "\n",
    "# Record the start time\n",
    "start_time = time.time()\n",
    "scores = cross_val_score(gbr, x_train_Trans, y_train,  scoring='neg_root_mean_squared_error', cv=kf)\n",
    "\n",
    "# Convert scores to positive (since they are negative mean squared errors)\n",
    "mse_scores = -scores\n",
    "\n",
    "# Calculate RMSE for each fold\n",
    "rmse_scores = np.sqrt(mse_scores)\n",
    "end_time = time.time()\n",
    "\n",
    "# Calculate the duration\n",
    "duration = end_time - start_time"
   ],
   "metadata": {
    "collapsed": false,
    "ExecuteTime": {
     "end_time": "2024-02-17T13:37:48.138496Z",
     "start_time": "2024-02-17T13:15:26.103007Z"
    }
   },
   "id": "8d25fa707fd4c564",
   "execution_count": 9
  },
  {
   "cell_type": "code",
   "outputs": [],
   "source": [
    "print(f\"KFold run took {duration:.2f} seconds.\")\n",
    "print(f\"RMSE scores for each fold: {rmse_scores}\")\n",
    "print(f\"Average RMSE: {np.mean(rmse_scores)}\")"
   ],
   "metadata": {
    "collapsed": false
   },
   "id": "4676a9901e179477",
   "execution_count": null
  },
  {
   "cell_type": "markdown",
   "source": [
    "Running Boosting Method with GradientBoostingRegressor\n",
    "---\n"
   ],
   "metadata": {
    "collapsed": false
   },
   "id": "d202178995628ffe"
  },
  {
   "cell_type": "code",
   "outputs": [],
   "source": [
    "from sklearn.ensemble import GradientBoostingRegressor\n",
    "import time\n",
    "\n",
    "gbr_model = GradientBoostingRegressor(random_state=42, n_estimators=200, learning_rate=0.2)\n",
    "\n",
    "# Record the start time\n",
    "start_time = time.time()\n",
    "gbr_model.fit(x_train_Trans, y_train)\n",
    "# Calculate the duration\n",
    "end_time = time.time()\n",
    "duration = end_time - start_time"
   ],
   "metadata": {
    "collapsed": false
   },
   "id": "9421f2511059426a",
   "execution_count": null
  },
  {
   "cell_type": "code",
   "outputs": [],
   "source": [
    "from sklearn.metrics import mean_squared_error, r2_score, explained_variance_score\n",
    "\n",
    "gbr_pred = gbr_model.predict(x_test_Trans)\n",
    "\n",
    "mse = mean_squared_error(y_test, gbr_pred)\n",
    "r_two_score = r2_score(y_test, gbr_pred)\n",
    "ex_variance_score = explained_variance_score(y_test, gbr_pred)\n",
    "\n",
    "print(f\"Gradient Boosting Regressor Model training took {duration:.2f} seconds.\")\n",
    "print(f'Mean Squared Error on Test Set: {mse}')\n",
    "print(f'r2 score: {r_two_score}')\n",
    "print(f'explained variance score: {ex_variance_score}')"
   ],
   "metadata": {
    "collapsed": false
   },
   "id": "d24cc4501faa95f8",
   "execution_count": null
  }
 ],
 "metadata": {
  "kernelspec": {
   "display_name": "Python 3",
   "language": "python",
   "name": "python3"
  },
  "language_info": {
   "codemirror_mode": {
    "name": "ipython",
    "version": 2
   },
   "file_extension": ".py",
   "mimetype": "text/x-python",
   "name": "python",
   "nbconvert_exporter": "python",
   "pygments_lexer": "ipython2",
   "version": "2.7.6"
  }
 },
 "nbformat": 4,
 "nbformat_minor": 5
}
