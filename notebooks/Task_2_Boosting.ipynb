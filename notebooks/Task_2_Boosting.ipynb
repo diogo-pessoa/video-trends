{
 "cells": [
  {
   "cell_type": "markdown",
   "source": [
    "Tech Project 2 - Comparing Ensemble Methods - Gradient Boosting Regressor\n",
    "\n",
    "Diogo Pessoa\n"
   ],
   "metadata": {
    "collapsed": false
   },
   "id": "67a179537fc9ca73"
  },
  {
   "cell_type": "code",
   "outputs": [],
   "source": [
    "import pandas as pd\n",
    "combined_data=pd.read_csv('combined_data.csv').set_index('video_id')\n",
    "label = combined_data['label']\n",
    "features = combined_data.drop(['label'],axis=1)"
   ],
   "metadata": {
    "collapsed": false,
    "ExecuteTime": {
     "end_time": "2024-02-17T19:15:17.157771Z",
     "start_time": "2024-02-17T19:15:16.449690Z"
    }
   },
   "id": "e65ee86cb8ad6973",
   "execution_count": 10
  },
  {
   "cell_type": "markdown",
   "source": [
    "## Scaling Dataset features"
   ],
   "metadata": {
    "collapsed": false
   },
   "id": "cb48379f1ee9e6b1"
  },
  {
   "cell_type": "code",
   "outputs": [],
   "source": [
    "from sklearn.model_selection import train_test_split\n",
    "x_train, x_test, y_train, y_test = train_test_split(features.values, label.values, test_size=0.2, random_state=42)\n",
    "from sklearn.preprocessing import StandardScaler\n",
    "sc = StandardScaler()\n",
    "x_train_sc = sc.fit_transform(x_train)\n",
    "x_test_sc = sc.transform(x_test)\n",
    "\n",
    "# code here\n",
    "x_train, x_test, y_train, y_test = train_test_split(features.values, label.values, test_size=0.2, random_state=0)\n",
    "\n",
    "# PCA\n",
    "from sklearn.decomposition import PCA\n",
    "\n",
    "pca = PCA(n_components=34)\n",
    "x_train_Trans = pca.fit_transform(x_train_sc)\n",
    "x_test_Trans = pca.transform(x_test_sc)"
   ],
   "metadata": {
    "collapsed": false,
    "ExecuteTime": {
     "end_time": "2024-02-17T19:15:33.726408Z",
     "start_time": "2024-02-17T19:15:31.437545Z"
    }
   },
   "id": "b5e396c82a83c34c",
   "execution_count": 11
  },
  {
   "cell_type": "markdown",
   "source": [
    "## Training models to generate the baseline scores\n",
    "\n",
    "* [GradientBoostingRegressor](https://scikit-learn.org/stable/modules/generated/sklearn.ensemble.GradientBoostingRegressor.html#sklearn.ensemble.GradientBoostingRegressor)"
   ],
   "metadata": {
    "collapsed": false
   },
   "id": "a8580980ac76dcb8"
  },
  {
   "cell_type": "markdown",
   "source": [],
   "metadata": {
    "collapsed": false
   },
   "id": "b8b5ba94e800eb3a"
  },
  {
   "cell_type": "markdown",
   "source": [
    "Running Gradient Boosting Regressor with optmized parameters Gradient Boosting Descent\n",
    "---\n",
    "\n",
    "[Task_2_Stacking.ipynb](notebooks/Task_2_Stacking.ipynb) - Since we're using Gradient Boosting Regressor, as the final estimator. I'll re-use the same parameters from the previous notebook.\n",
    "\n",
    "                  final_estimator=GradientBoostingRegressor(learning_rate=0.2,\n",
    "                                                            n_estimators=200,\n",
    "                                                            random_state=42))\n",
    "\n"
   ],
   "metadata": {
    "collapsed": false
   },
   "id": "c5fab30d73c7b33a"
  },
  {
   "cell_type": "code",
   "outputs": [],
   "source": [
    "from sklearn.ensemble import GradientBoostingRegressor\n",
    "import time\n",
    "\n",
    "gbr_model = GradientBoostingRegressor(random_state=42, n_estimators=200, learning_rate=0.2)\n",
    "\n",
    "# Record the start time\n",
    "start_time = time.time()\n",
    "gbr_model.fit(x_train_Trans, y_train)\n",
    "# Calculate the duration\n",
    "end_time = time.time()\n",
    "duration = end_time - start_time"
   ],
   "metadata": {
    "collapsed": false
   },
   "id": "9421f2511059426a",
   "execution_count": null
  },
  {
   "cell_type": "code",
   "outputs": [],
   "source": [
    "from sklearn.metrics import mean_squared_error, r2_score, explained_variance_score\n",
    "\n",
    "gbr_pred = gbr_model.predict(x_test_Trans)\n",
    "\n",
    "mse = mean_squared_error(y_test, gbr_pred)\n",
    "r_two_score = r2_score(y_test, gbr_pred)\n",
    "ex_variance_score = explained_variance_score(y_test, gbr_pred)\n",
    "\n",
    "print(f\"Gradient Boosting Regressor Model training took {duration:.2f} seconds.\")\n",
    "print(f'Mean Squared Error on Test Set: {mse:.2f}')\n",
    "print(f'r2 score: {r_two_score:.2f}')\n",
    "print(f'explained variance score: {ex_variance_score:.2f}')"
   ],
   "metadata": {
    "collapsed": false
   },
   "id": "d24cc4501faa95f8",
   "execution_count": null
  }
 ],
 "metadata": {
  "kernelspec": {
   "display_name": "Python 3",
   "language": "python",
   "name": "python3"
  },
  "language_info": {
   "codemirror_mode": {
    "name": "ipython",
    "version": 2
   },
   "file_extension": ".py",
   "mimetype": "text/x-python",
   "name": "python",
   "nbconvert_exporter": "python",
   "pygments_lexer": "ipython2",
   "version": "2.7.6"
  }
 },
 "nbformat": 4,
 "nbformat_minor": 5
}
